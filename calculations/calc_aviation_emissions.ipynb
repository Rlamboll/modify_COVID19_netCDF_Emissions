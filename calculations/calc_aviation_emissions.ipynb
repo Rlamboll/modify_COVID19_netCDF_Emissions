{
 "cells": [
  {
   "cell_type": "markdown",
   "metadata": {},
   "source": [
    "# Modify aviation emissions\n",
    "We use data from https://www.flightradar24.com/data/statistics to modify all NOx emissions. For the time period after this, the reduction factor reverts smoothly to 2/3rds the average for the last month we have data for, for the remainder of the 2 years, then returns to baseline. To represent this properly, additional years will be interpolated onto the data. \n",
    "\n",
    "Note that flightradar24 no longer reports the first few days of 2020 for free, so we update the data by adding rows rather than replacing the file. \n",
    "\n",
    "The consortium has so far agreed that only the NOx emissions from aircraft are important enough to model in this detail. If other emissions are desired, it would be necessary to change the variables `nox_input` and `key_variable` to the appropriate values for the new variable, after which the code could be run. "
   ]
  },
  {
   "cell_type": "code",
   "execution_count": 1,
   "metadata": {},
   "outputs": [
    {
     "name": "stderr",
     "output_type": "stream",
     "text": [
      "\n",
      "Bad key \"text.kerning_factor\" on line 4 in\n",
      "C:\\Users\\rlamboll\\AppData\\Local\\Continuum\\anaconda3\\envs\\netcfd-6\\lib\\site-packages\\matplotlib\\mpl-data\\stylelib\\_classic_test_patch.mplstyle.\n",
      "You probably need to get an updated matplotlibrc file from\n",
      "https://github.com/matplotlib/matplotlib/blob/v3.1.3/matplotlibrc.template\n",
      "or from the matplotlib source distribution\n"
     ]
    }
   ],
   "source": [
    "from datetime import date, timedelta, datetime\n",
    "import matplotlib.pyplot as plt\n",
    "import matplotlib\n",
    "import netCDF4 as nc\n",
    "import numpy as np\n",
    "import pandas as pd\n",
    "\n",
    "import os\n",
    "import sys\n",
    "\n",
    "sys.path.append(os.getcwd())\n",
    "from utils import copy_netcdf_file, insert_interpolated_point, cutoff_netcdf_time, cleanup_files"
   ]
  },
  {
   "cell_type": "markdown",
   "metadata": {},
   "source": [
    "# Running options\n",
    "Here are the options for loading files and hopefully the only things that will need to be changed to run the code on different data. Assuming the data is updated monthly, the first two options will need updating every time. Other options will only need updating if you want to do a different calculation. "
   ]
  },
  {
   "cell_type": "code",
   "execution_count": 2,
   "metadata": {},
   "outputs": [],
   "source": [
    "# String appended on the end of all files. Update with every successful run where the data will be used\n",
    "# (both with data change and with protocol change). \n",
    "version_str = \"_v4.5.nc\"  # CHANGE ON UPDATE\n",
    "\n",
    "# which month's data should we use to base the \"long tail\" of the reversion to baseline? As a 2-digit string.\n",
    "# Update if we have enough data to use a later month as the baseline. \n",
    "month_plat = \"06\"  # CHANGE ON UPDATE\n",
    "\n",
    "# variables for loading files\n",
    "input_folder = \"../input/\"\n",
    "output_folder = \"../output/aviation/\"\n",
    "# Name of the input netcdf file to read\n",
    "nox_input = \"CO2-em-AIR-anthro_input4MIPs_emissions_ScenarioMIP_IAMC-MESSAGE-GLOBIOM-ssp245-1-1_gn_201501-210012.nc\"\n",
    "# name of the variable in the file\n",
    "key_variable = \"CO2_em_AIR_anthro\"\n",
    "input_flights = \"total-number-of-flights.csv\"\n",
    "\n",
    "scenario_string = \"_flightrd_mp{}\".format(month_plat)\n",
    "\n",
    "def convert_years_to_days(year):  # Data is recorded in 365-day years\n",
    "    return (year - 2015) * 365\n",
    "\n",
    "# We don't want data after 2050.\n",
    "tcutoff = convert_years_to_days(2050.99)\n",
    "tstart = None\n",
    "\n",
    "# Years to interpolate, as number of years after 2015. \n",
    "yeardif_to_interpolate = [4, 6, 7, 8]  \n",
    "working_string = \"_workings\"\n",
    "\n",
    "daily_for_2020 = True\n",
    "if daily_for_2020:\n",
    "    scenario_string = scenario_string + \"_daily\"\n",
    "    input_flights = \"total-number-of-flights-3yrs.csv\"\n",
    "    tcutoff = convert_years_to_days(2030 + 1 / 12)\n",
    "    tcutoff_final = convert_years_to_days(2020 + 7 / 12)\n",
    "    tstart = convert_years_to_days(2020)"
   ]
  },
  {
   "cell_type": "markdown",
   "metadata": {},
   "source": [
    "Only change lines below here if you know what you're doing. \n",
    "# Calculations begin"
   ]
  },
  {
   "cell_type": "code",
   "execution_count": 3,
   "metadata": {},
   "outputs": [
    {
     "data": {
      "text/html": [
       "<div>\n",
       "<style scoped>\n",
       "    .dataframe tbody tr th:only-of-type {\n",
       "        vertical-align: middle;\n",
       "    }\n",
       "\n",
       "    .dataframe tbody tr th {\n",
       "        vertical-align: top;\n",
       "    }\n",
       "\n",
       "    .dataframe thead th {\n",
       "        text-align: right;\n",
       "    }\n",
       "</style>\n",
       "<table border=\"1\" class=\"dataframe\">\n",
       "  <thead>\n",
       "    <tr style=\"text-align: right;\">\n",
       "      <th></th>\n",
       "      <th>Date</th>\n",
       "      <th>2017</th>\n",
       "      <th>2018</th>\n",
       "      <th>2019</th>\n",
       "      <th>2020</th>\n",
       "    </tr>\n",
       "  </thead>\n",
       "  <tbody>\n",
       "    <tr>\n",
       "      <th>331</th>\n",
       "      <td>27/11/2020</td>\n",
       "      <td>159996.0</td>\n",
       "      <td>172106.0</td>\n",
       "      <td>179689.0</td>\n",
       "      <td>NaN</td>\n",
       "    </tr>\n",
       "    <tr>\n",
       "      <th>332</th>\n",
       "      <td>28/11/2020</td>\n",
       "      <td>162968.0</td>\n",
       "      <td>173544.0</td>\n",
       "      <td>153284.0</td>\n",
       "      <td>NaN</td>\n",
       "    </tr>\n",
       "    <tr>\n",
       "      <th>333</th>\n",
       "      <td>29/11/2020</td>\n",
       "      <td>165255.0</td>\n",
       "      <td>175446.0</td>\n",
       "      <td>165165.0</td>\n",
       "      <td>NaN</td>\n",
       "    </tr>\n",
       "    <tr>\n",
       "      <th>334</th>\n",
       "      <td>30/11/2020</td>\n",
       "      <td>167725.0</td>\n",
       "      <td>173885.0</td>\n",
       "      <td>167407.0</td>\n",
       "      <td>NaN</td>\n",
       "    </tr>\n",
       "    <tr>\n",
       "      <th>335</th>\n",
       "      <td>01/12/2020</td>\n",
       "      <td>168869.0</td>\n",
       "      <td>141667.0</td>\n",
       "      <td>166264.0</td>\n",
       "      <td>NaN</td>\n",
       "    </tr>\n",
       "    <tr>\n",
       "      <th>336</th>\n",
       "      <td>02/12/2020</td>\n",
       "      <td>142774.0</td>\n",
       "      <td>144297.0</td>\n",
       "      <td>181253.0</td>\n",
       "      <td>NaN</td>\n",
       "    </tr>\n",
       "    <tr>\n",
       "      <th>337</th>\n",
       "      <td>03/12/2020</td>\n",
       "      <td>142939.0</td>\n",
       "      <td>165752.0</td>\n",
       "      <td>192123.0</td>\n",
       "      <td>NaN</td>\n",
       "    </tr>\n",
       "    <tr>\n",
       "      <th>338</th>\n",
       "      <td>04/12/2020</td>\n",
       "      <td>154611.0</td>\n",
       "      <td>175837.0</td>\n",
       "      <td>195532.0</td>\n",
       "      <td>NaN</td>\n",
       "    </tr>\n",
       "    <tr>\n",
       "      <th>339</th>\n",
       "      <td>05/12/2020</td>\n",
       "      <td>155260.0</td>\n",
       "      <td>177014.0</td>\n",
       "      <td>197228.0</td>\n",
       "      <td>NaN</td>\n",
       "    </tr>\n",
       "    <tr>\n",
       "      <th>340</th>\n",
       "      <td>06/12/2020</td>\n",
       "      <td>164144.0</td>\n",
       "      <td>175950.0</td>\n",
       "      <td>195281.0</td>\n",
       "      <td>NaN</td>\n",
       "    </tr>\n",
       "    <tr>\n",
       "      <th>341</th>\n",
       "      <td>07/12/2020</td>\n",
       "      <td>164801.0</td>\n",
       "      <td>176473.0</td>\n",
       "      <td>174242.0</td>\n",
       "      <td>NaN</td>\n",
       "    </tr>\n",
       "    <tr>\n",
       "      <th>342</th>\n",
       "      <td>08/12/2020</td>\n",
       "      <td>160127.0</td>\n",
       "      <td>149112.0</td>\n",
       "      <td>163776.0</td>\n",
       "      <td>NaN</td>\n",
       "    </tr>\n",
       "    <tr>\n",
       "      <th>343</th>\n",
       "      <td>09/12/2020</td>\n",
       "      <td>135872.0</td>\n",
       "      <td>146466.0</td>\n",
       "      <td>172272.0</td>\n",
       "      <td>NaN</td>\n",
       "    </tr>\n",
       "    <tr>\n",
       "      <th>344</th>\n",
       "      <td>10/12/2020</td>\n",
       "      <td>139268.0</td>\n",
       "      <td>167795.0</td>\n",
       "      <td>182071.0</td>\n",
       "      <td>NaN</td>\n",
       "    </tr>\n",
       "    <tr>\n",
       "      <th>345</th>\n",
       "      <td>11/12/2020</td>\n",
       "      <td>157393.0</td>\n",
       "      <td>176880.0</td>\n",
       "      <td>191475.0</td>\n",
       "      <td>NaN</td>\n",
       "    </tr>\n",
       "    <tr>\n",
       "      <th>346</th>\n",
       "      <td>12/12/2020</td>\n",
       "      <td>160321.0</td>\n",
       "      <td>180375.0</td>\n",
       "      <td>195798.0</td>\n",
       "      <td>NaN</td>\n",
       "    </tr>\n",
       "    <tr>\n",
       "      <th>347</th>\n",
       "      <td>13/12/2020</td>\n",
       "      <td>162571.0</td>\n",
       "      <td>177843.0</td>\n",
       "      <td>185978.0</td>\n",
       "      <td>NaN</td>\n",
       "    </tr>\n",
       "    <tr>\n",
       "      <th>348</th>\n",
       "      <td>14/12/2020</td>\n",
       "      <td>166998.0</td>\n",
       "      <td>171096.0</td>\n",
       "      <td>155636.0</td>\n",
       "      <td>NaN</td>\n",
       "    </tr>\n",
       "    <tr>\n",
       "      <th>349</th>\n",
       "      <td>15/12/2020</td>\n",
       "      <td>165614.0</td>\n",
       "      <td>153213.0</td>\n",
       "      <td>166464.0</td>\n",
       "      <td>NaN</td>\n",
       "    </tr>\n",
       "    <tr>\n",
       "      <th>350</th>\n",
       "      <td>16/12/2020</td>\n",
       "      <td>144278.0</td>\n",
       "      <td>151360.0</td>\n",
       "      <td>182294.0</td>\n",
       "      <td>NaN</td>\n",
       "    </tr>\n",
       "    <tr>\n",
       "      <th>351</th>\n",
       "      <td>17/12/2020</td>\n",
       "      <td>137716.0</td>\n",
       "      <td>174260.0</td>\n",
       "      <td>181205.0</td>\n",
       "      <td>NaN</td>\n",
       "    </tr>\n",
       "    <tr>\n",
       "      <th>352</th>\n",
       "      <td>18/12/2020</td>\n",
       "      <td>150414.0</td>\n",
       "      <td>179519.0</td>\n",
       "      <td>196224.0</td>\n",
       "      <td>NaN</td>\n",
       "    </tr>\n",
       "    <tr>\n",
       "      <th>353</th>\n",
       "      <td>19/12/2020</td>\n",
       "      <td>156392.0</td>\n",
       "      <td>181531.0</td>\n",
       "      <td>201618.0</td>\n",
       "      <td>NaN</td>\n",
       "    </tr>\n",
       "    <tr>\n",
       "      <th>354</th>\n",
       "      <td>20/12/2020</td>\n",
       "      <td>160071.0</td>\n",
       "      <td>171395.0</td>\n",
       "      <td>199255.0</td>\n",
       "      <td>NaN</td>\n",
       "    </tr>\n",
       "    <tr>\n",
       "      <th>355</th>\n",
       "      <td>21/12/2020</td>\n",
       "      <td>165129.0</td>\n",
       "      <td>193732.0</td>\n",
       "      <td>179561.0</td>\n",
       "      <td>NaN</td>\n",
       "    </tr>\n",
       "    <tr>\n",
       "      <th>356</th>\n",
       "      <td>22/12/2020</td>\n",
       "      <td>156461.0</td>\n",
       "      <td>164279.0</td>\n",
       "      <td>166585.0</td>\n",
       "      <td>NaN</td>\n",
       "    </tr>\n",
       "    <tr>\n",
       "      <th>357</th>\n",
       "      <td>23/12/2020</td>\n",
       "      <td>139488.0</td>\n",
       "      <td>152758.0</td>\n",
       "      <td>176614.0</td>\n",
       "      <td>NaN</td>\n",
       "    </tr>\n",
       "    <tr>\n",
       "      <th>358</th>\n",
       "      <td>24/12/2020</td>\n",
       "      <td>118558.0</td>\n",
       "      <td>134997.0</td>\n",
       "      <td>151230.0</td>\n",
       "      <td>NaN</td>\n",
       "    </tr>\n",
       "    <tr>\n",
       "      <th>359</th>\n",
       "      <td>25/12/2020</td>\n",
       "      <td>101511.0</td>\n",
       "      <td>109645.0</td>\n",
       "      <td>120212.0</td>\n",
       "      <td>NaN</td>\n",
       "    </tr>\n",
       "    <tr>\n",
       "      <th>360</th>\n",
       "      <td>26/12/2020</td>\n",
       "      <td>138278.0</td>\n",
       "      <td>154118.0</td>\n",
       "      <td>166012.0</td>\n",
       "      <td>NaN</td>\n",
       "    </tr>\n",
       "    <tr>\n",
       "      <th>361</th>\n",
       "      <td>27/12/2020</td>\n",
       "      <td>151699.0</td>\n",
       "      <td>166044.0</td>\n",
       "      <td>178009.0</td>\n",
       "      <td>NaN</td>\n",
       "    </tr>\n",
       "    <tr>\n",
       "      <th>362</th>\n",
       "      <td>28/12/2020</td>\n",
       "      <td>153878.0</td>\n",
       "      <td>160459.0</td>\n",
       "      <td>168658.0</td>\n",
       "      <td>NaN</td>\n",
       "    </tr>\n",
       "    <tr>\n",
       "      <th>363</th>\n",
       "      <td>29/12/2020</td>\n",
       "      <td>152398.0</td>\n",
       "      <td>152308.0</td>\n",
       "      <td>161805.0</td>\n",
       "      <td>NaN</td>\n",
       "    </tr>\n",
       "    <tr>\n",
       "      <th>364</th>\n",
       "      <td>30/12/2020</td>\n",
       "      <td>136484.0</td>\n",
       "      <td>148986.0</td>\n",
       "      <td>171317.0</td>\n",
       "      <td>NaN</td>\n",
       "    </tr>\n",
       "    <tr>\n",
       "      <th>365</th>\n",
       "      <td>31/12/2020</td>\n",
       "      <td>119665.0</td>\n",
       "      <td>132625.0</td>\n",
       "      <td>160764.0</td>\n",
       "      <td>NaN</td>\n",
       "    </tr>\n",
       "  </tbody>\n",
       "</table>\n",
       "</div>"
      ],
      "text/plain": [
       "           Date      2017      2018      2019  2020\n",
       "331  27/11/2020  159996.0  172106.0  179689.0   NaN\n",
       "332  28/11/2020  162968.0  173544.0  153284.0   NaN\n",
       "333  29/11/2020  165255.0  175446.0  165165.0   NaN\n",
       "334  30/11/2020  167725.0  173885.0  167407.0   NaN\n",
       "335  01/12/2020  168869.0  141667.0  166264.0   NaN\n",
       "336  02/12/2020  142774.0  144297.0  181253.0   NaN\n",
       "337  03/12/2020  142939.0  165752.0  192123.0   NaN\n",
       "338  04/12/2020  154611.0  175837.0  195532.0   NaN\n",
       "339  05/12/2020  155260.0  177014.0  197228.0   NaN\n",
       "340  06/12/2020  164144.0  175950.0  195281.0   NaN\n",
       "341  07/12/2020  164801.0  176473.0  174242.0   NaN\n",
       "342  08/12/2020  160127.0  149112.0  163776.0   NaN\n",
       "343  09/12/2020  135872.0  146466.0  172272.0   NaN\n",
       "344  10/12/2020  139268.0  167795.0  182071.0   NaN\n",
       "345  11/12/2020  157393.0  176880.0  191475.0   NaN\n",
       "346  12/12/2020  160321.0  180375.0  195798.0   NaN\n",
       "347  13/12/2020  162571.0  177843.0  185978.0   NaN\n",
       "348  14/12/2020  166998.0  171096.0  155636.0   NaN\n",
       "349  15/12/2020  165614.0  153213.0  166464.0   NaN\n",
       "350  16/12/2020  144278.0  151360.0  182294.0   NaN\n",
       "351  17/12/2020  137716.0  174260.0  181205.0   NaN\n",
       "352  18/12/2020  150414.0  179519.0  196224.0   NaN\n",
       "353  19/12/2020  156392.0  181531.0  201618.0   NaN\n",
       "354  20/12/2020  160071.0  171395.0  199255.0   NaN\n",
       "355  21/12/2020  165129.0  193732.0  179561.0   NaN\n",
       "356  22/12/2020  156461.0  164279.0  166585.0   NaN\n",
       "357  23/12/2020  139488.0  152758.0  176614.0   NaN\n",
       "358  24/12/2020  118558.0  134997.0  151230.0   NaN\n",
       "359  25/12/2020  101511.0  109645.0  120212.0   NaN\n",
       "360  26/12/2020  138278.0  154118.0  166012.0   NaN\n",
       "361  27/12/2020  151699.0  166044.0  178009.0   NaN\n",
       "362  28/12/2020  153878.0  160459.0  168658.0   NaN\n",
       "363  29/12/2020  152398.0  152308.0  161805.0   NaN\n",
       "364  30/12/2020  136484.0  148986.0  171317.0   NaN\n",
       "365  31/12/2020  119665.0  132625.0  160764.0   NaN"
      ]
     },
     "execution_count": 3,
     "metadata": {},
     "output_type": "execute_result"
    }
   ],
   "source": [
    "flights_change = pd.read_csv(input_folder + input_flights)\n",
    "flights_change.tail(35)"
   ]
  },
  {
   "cell_type": "code",
   "execution_count": 4,
   "metadata": {},
   "outputs": [],
   "source": [
    "# We will use a baseline of the weekly averaged 2019 data, normalised using Dec/Jan values for 2018/2019 compared to 2019/2020. \n",
    "norm_factor_19 = (flights_change[\"2020\"][:30].append(flights_change[\"2019\"][335:])).mean() / (\n",
    "    flights_change[\"2019\"][:30].append(flights_change[\"2018\"][335:])\n",
    ").mean()\n",
    "norm_factor_18 = (flights_change[\"2020\"][:30].append(flights_change[\"2019\"][335:])).mean() / (\n",
    "    flights_change[\"2018\"][:30].append(flights_change[\"2017\"][335:])\n",
    ").mean()\n",
    "norm_table = pd.Series(\n",
    "    {\n",
    "        ind: np.nanmean((flights_change[\"2019\"][ind:ind+6] * norm_factor_19).append(\n",
    "            flights_change[\"2018\"][ind:ind+6] * norm_factor_18\n",
    "        ) ) for ind in range(\n",
    "            max(flights_change[\"2020\"].dropna().index)\n",
    "        )\n",
    "    }\n",
    ")"
   ]
  },
  {
   "cell_type": "code",
   "execution_count": 8,
   "metadata": {},
   "outputs": [
    {
     "data": {
      "text/plain": [
       "Text(0, 0.5, 'Daily flights')"
      ]
     },
     "execution_count": 8,
     "metadata": {},
     "output_type": "execute_result"
    },
    {
     "data": {
      "image/png": "[encoded data removed]",
      "text/plain": [
       "<Figure size 1152x576 with 1 Axes>"
      ]
     },
     "metadata": {
      "needs_background": "light"
     },
     "output_type": "display_data"
    }
   ],
   "source": [
    "matplotlib.rc(\"font\", **{'size'   : 20})\n",
    "plt.figure(figsize=(16, 8))\n",
    "plt.plot(norm_table)\n",
    "plt.plot(flights_change[\"2020\"])\n",
    "plt.plot(pd.Series({ind: np.nanmean(flights_change[\"2020\"][ind:ind+6]) for ind in range(\n",
    "            max(flights_change[\"2020\"].dropna().index))}))\n",
    "plt.legend([\"Weekly average 2018/19\", \"Daily factor 2020\", \"Weekly average 2020\"])\n",
    "plt.xlabel(\"Days since 1st January\")\n",
    "plt.ylabel(\"Daily flights\")"
   ]
  },
  {
   "cell_type": "markdown",
   "metadata": {},
   "source": [
    "# Complementing the flight data\n",
    "We will use a linear trend to continue the flight data until we reach a level of 2/3rds the average of the last month. "
   ]
  },
  {
   "cell_type": "code",
   "execution_count": 11,
   "metadata": {},
   "outputs": [
    {
     "data": {
      "text/plain": [
       "0     0.838951\n",
       "1     0.994173\n",
       "2     0.991693\n",
       "3     0.938754\n",
       "4     0.974893\n",
       "5     1.038646\n",
       "6     1.031493\n",
       "7     1.022294\n",
       "8     1.063027\n",
       "9     1.053691\n",
       "10    0.889382\n",
       "11    0.929723\n",
       "12    0.970349\n",
       "13    0.962788\n",
       "dtype: float64"
      ]
     },
     "execution_count": 11,
     "metadata": {},
     "output_type": "execute_result"
    }
   ],
   "source": [
    "flights_factor = flights_change[\"2020\"] / norm_table\n",
    "flights_factor.head(14)"
   ]
  },
  {
   "cell_type": "code",
   "execution_count": 10,
   "metadata": {},
   "outputs": [
    {
     "name": "stdout",
     "output_type": "stream",
     "text": [
      "0.6891617084451125\n"
     ]
    }
   ],
   "source": [
    "plat_inds = [date[3:5] == month_plat for date in flights_change[\"Date\"]]\n",
    "flightsplat = 1 - 2 / 3 * (1 - np.mean(flights_factor.loc[plat_inds]))\n",
    "print(flightsplat)"
   ]
  },
  {
   "cell_type": "code",
   "execution_count": null,
   "metadata": {},
   "outputs": [],
   "source": [
    "start_fit = 125\n",
    "fit = np.polyfit(range(len(flights_factor.dropna()))[start_fit:], flights_factor.dropna()[start_fit:], 1)\n",
    "xs = range(start_fit, 366)\n",
    "fitted_trend = np.poly1d(fit)(xs)\n",
    "print(flightsplat)"
   ]
  },
  {
   "cell_type": "code",
   "execution_count": null,
   "metadata": {},
   "outputs": [],
   "source": [
    "flights_list = flights_factor.dropna().to_list() + [\n",
    "    min(np.poly1d(fit)(x), flightsplat) for x in range(len(flights_factor.dropna()), 366)\n",
    "]"
   ]
  },
  {
   "cell_type": "code",
   "execution_count": null,
   "metadata": {},
   "outputs": [],
   "source": [
    "plt.figure(figsize=(16, 8))\n",
    "plt.plot(flights_factor)\n",
    "plt.plot(range(366), flights_list, linestyle=\"--\")"
   ]
  },
  {
   "cell_type": "code",
   "execution_count": null,
   "metadata": {},
   "outputs": [],
   "source": [
    "flights = pd.DataFrame({\"Flights\": flights_list, \"month\": None})\n",
    "flights"
   ]
  },
  {
   "cell_type": "code",
   "execution_count": null,
   "metadata": {},
   "outputs": [],
   "source": [
    "flights[\"date\"] = [date(year = 2020, month = 1, day = 1) + timedelta(days=i) for i in flights.index]\n",
    "flights[\"month\"] = [i.month for i in flights[\"date\"]]\n",
    "flights[\"date\"]"
   ]
  },
  {
   "cell_type": "code",
   "execution_count": null,
   "metadata": {},
   "outputs": [],
   "source": [
    "flights"
   ]
  },
  {
   "cell_type": "code",
   "execution_count": null,
   "metadata": {},
   "outputs": [],
   "source": [
    "if daily_for_2020:\n",
    "    def weekly_group(x):\n",
    "        return x // 7\n",
    "    flights[\"week\"] = weekly_group(flights.index)\n",
    "    weekly_flight_chng = flights.groupby(\"week\").mean()\n",
    "    weekly_flight_chng\n",
    "else:\n",
    "    monthly_flight_chng = flights.groupby(\"month\").mean() / flights0\n",
    "    monthly_flight_chng"
   ]
  },
  {
   "cell_type": "markdown",
   "metadata": {},
   "source": [
    "## Add interpolated years\n",
    "To ensure that 2020 is anomalous, we will interpolate the expected values from 2019, 2021, 2022 and 2023 before modifying 2020. days\n",
    "If we only want daily data we only take the fraction of 2020 we need. "
   ]
  },
  {
   "cell_type": "code",
   "execution_count": null,
   "metadata": {},
   "outputs": [],
   "source": [
    "# Since the data is extensive, we will cut it up first\n",
    "start = datetime.now()\n",
    "data = cutoff_netcdf_time(input_folder, output_folder, nox_input, tcutoff, scenario_string=\"\", compress=False)\n",
    "end = datetime.now()\n",
    "print(end - start)"
   ]
  },
  {
   "cell_type": "code",
   "execution_count": null,
   "metadata": {},
   "outputs": [],
   "source": [
    "start = datetime.now()\n",
    "if not daily_for_2020:\n",
    "    for yeardif in yeardif_to_interpolate:\n",
    "        for i in range(1,13):\n",
    "            insert_interpolated_point(data, yeardif * 365 + data.variables[\"time\"][(i - 1)], 12, i)\n",
    "        end = datetime.now()\n",
    "        print(end - start)\n",
    "        print(\"Inserted data for {}\".format(yeardif))\n",
    "else:\n",
    "    days = 5 * 365 + np.arange(0, 366, 7)\n",
    "    for day in days:\n",
    "        if day not in data.variables[\"time\"][:]:\n",
    "            insert_interpolated_point(data, day, 1, 1)\n",
    "            print(\"Inserted data for {}\".format(day))\n",
    "    end = datetime.now()\n",
    "    print(end - start)\n",
    "    "
   ]
  },
  {
   "cell_type": "code",
   "execution_count": null,
   "metadata": {},
   "outputs": [],
   "source": [
    "plt.plot(data.variables[\"time\"])"
   ]
  },
  {
   "cell_type": "markdown",
   "metadata": {},
   "source": [
    "# Perform the emissions modifications\n",
    "We reduce the emissions in 2020 by a continuously changing amount, and the emissions in 2021 by a constant amount. First we copy and compress the interpolated data, then we modify it as a separate file. "
   ]
  },
  {
   "cell_type": "code",
   "execution_count": null,
   "metadata": {},
   "outputs": [],
   "source": [
    "data.close()\n",
    "if daily_for_2020:\n",
    "    # We want to cut off slightly more data \n",
    "    data = cutoff_netcdf_time(\n",
    "        output_folder, output_folder, \n",
    "        \"cut_\" + nox_input, tcutoff_final, \"_baseline\" + version_str, \n",
    "        tstart=tstart, compress=True, remove_string=\"cut_\"\n",
    "    )\n",
    "else:\n",
    "    data = copy_netcdf_file(\n",
    "        \"cut_\" + nox_input, output_folder, output_folder, \"_baseline\" + version_str, compress=True\n",
    "    )\n",
    "data.close()"
   ]
  },
  {
   "cell_type": "code",
   "execution_count": null,
   "metadata": {},
   "outputs": [],
   "source": [
    "if daily_for_2020:\n",
    "    data = cutoff_netcdf_time(\n",
    "        output_folder, output_folder, \n",
    "        \"cut_\" + nox_input, tcutoff_final, working_string + version_str, \n",
    "        tstart=tstart, compress=True, remove_string=\"cut_\"\n",
    "    )\n",
    "    output = data.variables[key_variable][:]\n",
    "    for ind, time in enumerate(data.variables[\"time\"][:]):\n",
    "        output[:, ind, ...] *= weekly_flight_chng[\"Flights\"].loc[(time - 365 * 5) // 7]\n",
    "else:\n",
    "    data = copy_netcdf_file(\n",
    "        \"cut_\" + nox_input, output_folder, output_folder, working_string, compress=False\n",
    "    )\n",
    "    output = data.variables[key_variable][:]\n",
    "    for time in range(1, 13):\n",
    "        timeind = np.where(\n",
    "            abs(data.variables[\"time\"][:] - convert_years_to_days(2020 + (time - 0.5)/12)) == min(\n",
    "                abs(data.variables[\"time\"][:] - convert_years_to_days(2020 + (time - 0.5)/12))\n",
    "            )\n",
    "        )\n",
    "        output[timeind, ...] *= monthly_flight_chng[\"Flights\"].loc[time]\n",
    "        # Then perform the factor-constant part for 2021\n",
    "        timeind = np.where(\n",
    "            abs(data.variables[\"time\"][:] - convert_years_to_days(2021 + (time - 0.5)/12)) == min(\n",
    "                abs(data.variables[\"time\"][:] - convert_years_to_days(2021 + (time - 0.5)/12))\n",
    "            )\n",
    "        )    \n",
    "        output[timeind, ...] *= monthly_flight_chng[\"Flights\"].iloc[-1]"
   ]
  },
  {
   "cell_type": "code",
   "execution_count": null,
   "metadata": {},
   "outputs": [],
   "source": [
    "plt.figure(figsize=(16, 8))\n",
    "plt.plot(data.variables[\"time\"][:] / 365 + 2015, data.variables[key_variable][0, :,  283, 360], linewidth=2.5)\n",
    "plt.plot(data.variables[\"time\"][:] / 365 + 2015, output[0, :, 283, 360],  linestyle=\"--\")"
   ]
  },
  {
   "cell_type": "code",
   "execution_count": null,
   "metadata": {},
   "outputs": [],
   "source": [
    "data.variables[key_variable][...] = output[...]\n",
    "data.close()\n",
    "# We also want to compress the data again\n",
    "data = copy_netcdf_file(\n",
    "    \"cut_\" + nox_input + working_string + version_str, output_folder, output_folder, \n",
    "    scenario_string + version_str, compress=True, remove_string=working_string\n",
    ")"
   ]
  },
  {
   "cell_type": "code",
   "execution_count": null,
   "metadata": {},
   "outputs": [],
   "source": [
    "plt.figure(figsize=(16, 8))\n",
    "plt.plot(data.variables[\"time\"][:] / 365 + 2015, output[0, :, 283, 360],  linestyle=\"--\")"
   ]
  },
  {
   "cell_type": "code",
   "execution_count": null,
   "metadata": {},
   "outputs": [],
   "source": [
    "data.close()"
   ]
  },
  {
   "cell_type": "code",
   "execution_count": null,
   "metadata": {},
   "outputs": [],
   "source": [
    "# This function will delete the files we don't want\n",
    "cleanup_files(output_folder, working_string + version_str, scenario_string)"
   ]
  }
 ],
 "metadata": {
  "kernelspec": {
   "display_name": "Python 3",
   "language": "python",
   "name": "python3"
  },
  "language_info": {
   "codemirror_mode": {
    "name": "ipython",
    "version": 3
   },
   "file_extension": ".py",
   "mimetype": "text/x-python",
   "name": "python",
   "nbconvert_exporter": "python",
   "pygments_lexer": "ipython3",
   "version": "3.7.7"
  }
 },
 "nbformat": 4,
 "nbformat_minor": 4
}
