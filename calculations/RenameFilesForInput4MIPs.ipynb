{
 "cells": [
  {
   "cell_type": "markdown",
   "metadata": {},
   "source": [
    "# Rename files for input4mips"
   ]
  },
  {
   "cell_type": "code",
   "execution_count": 1,
   "metadata": {},
   "outputs": [],
   "source": [
    "from datetime import datetime\n",
    "import netCDF4 as nc\n",
    "import uuid\n",
    "import os"
   ]
  },
  {
   "cell_type": "code",
   "execution_count": 2,
   "metadata": {},
   "outputs": [],
   "source": [
    "infolder_list = [\n",
    "    \"../output/GHGs/\",\n",
    "    \"../output/aerosols/\", \n",
    "    \"../output/aviation/\", \n",
    "]\n",
    "outfolder = \"../output/input4mips/\"\n",
    "# Possible file input strings\n",
    "versions_list = [\n",
    "    \"v4\",\n",
    "    \"v4.8.1\",\n",
    "    \"v4.8\",\n",
    "]\n",
    "# The version in file strings output, no \".\" and no \"v\"\n",
    "print_version = \"4-8-1\"\n",
    "assert len(versions_list) == len(infolder_list)"
   ]
  },
  {
   "cell_type": "code",
   "execution_count": 16,
   "metadata": {},
   "outputs": [
    {
     "name": "stdout",
     "output_type": "stream",
     "text": [
      "UoM-MESSAGE-GLOBIOM-ssp245-1-2-1: MESSAGE-GLOBIOM-ssp245 GHG concentrations: global and hemispheric means of CO2 prepared for input4MIPs\n",
      "Mole fractions of CO2 prepared for input4MIPs\n",
      "UoM-MESSAGE-GLOBIOM-ssp245-1-2-1: MESSAGE-GLOBIOM-ssp245 GHG concentrations: global and hemispheric means of CH4 prepared for input4MIPs\n",
      "Mole fractions of CH4 prepared for input4MIPs\n",
      "UoM-MESSAGE-GLOBIOM-ssp245-1-2-1: MESSAGE-GLOBIOM-ssp245 GHG concentrations: global and hemispheric means of N2O prepared for input4MIPs\n",
      "Mole fractions of N2O prepared for input4MIPs\n"
     ]
    }
   ],
   "source": [
    "target_mip = \"DAMIP\"\n",
    "old_long_scen_name = \"IAMC-MESSAGE-GLOBIOM_SSP2-45-SPA2\"\n",
    "for ind in range(len(infolder_list)):\n",
    "    infolder = infolder_list[ind]\n",
    "    version = versions_list[ind]\n",
    "    files = os.listdir(infolder)\n",
    "    files = [file for file in files if (file.__contains__(version))]\n",
    "\n",
    "    for file in files:\n",
    "        compress = True\n",
    "        newfilename = file[4:].split(\".nc\")[0]\n",
    "        if infolder.__contains__(\"aerosols\"):\n",
    "            scenario = file.split(\".nc_\")[1]\n",
    "            scenario = scenario[:-3]\n",
    "        elif infolder.__contains__(\"aviation\"):\n",
    "            scenario = file.split(\"_\" + version)[0].split(\"_\")[-1]\n",
    "            newfilename = newfilename.replace(scenario, \"\")\n",
    "            if scenario.__contains__(\"4year\"):\n",
    "                scenario = \"FourYearBlip\"\n",
    "            elif scenario.__contains__(\"baseline\"):\n",
    "                scenario = \"baseline\"\n",
    "            elif scenario.__contains__(\"mp06\"):\n",
    "                scenario = \"TwoYearBlip\"\n",
    "            else:\n",
    "                raise ValueError\n",
    "        elif infolder.__contains__(\"GHGs\"):\n",
    "            scenario = file.replace(\"_\" + version, \"\").split(\".nc\")[1]\n",
    "        if file.__contains__(\"baseline\") | file.__contains__(\"Base\"):\n",
    "            #print(\"Skip file {}\".format(file))\n",
    "            continue\n",
    "        elif scenario == \"TwoYearBlip\":\n",
    "            scenario_label = \"ssp245-covid\"\n",
    "        else:\n",
    "            continue\n",
    "            \"\"\"\n",
    "        elif scenario == \"FourYearBlip\":\n",
    "            scenario_label = \"ssp245-covid4y\"\n",
    "        elif scenario == \"ModerateGreen\":\n",
    "            scenario_label = \"ssp245-cov-modgreen\"\n",
    "        elif scenario == \"FossilFuel\":\n",
    "            scenario_label = \"ssp245-cov-fossil\"\n",
    "        elif scenario == \"StrongGreen\":\n",
    "            scenario_label = \"ssp245-cov-strgreen\"\n",
    "        else:\n",
    "            print(\"Cannot find the name for {}\".format(scenario))\n",
    "            raise ValueError\n",
    "        \"\"\"\n",
    "        long_new_label = \"ImperialCollege-\" + scenario_label + \"-\" + print_version\n",
    "        newfilename = newfilename.replace(scenario + \"_\", \"\").replace(\"ScenarioMIP\", target_mip).replace(\n",
    "            \"ScenarioMIP\", target_mip\n",
    "        ).replace(\n",
    "            \"-1-1\", \"\").replace(\"-1-2-1\", \"\").replace(\"IAMC-\", \"\").replace(\"UoM-\", \"\"\n",
    "        ).replace(\n",
    "            \"MESSAGE-GLOBIOM-ssp245\", long_new_label\n",
    "        ).replace(\"4year_\", \"\").replace(\"201501-210012\", \"201501-205012\") + \".nc\"\n",
    "        #print(scenario)\n",
    "        #print(newfilename)\n",
    "\n",
    "        ## Copy the previous file details\n",
    "\n",
    "        db = nc.Dataset(os.path.join(infolder, file))\n",
    "        trg = nc.Dataset(os.path.join(outfolder, newfilename), mode=\"w\")\n",
    "        # Create the dimensions of the file\n",
    "        for name, dim in db.dimensions.items():\n",
    "            trg.createDimension(\n",
    "                name, len(dim) if not (dim.isunlimited()) and not (name == \"time\") else None\n",
    "            )\n",
    "\n",
    "        # Copy the global attributes\n",
    "        trg.setncatts({a: db.getncattr(a) for a in db.ncattrs()})\n",
    "\n",
    "        for name, var in db.variables.items():\n",
    "            if compress:\n",
    "                trg.createVariable(\n",
    "                    name, var.dtype, var.dimensions, complevel=9, shuffle=True, zlib=True\n",
    "                )\n",
    "            else:\n",
    "                trg.createVariable(name, var.dtype, var.dimensions)\n",
    "\n",
    "            # Copy the variable attributes\n",
    "            trg.variables[name].setncatts({a: var.getncattr(a) for a in var.ncattrs()})\n",
    "\n",
    "            # Copy the variables values, removing some times if needed\n",
    "            trg.variables[name][:] = db.variables[name][:]\n",
    "\n",
    "\n",
    "        # Rewrite the meta variables\n",
    "        trg.comment = db.comment.replace(\n",
    "            old_long_scen_name, scenario + \", based on \" + old_long_scen_name + \n",
    "            \" modified by the impacts of lockdown for coronavirus\"\n",
    "        )\n",
    "        trg.contact = \"Robin D. Lamboll (r.lamboll@imperial.ac.uk)\"\n",
    "        trg.creation_date = datetime.now().strftime(\"%Y-%m-%dT%H:%M:%SZ\")\n",
    "        trg.institution = \"Imperial College London, South Kensington Campus, London SW7 2AZ, UK\"\n",
    "        trg.institution_id = \"ImperialCollege\"\n",
    "        trg.references = \"https://doi.org/10.5194/gmd-2020-373\"\n",
    "        trg.source_id = long_new_label\n",
    "        trg.source_version = print_version\n",
    "        trg.license = trg.license.replace(\"ScenarioMIP\", target_mip).replace(\n",
    "            \"the IAMC\", \"ICL (derived from IAMC scenario data)\"\n",
    "        ).replace(\"UoM\", \"ICL (derived from UoM scenario data)\")\n",
    "        trg.target_mip = \"DAMIP\"\n",
    "        uuidVal = str(uuid.uuid4())\n",
    "        trg.tracking_id = '/'.join(['hdl:21.14100',uuidVal])\n",
    "        trg.further_info_url = \"https://zenodo.org/record/3957826#.YLgLaahKhPY\"\n",
    "        if not infolder.__contains__(\"GHGs\"):\n",
    "            trg.source = \"Imperial College \" + print_version + \": Gridded emissions data produced by modifying \" + \\\n",
    "                old_long_scen_name + \" scenario with the effects of lockdown. The original file can be found by searching\" \\\n",
    "                \" https://esgf-node.llnl.gov/search/input4mips/?institution_id=IAMC&source_id=IAMC-MESSAGE-GLOBIOM-ssp245-1-1\"\n",
    "            trg.data_usage_tips = \"Note that these are monthly average emissions. Note also that emissions are provided in uneven year intervals.\"\n",
    "        else:\n",
    "            trg.source = \"Imperial College \" + print_version + \": GHG data produced by modifying \" + \\\n",
    "            old_long_scen_name + \" scenario with the effects of lockdown. The original file can be found by searching\" \\\n",
    "                \" https://esgf-node.llnl.gov/search/input4mips/?institution_id=UoM&source_id=UoM-MESSAGE-GLOBIOM-ssp245-1-2-1\"\n",
    "            trg.data_usage_tips = \"Note that these are monthly average concentrations.\"\n",
    "            print(trg.title)\n",
    "            species = species = \"CO2\" if \"carbon-dioxide\" in newfilename else \"N2O\" \\\n",
    "                if \"nitrous-oxide\" in newfilename else \"CH4\" if \"methane\" in newfilename else \"Error\"\n",
    "            if species == \"Error\":\n",
    "                raise ValueError\n",
    "            trg.title = \"Mole fractions of \" + species + \" prepared for input4MIPs\"\n",
    "            print(trg.title)\n",
    "        db.close()\n",
    "        trg.close()\n"
   ]
  },
  {
   "cell_type": "code",
   "execution_count": 17,
   "metadata": {},
   "outputs": [
    {
     "data": {
      "text/plain": [
       "<class 'netCDF4._netCDF4.Dataset'>\n",
       "root group (NETCDF4 data model, file format HDF5):\n",
       "    dataset_category: GHGConcentrations\n",
       "    source_version: 4-8-1\n",
       "    activity_id: input4MIPs\n",
       "    Conventions: CF-1.6\n",
       "    creation_date: 2021-06-15T16:24:33Z\n",
       "    frequency: mon\n",
       "    realm: atmos\n",
       "    tracking_id: hdl:21.14100/99c82c67-1b69-4b84-a122-a850e36aab50\n",
       "    product: assimilated observations; forward projections produced with MAGICC7.0; see www.magicc.org\n",
       "    mip_era: CMIP6\n",
       "    table_id: input4MIPs\n",
       "    grid: global and hemispheric means - area-averages from the original latitudinal 15-degree bands\n",
       "    grid_label: gr1-GMNHSH\n",
       "    nominal_resolution: 10000 km\n",
       "    variable_id: mole_fraction_of_carbon_dioxide_in_air\n",
       "    comment: Note: Zonal means for 15-degree lat bands or 0.5-degree lat bands available in _gr0p5x360_ or _gr15x360_ files. Here: _GM: global mean; _NH: northern hemispheric mean; _SH: southern hemispheric mean;\n",
       "    title: Mole fractions of CO2 prepared for input4MIPs\n",
       "    institution_id: ImperialCollege\n",
       "    institution: Imperial College London, South Kensington Campus, London SW7 2AZ, UK\n",
       "    source: Imperial College 4-8-1: GHG data produced by modifying IAMC-MESSAGE-GLOBIOM_SSP2-45-SPA2 scenario with the effects of lockdown. The original file can be found by searching https://esgf-node.llnl.gov/search/input4mips/?institution_id=UoM&source_id=UoM-MESSAGE-GLOBIOM-ssp245-1-2-1\n",
       "    source_id: ImperialCollege-ssp245-covid-4-8-1\n",
       "    further_info_url: https://zenodo.org/record/3957826#.YLgLaahKhPY\n",
       "    license: GHG concentrations produced by ICL (derived from UoM scenario data) are licensed under a Creative Commons Attribution \\\"Share Alike\\\" 4.0 International License (http://creativecommons.org/licenses/by/4.0/). The data producers and data providers make no warranty, either express or implied, including but not limited to, warranties of merchantability and fitness for a particular purpose. All liabilities arising from the supply of the information (including any liability arising in negligence) are excluded to the fullest extent permitted by law\n",
       "    target_mip: DAMIP\n",
       "    contact: Robin D. Lamboll (r.lamboll@imperial.ac.uk)\n",
       "    references: https://doi.org/10.5194/gmd-2020-373\n",
       "    data_usage_tips: Note that these are monthly average concentrations.\n",
       "    dimensions(sizes): time(432), bound(2), sector(3)\n",
       "    variables(dimensions): float64 time(time), float64 time_bnds(time,bound), int64 sector(sector), float64 sector_bnds(sector,bound), float64 mole_fraction_of_carbon_dioxide_in_air(time,sector)\n",
       "    groups: "
      ]
     },
     "execution_count": 17,
     "metadata": {},
     "output_type": "execute_result"
    }
   ],
   "source": [
    "# Test that we have successfully created a variable with named attributes\n",
    "test = nc.Dataset(outfolder + \"mole-fraction-of-carbon-dioxide-in-air_input4MIPs_GHGConcentrations_DAMIP_ImperialCollege-ssp245-covid-4-8-1_gr1-GMNHSH_201501-250012.nc\")\n",
    "test"
   ]
  },
  {
   "cell_type": "code",
   "execution_count": null,
   "metadata": {},
   "outputs": [],
   "source": [
    "test.close()\n",
    "test2 = nc.Dataset(outfolder + \"NOx-em-AIR-anthro_input4MIPs_emissions_DAMIP_ImperialCollege-ssp245-covid-4-8-1_gn_201501-205012.nc\")\n",
    "test2"
   ]
  },
  {
   "cell_type": "code",
   "execution_count": null,
   "metadata": {},
   "outputs": [],
   "source": [
    "test2.close()"
   ]
  },
  {
   "cell_type": "code",
   "execution_count": 7,
   "metadata": {},
   "outputs": [
    {
     "data": {
      "text/plain": [
       "'mole-fraction-of-nitrous-oxide-in-air_input4MIPs_GHGConcentrations_DAMIP_ImperialCollege-ssp245-covid-4-8-1_gr1-GMNHSH_201501-250012.nc'"
      ]
     },
     "execution_count": 7,
     "metadata": {},
     "output_type": "execute_result"
    }
   ],
   "source": [
    "newfilename"
   ]
  },
  {
   "cell_type": "code",
   "execution_count": 11,
   "metadata": {},
   "outputs": [
    {
     "data": {
      "text/plain": [
       "'N2O'"
      ]
     },
     "execution_count": 11,
     "metadata": {},
     "output_type": "execute_result"
    }
   ],
   "source": [
    "\n",
    "species"
   ]
  }
 ],
 "metadata": {
  "kernelspec": {
   "display_name": "netcdf-5",
   "language": "python",
   "name": "netcdf-5"
  },
  "language_info": {
   "codemirror_mode": {
    "name": "ipython",
    "version": 3
   },
   "file_extension": ".py",
   "mimetype": "text/x-python",
   "name": "python",
   "nbconvert_exporter": "python",
   "pygments_lexer": "ipython3",
   "version": "3.7.7"
  }
 },
 "nbformat": 4,
 "nbformat_minor": 4
}
