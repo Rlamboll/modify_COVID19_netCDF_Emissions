{
 "cells": [
  {
   "cell_type": "markdown",
   "metadata": {},
   "source": [
    "# Rename files for input4mips"
   ]
  },
  {
   "cell_type": "code",
   "execution_count": 1,
   "metadata": {},
   "outputs": [],
   "source": [
    "from datetime import datetime\n",
    "import netCDF4 as nc\n",
    "import os"
   ]
  },
  {
   "cell_type": "code",
   "execution_count": 2,
   "metadata": {},
   "outputs": [],
   "source": [
    "infolder_list = [\n",
    "    \"../output/aerosols/\", \n",
    "    \"../output/aviation/\", \n",
    "    \"../output/GHGs/\"\n",
    "]\n",
    "outfolder = \"../output/input4mips/\"\n",
    "versions_list = [\n",
    "    \"v4.8.1\",\n",
    "    \"v4.8\",\n",
    "    \"v4\"\n",
    "]\n",
    "print_version = \"v4.8.1\"\n",
    "assert len(versions_list) == len(infolder_list)"
   ]
  },
  {
   "cell_type": "code",
   "execution_count": 3,
   "metadata": {},
   "outputs": [
    {
     "name": "stdout",
     "output_type": "stream",
     "text": [
      "Skip file cut_NOx-em-AIR-anthro_input4MIPs_emissions_ScenarioMIP_IAMC-MESSAGE-GLOBIOM-ssp245-1-1_gn_201501-210012.nc_baseline4year_v4.8.nc\n",
      "Skip file cut_NOx-em-AIR-anthro_input4MIPs_emissions_ScenarioMIP_IAMC-MESSAGE-GLOBIOM-ssp245-1-1_gn_201501-210012.nc_baseline_v4.8nc\n",
      "FourYearBlip\n",
      "NOx-em-AIR-anthro_input4MIPs_CovidMIP_Imperial_ssp245-covid4y_v4.8.1_gn_201501-205012.nc\n"
     ]
    },
    {
     "name": "stderr",
     "output_type": "stream",
     "text": [
      "C:\\Users\\rlamboll\\AppData\\Local\\Continuum\\anaconda3\\envs\\netcdf-5\\lib\\site-packages\\ipykernel_launcher.py:65: DeprecationWarning: tostring() is deprecated. Use tobytes() instead.\n",
      "C:\\Users\\rlamboll\\AppData\\Local\\Continuum\\anaconda3\\envs\\netcdf-5\\lib\\site-packages\\ipykernel_launcher.py:76: DeprecationWarning: tostring() is deprecated. Use tobytes() instead.\n",
      "C:\\Users\\rlamboll\\AppData\\Local\\Continuum\\anaconda3\\envs\\netcdf-5\\lib\\site-packages\\ipykernel_launcher.py:84: DeprecationWarning: tostring() is deprecated. Use tobytes() instead.\n"
     ]
    },
    {
     "name": "stdout",
     "output_type": "stream",
     "text": [
      "TwoYearBlip\n",
      "NOx-em-AIR-anthro_input4MIPs_CovidMIP_Imperial_ssp245-covid_v4.8.1_gn_201501-205012.nc\n"
     ]
    }
   ],
   "source": [
    "target_mip = \"CovidMIP\"\n",
    "old_long_scen_name = \"IAMC-MESSAGE-GLOBIOM_SSP2-45-SPA2\"\n",
    "for ind in range(len(infolder_list)):\n",
    "    infolder = infolder_list[ind]\n",
    "    version = versions_list[ind]\n",
    "    files = os.listdir(infolder)\n",
    "    files = [file for file in files if (file.__contains__(version))]\n",
    "\n",
    "    for file in files:\n",
    "        compress = True\n",
    "        newfilename = file[4:].split(\".nc\")[0]\n",
    "        if infolder.__contains__(\"aerosols\"):\n",
    "            scenario = file.split(\".nc_\")[1]\n",
    "            scenario = scenario[:-3]\n",
    "        elif infolder.__contains__(\"aviation\"):\n",
    "            scenario = file.split(\"_\" + version)[0].split(\"_\")[-1]\n",
    "            newfilename = newfilename.replace(scenario, \"\")\n",
    "            if scenario.__contains__(\"4year\"):\n",
    "                scenario = \"FourYearBlip\"\n",
    "            elif scenario.__contains__(\"baseline\"):\n",
    "                scenario = \"baseline\"\n",
    "            elif scenario.__contains__(\"mp06\"):\n",
    "                scenario = \"TwoYearBlip\"\n",
    "            else:\n",
    "                raise ValueError\n",
    "        elif infolder.__contains__(\"GHGs\"):\n",
    "            scenario = file.replace(\"_\" + version, \"\").split(\".nc\")[1]\n",
    "        if file.__contains__(\"baseline\") | file.__contains__(\"Base\"):\n",
    "            print(\"Skip file {}\".format(file))\n",
    "            continue\n",
    "        elif scenario == \"TwoYearBlip\":\n",
    "            scenario_label = \"ssp245-covid\"\n",
    "        elif scenario == \"FourYearBlip\":\n",
    "            scenario_label = \"ssp245-covid4y\"\n",
    "        elif scenario == \"ModerateGreen\":\n",
    "            scenario_label = \"ssp245-cov-modgreen\"\n",
    "        elif scenario == \"FossilFuel\":\n",
    "            scenario_label = \"ssp245-cov-fossil\"\n",
    "        elif scenario == \"StrongGreen\":\n",
    "            scenario_label = \"ssp245-cov-strgreen\"\n",
    "        else:\n",
    "            print(\"Cannot find the name for {}\".format(scenario))\n",
    "            raise ValueError\n",
    "        newfilename = newfilename.replace(scenario + \"_\", \"\").replace(\"emissions_ScenarioMIP\", target_mip).replace(\n",
    "            \"GHGConcentrations_ScenarioMIP\", target_mip\n",
    "        ).replace(\n",
    "            \"-1-1\", \"\").replace(\"-1-2-1\", \"\").replace(\"IAMC-\", \"\").replace(\"UoM-\", \"\"\n",
    "        ).replace(\n",
    "            \"MESSAGE-GLOBIOM-ssp245\", \"Imperial_\" + scenario_label + \"_\" + print_version\n",
    "        ).replace(\"4year_\", \"\").replace(\"201501-210012\", \"201501-205012\") + \".nc\"\n",
    "        print(scenario)\n",
    "        print(newfilename)\n",
    "\n",
    "        ## Copy the previous file details\n",
    "\n",
    "        db = nc.Dataset(os.path.join(infolder, file))\n",
    "        trg = nc.Dataset(os.path.join(outfolder, newfilename), mode=\"w\")\n",
    "        # Create the dimensions of the file\n",
    "        for name, dim in db.dimensions.items():\n",
    "            trg.createDimension(\n",
    "                name, len(dim) if not (dim.isunlimited()) and not (name == \"time\") else None\n",
    "            )\n",
    "\n",
    "        # Copy the global attributes\n",
    "        trg.setncatts({a: db.getncattr(a) for a in db.ncattrs()})\n",
    "\n",
    "        for name, var in db.variables.items():\n",
    "            if compress:\n",
    "                trg.createVariable(\n",
    "                    name, var.dtype, var.dimensions, complevel=9, shuffle=True, zlib=True\n",
    "                )\n",
    "            else:\n",
    "                trg.createVariable(name, var.dtype, var.dimensions)\n",
    "\n",
    "            # Copy the variable attributes\n",
    "            trg.variables[name].setncatts({a: var.getncattr(a) for a in var.ncattrs()})\n",
    "\n",
    "            # Copy the variables values, removing some times if needed\n",
    "            if \"time\" in var.dimensions[:]:\n",
    "                trg.variables[name][:] = db.variables[name][:]\n",
    "\n",
    "\n",
    "        # Rewrite the meta variables\n",
    "        trg.comment = db.comment.replace(\n",
    "            old_long_scen_name, scenario + \", based on \" + old_long_scen_name + \n",
    "            \" modified by the impacts of lockdown for coronavirus\"\n",
    "        )\n",
    "        trg.contact = \"Robin D. Lamboll (r.lamboll@imperial.ac.uk)\"\n",
    "        trg.creation_date = datetime.now().strftime(\"%Y-%m-%dT%H:%M:%SZ\")\n",
    "        trg.institution = \"Imperial College London\"\n",
    "        trg.institution_id = \"ImperialCollege\"\n",
    "        trg.references = \"https://doi.org/10.5194/gmd-2020-373\"\n",
    "        trg.source = \"https://zenodo.org/record/3947917#.YK0Pc6hKhPZ\"\n",
    "        trg.source_id = \"Zenodo\"\n",
    "        trg.source_version = version\n",
    "        trg.target_mip = \"CovidMIP\"\n",
    "        db.close()\n",
    "        trg.close()"
   ]
  }
 ],
 "metadata": {
  "kernelspec": {
   "display_name": "netcdf-5",
   "language": "python",
   "name": "netcdf-5"
  },
  "language_info": {
   "codemirror_mode": {
    "name": "ipython",
    "version": 3
   },
   "file_extension": ".py",
   "mimetype": "text/x-python",
   "name": "python",
   "nbconvert_exporter": "python",
   "pygments_lexer": "ipython3",
   "version": "3.7.7"
  }
 },
 "nbformat": 4,
 "nbformat_minor": 4
}
