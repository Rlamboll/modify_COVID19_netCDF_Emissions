{
 "cells": [
  {
   "cell_type": "markdown",
   "metadata": {},
   "source": [
    "# Calculate emissions changes in well-mixed gas levels\n",
    "Calculate the emissions changes in well-mixed gases at hemisphereic and globally averaged levels. "
   ]
  },
  {
   "cell_type": "code",
   "execution_count": null,
   "metadata": {},
   "outputs": [],
   "source": [
    "import netCDF4 as nc\n",
    "import pandas as pd\n",
    "import numpy as np"
   ]
  },
  {
   "cell_type": "code",
   "execution_count": null,
   "metadata": {},
   "outputs": [],
   "source": [
    "# Input gas levels\n",
    "input_folder = \"../input/\"\n",
    "input_co2_mole = \"mole-fraction-of-carbon-dioxide-in-air_input4MIPs_GHGConcentrations_ScenarioMIP_UoM-MESSAGE-GLOBIOM-ssp245-1-2-0_gr1-GMNHSH_2015-2500.nc\"\n",
    "input_no2_mole = \"mole-fraction-of-nitrous-oxide-in-air_input4MIPs_GHGConcentrations_ScenarioMIP_UoM-MESSAGE-GLOBIOM-ssp245-1-2-1_gr1-GMNHSH_201501-250012.nc\"\n",
    "input_ch4_mole = \"mole-fraction-of-methane-in-air_input4MIPs_GHGConcentrations_ScenarioMIP_UoM-MESSAGE-GLOBIOM-ssp245-1-2-0_gr1-GMNHSH_201501-250012.nc\"\n",
    "\n",
    "input_co2_air = \"CO2-em-AIR-anthro_input4MIPs_emissions_ScenarioMIP_IAMC-MESSAGE-GLOBIOM-ssp245-1-1_gn_201501-210012.nc\"\n",
    "\n",
    "# Modification factors\n",
    "mod_input_folder = \"../../COVID19_emissions_data/global_pathways/\"\n",
    "mod_input_file = \"Base_pathway.xlsx\"\n",
    "\n",
    "files_to_global = []"
   ]
  },
  {
   "cell_type": "code",
   "execution_count": null,
   "metadata": {},
   "outputs": [],
   "source": []
  },
  {
   "cell_type": "code",
   "execution_count": null,
   "metadata": {},
   "outputs": [],
   "source": []
  },
  {
   "cell_type": "code",
   "execution_count": null,
   "metadata": {},
   "outputs": [],
   "source": [
    "for fileind in range(len(files_to_global)):\n",
    "    file = files_to_blip[fileind]\n",
    "    data = copy_netcdf_file(file)\n",
    "    output = data.variables[key_variables[fileind]][:, :, :, :]\n",
    "    for time in global_times:\n",
    "        timeind = np.where(data.variables[\"time\"][:] == time)[0]\n",
    "         output[timeind, :, :, :] *= time_factor(time)"
   ]
  }
 ],
 "metadata": {
  "kernelspec": {
   "display_name": "Python 3",
   "language": "python",
   "name": "python3"
  },
  "language_info": {
   "codemirror_mode": {
    "name": "ipython",
    "version": 3
   },
   "file_extension": ".py",
   "mimetype": "text/x-python",
   "name": "python",
   "nbconvert_exporter": "python",
   "pygments_lexer": "ipython3",
   "version": "3.7.6"
  }
 },
 "nbformat": 4,
 "nbformat_minor": 4
}
