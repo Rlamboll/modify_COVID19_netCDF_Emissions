{
 "cells": [
  {
   "cell_type": "markdown",
   "metadata": {},
   "source": [
    "# Draw plots of aerosol daily emissions data\n",
    "This is used to draw plots for the IPCC report"
   ]
  },
  {
   "cell_type": "code",
   "execution_count": 1,
   "metadata": {},
   "outputs": [
    {
     "name": "stderr",
     "output_type": "stream",
     "text": [
      "\n",
      "Bad key \"text.kerning_factor\" on line 4 in\n",
      "C:\\Users\\rlamboll\\AppData\\Local\\Continuum\\anaconda3\\envs\\netcfd-6\\lib\\site-packages\\matplotlib\\mpl-data\\stylelib\\_classic_test_patch.mplstyle.\n",
      "You probably need to get an updated matplotlibrc file from\n",
      "https://github.com/matplotlib/matplotlib/blob/v3.1.3/matplotlibrc.template\n",
      "or from the matplotlib source distribution\n"
     ]
    }
   ],
   "source": [
    "import netCDF4 as nc\n",
    "import pandas as pd\n",
    "from math import floor\n",
    "import matplotlib\n",
    "import matplotlib.pyplot as plt\n",
    "from matplotlib.colors import LogNorm\n",
    "import numpy as np"
   ]
  },
  {
   "cell_type": "code",
   "execution_count": 163,
   "metadata": {},
   "outputs": [],
   "source": [
    "output_folder = \"../output/aerosols/daily/\"\n",
    "save_folder = \"../output/plots/\"\n",
    "base_str = \"baseline\"\n",
    "scenarios = [\"1_year\"]\n",
    "variable_names = {\n",
    "    \"SO2\": \"SO2_em_anthro\", \"NOx\": \"NOx_em_anthro\", \"CO2\": \n",
    "}\n",
    "base_file = \"cut_{}-em-anthro_input4MIPs_emissions_ScenarioMIP_IAMC-MESSAGE-GLOBIOM-ssp245-1-1_gn_201501-210012.ncdaily_v4.7.nc_{}.nc\"\n",
    "aviation_file = \"../output/aviation/cut_NOx-em-AIR-anthro_input4MIPs_emissions_ScenarioMIP_IAMC-MESSAGE-GLOBIOM-ssp245-1-1_gn_201501-210012.nc_v4.7.nc_flightrd_mp06_daily_v4.7.nc\"\n",
    "aviation_baseline = \"../output/aviation/cut_NOx-em-AIR-anthro_input4MIPs_emissions_ScenarioMIP_IAMC-MESSAGE-GLOBIOM-ssp245-1-1_gn_201501-210012.nc_baseline_v4.7.nc\"\n",
    "save_str = \"emission_map_daily_v2.png\"\n",
    "global_save = \"global_emission_daily_v2.png\"\n",
    "co2_file = \"../../COVID19_emissions_data/sector_emissions/Covid_CO2emissions_sectors_July29.csv\"\n",
    "timeseries_savename = \"dailydata_emissions_reduction_timseries.csv\""
   ]
  },
  {
   "cell_type": "code",
   "execution_count": 47,
   "metadata": {},
   "outputs": [
    {
     "data": {
      "text/html": [
       "<div>\n",
       "<style scoped>\n",
       "    .dataframe tbody tr th:only-of-type {\n",
       "        vertical-align: middle;\n",
       "    }\n",
       "\n",
       "    .dataframe tbody tr th {\n",
       "        vertical-align: top;\n",
       "    }\n",
       "\n",
       "    .dataframe thead th {\n",
       "        text-align: right;\n",
       "    }\n",
       "</style>\n",
       "<table border=\"1\" class=\"dataframe\">\n",
       "  <thead>\n",
       "    <tr style=\"text-align: right;\">\n",
       "      <th></th>\n",
       "      <th></th>\n",
       "      <th></th>\n",
       "      <th>Base(MtCO2/day)</th>\n",
       "      <th>Base%</th>\n",
       "      <th>1</th>\n",
       "      <th>2</th>\n",
       "      <th>3</th>\n",
       "      <th>4</th>\n",
       "      <th>5</th>\n",
       "      <th>6</th>\n",
       "      <th>7</th>\n",
       "      <th>8</th>\n",
       "      <th>...</th>\n",
       "      <th>357</th>\n",
       "      <th>358</th>\n",
       "      <th>359</th>\n",
       "      <th>360</th>\n",
       "      <th>361</th>\n",
       "      <th>362</th>\n",
       "      <th>363</th>\n",
       "      <th>364</th>\n",
       "      <th>365</th>\n",
       "      <th>366</th>\n",
       "    </tr>\n",
       "    <tr>\n",
       "      <th>Country</th>\n",
       "      <th>ISO_A3</th>\n",
       "      <th>Sector</th>\n",
       "      <th></th>\n",
       "      <th></th>\n",
       "      <th></th>\n",
       "      <th></th>\n",
       "      <th></th>\n",
       "      <th></th>\n",
       "      <th></th>\n",
       "      <th></th>\n",
       "      <th></th>\n",
       "      <th></th>\n",
       "      <th></th>\n",
       "      <th></th>\n",
       "      <th></th>\n",
       "      <th></th>\n",
       "      <th></th>\n",
       "      <th></th>\n",
       "      <th></th>\n",
       "      <th></th>\n",
       "      <th></th>\n",
       "      <th></th>\n",
       "      <th></th>\n",
       "    </tr>\n",
       "  </thead>\n",
       "  <tbody>\n",
       "    <tr>\n",
       "      <th>Albania</th>\n",
       "      <th>ALB</th>\n",
       "      <th>total</th>\n",
       "      <td>0.012846</td>\n",
       "      <td>100.0</td>\n",
       "      <td>0.0</td>\n",
       "      <td>0.0</td>\n",
       "      <td>0.0</td>\n",
       "      <td>0.0</td>\n",
       "      <td>0.0</td>\n",
       "      <td>0.0</td>\n",
       "      <td>0.0</td>\n",
       "      <td>0.0</td>\n",
       "      <td>...</td>\n",
       "      <td>0.000000</td>\n",
       "      <td>0.000000</td>\n",
       "      <td>0.000000</td>\n",
       "      <td>0.000000</td>\n",
       "      <td>0.000000</td>\n",
       "      <td>0.000000</td>\n",
       "      <td>0.000000</td>\n",
       "      <td>0.000000</td>\n",
       "      <td>0.000000</td>\n",
       "      <td>0.000000</td>\n",
       "    </tr>\n",
       "    <tr>\n",
       "      <th>Algeria</th>\n",
       "      <th>DZA</th>\n",
       "      <th>total</th>\n",
       "      <td>0.432618</td>\n",
       "      <td>100.0</td>\n",
       "      <td>0.0</td>\n",
       "      <td>0.0</td>\n",
       "      <td>0.0</td>\n",
       "      <td>0.0</td>\n",
       "      <td>0.0</td>\n",
       "      <td>0.0</td>\n",
       "      <td>0.0</td>\n",
       "      <td>0.0</td>\n",
       "      <td>...</td>\n",
       "      <td>-0.154049</td>\n",
       "      <td>-0.154049</td>\n",
       "      <td>-0.154049</td>\n",
       "      <td>-0.154049</td>\n",
       "      <td>-0.154049</td>\n",
       "      <td>-0.154049</td>\n",
       "      <td>-0.154049</td>\n",
       "      <td>-0.154049</td>\n",
       "      <td>-0.154049</td>\n",
       "      <td>-0.154049</td>\n",
       "    </tr>\n",
       "    <tr>\n",
       "      <th>Angola</th>\n",
       "      <th>AGO</th>\n",
       "      <th>total</th>\n",
       "      <td>0.104179</td>\n",
       "      <td>100.0</td>\n",
       "      <td>0.0</td>\n",
       "      <td>0.0</td>\n",
       "      <td>0.0</td>\n",
       "      <td>0.0</td>\n",
       "      <td>0.0</td>\n",
       "      <td>0.0</td>\n",
       "      <td>0.0</td>\n",
       "      <td>0.0</td>\n",
       "      <td>...</td>\n",
       "      <td>-0.094137</td>\n",
       "      <td>-0.094137</td>\n",
       "      <td>-0.094137</td>\n",
       "      <td>-0.094137</td>\n",
       "      <td>-0.094137</td>\n",
       "      <td>-0.094137</td>\n",
       "      <td>-0.094137</td>\n",
       "      <td>-0.094137</td>\n",
       "      <td>-0.094137</td>\n",
       "      <td>-0.094137</td>\n",
       "    </tr>\n",
       "    <tr>\n",
       "      <th>Argentina</th>\n",
       "      <th>ARG</th>\n",
       "      <th>total</th>\n",
       "      <td>0.552309</td>\n",
       "      <td>100.0</td>\n",
       "      <td>0.0</td>\n",
       "      <td>0.0</td>\n",
       "      <td>0.0</td>\n",
       "      <td>0.0</td>\n",
       "      <td>0.0</td>\n",
       "      <td>0.0</td>\n",
       "      <td>0.0</td>\n",
       "      <td>0.0</td>\n",
       "      <td>...</td>\n",
       "      <td>-0.178584</td>\n",
       "      <td>-0.178584</td>\n",
       "      <td>-0.178584</td>\n",
       "      <td>-0.178584</td>\n",
       "      <td>-0.178584</td>\n",
       "      <td>-0.178584</td>\n",
       "      <td>-0.178584</td>\n",
       "      <td>-0.178584</td>\n",
       "      <td>-0.178584</td>\n",
       "      <td>-0.178584</td>\n",
       "    </tr>\n",
       "    <tr>\n",
       "      <th>Armenia</th>\n",
       "      <th>ARM</th>\n",
       "      <th>total</th>\n",
       "      <td>0.015752</td>\n",
       "      <td>100.0</td>\n",
       "      <td>0.0</td>\n",
       "      <td>0.0</td>\n",
       "      <td>0.0</td>\n",
       "      <td>0.0</td>\n",
       "      <td>0.0</td>\n",
       "      <td>0.0</td>\n",
       "      <td>0.0</td>\n",
       "      <td>0.0</td>\n",
       "      <td>...</td>\n",
       "      <td>0.000000</td>\n",
       "      <td>0.000000</td>\n",
       "      <td>0.000000</td>\n",
       "      <td>0.000000</td>\n",
       "      <td>0.000000</td>\n",
       "      <td>0.000000</td>\n",
       "      <td>0.000000</td>\n",
       "      <td>0.000000</td>\n",
       "      <td>0.000000</td>\n",
       "      <td>0.000000</td>\n",
       "    </tr>\n",
       "    <tr>\n",
       "      <th>...</th>\n",
       "      <th>...</th>\n",
       "      <th>...</th>\n",
       "      <td>...</td>\n",
       "      <td>...</td>\n",
       "      <td>...</td>\n",
       "      <td>...</td>\n",
       "      <td>...</td>\n",
       "      <td>...</td>\n",
       "      <td>...</td>\n",
       "      <td>...</td>\n",
       "      <td>...</td>\n",
       "      <td>...</td>\n",
       "      <td>...</td>\n",
       "      <td>...</td>\n",
       "      <td>...</td>\n",
       "      <td>...</td>\n",
       "      <td>...</td>\n",
       "      <td>...</td>\n",
       "      <td>...</td>\n",
       "      <td>...</td>\n",
       "      <td>...</td>\n",
       "      <td>...</td>\n",
       "      <td>...</td>\n",
       "    </tr>\n",
       "    <tr>\n",
       "      <th>Venezuela</th>\n",
       "      <th>VEN</th>\n",
       "      <th>total</th>\n",
       "      <td>0.390822</td>\n",
       "      <td>100.0</td>\n",
       "      <td>0.0</td>\n",
       "      <td>0.0</td>\n",
       "      <td>0.0</td>\n",
       "      <td>0.0</td>\n",
       "      <td>0.0</td>\n",
       "      <td>0.0</td>\n",
       "      <td>0.0</td>\n",
       "      <td>0.0</td>\n",
       "      <td>...</td>\n",
       "      <td>-0.163597</td>\n",
       "      <td>-0.163597</td>\n",
       "      <td>-0.163597</td>\n",
       "      <td>-0.163597</td>\n",
       "      <td>-0.163597</td>\n",
       "      <td>-0.163597</td>\n",
       "      <td>-0.163597</td>\n",
       "      <td>-0.163597</td>\n",
       "      <td>-0.163597</td>\n",
       "      <td>-0.163597</td>\n",
       "    </tr>\n",
       "    <tr>\n",
       "      <th>Vietnam</th>\n",
       "      <th>VNM</th>\n",
       "      <th>total</th>\n",
       "      <td>0.574687</td>\n",
       "      <td>100.0</td>\n",
       "      <td>0.0</td>\n",
       "      <td>0.0</td>\n",
       "      <td>0.0</td>\n",
       "      <td>0.0</td>\n",
       "      <td>0.0</td>\n",
       "      <td>0.0</td>\n",
       "      <td>0.0</td>\n",
       "      <td>0.0</td>\n",
       "      <td>...</td>\n",
       "      <td>0.001584</td>\n",
       "      <td>0.001584</td>\n",
       "      <td>0.001584</td>\n",
       "      <td>0.001584</td>\n",
       "      <td>0.001584</td>\n",
       "      <td>0.001584</td>\n",
       "      <td>0.001584</td>\n",
       "      <td>0.001584</td>\n",
       "      <td>0.001584</td>\n",
       "      <td>0.001584</td>\n",
       "    </tr>\n",
       "    <tr>\n",
       "      <th>Yemen</th>\n",
       "      <th>YEM</th>\n",
       "      <th>total</th>\n",
       "      <td>0.028783</td>\n",
       "      <td>100.0</td>\n",
       "      <td>0.0</td>\n",
       "      <td>0.0</td>\n",
       "      <td>0.0</td>\n",
       "      <td>0.0</td>\n",
       "      <td>0.0</td>\n",
       "      <td>0.0</td>\n",
       "      <td>0.0</td>\n",
       "      <td>0.0</td>\n",
       "      <td>...</td>\n",
       "      <td>0.011634</td>\n",
       "      <td>0.011634</td>\n",
       "      <td>0.011634</td>\n",
       "      <td>0.011634</td>\n",
       "      <td>0.011634</td>\n",
       "      <td>0.011634</td>\n",
       "      <td>0.011634</td>\n",
       "      <td>0.011634</td>\n",
       "      <td>0.011634</td>\n",
       "      <td>0.011634</td>\n",
       "    </tr>\n",
       "    <tr>\n",
       "      <th>Zambia</th>\n",
       "      <th>ZMB</th>\n",
       "      <th>total</th>\n",
       "      <td>0.014581</td>\n",
       "      <td>100.0</td>\n",
       "      <td>0.0</td>\n",
       "      <td>0.0</td>\n",
       "      <td>0.0</td>\n",
       "      <td>0.0</td>\n",
       "      <td>0.0</td>\n",
       "      <td>0.0</td>\n",
       "      <td>0.0</td>\n",
       "      <td>0.0</td>\n",
       "      <td>...</td>\n",
       "      <td>-0.037673</td>\n",
       "      <td>-0.037673</td>\n",
       "      <td>-0.037673</td>\n",
       "      <td>-0.037673</td>\n",
       "      <td>-0.037673</td>\n",
       "      <td>-0.037673</td>\n",
       "      <td>-0.037673</td>\n",
       "      <td>-0.037673</td>\n",
       "      <td>-0.037673</td>\n",
       "      <td>-0.037673</td>\n",
       "    </tr>\n",
       "    <tr>\n",
       "      <th>Zimbabwe</th>\n",
       "      <th>ZWE</th>\n",
       "      <th>total</th>\n",
       "      <td>0.034235</td>\n",
       "      <td>100.0</td>\n",
       "      <td>0.0</td>\n",
       "      <td>0.0</td>\n",
       "      <td>0.0</td>\n",
       "      <td>0.0</td>\n",
       "      <td>0.0</td>\n",
       "      <td>0.0</td>\n",
       "      <td>0.0</td>\n",
       "      <td>0.0</td>\n",
       "      <td>...</td>\n",
       "      <td>-0.056514</td>\n",
       "      <td>-0.056514</td>\n",
       "      <td>-0.056514</td>\n",
       "      <td>-0.056514</td>\n",
       "      <td>-0.056514</td>\n",
       "      <td>-0.056514</td>\n",
       "      <td>-0.056514</td>\n",
       "      <td>-0.056514</td>\n",
       "      <td>-0.056514</td>\n",
       "      <td>-0.056514</td>\n",
       "    </tr>\n",
       "  </tbody>\n",
       "</table>\n",
       "<p>143 rows × 368 columns</p>\n",
       "</div>"
      ],
      "text/plain": [
       "                         Base(MtCO2/day)  Base%    1    2    3    4    5    6  \\\n",
       "Country   ISO_A3 Sector                                                         \n",
       "Albania   ALB    total          0.012846  100.0  0.0  0.0  0.0  0.0  0.0  0.0   \n",
       "Algeria   DZA    total          0.432618  100.0  0.0  0.0  0.0  0.0  0.0  0.0   \n",
       "Angola    AGO    total          0.104179  100.0  0.0  0.0  0.0  0.0  0.0  0.0   \n",
       "Argentina ARG    total          0.552309  100.0  0.0  0.0  0.0  0.0  0.0  0.0   \n",
       "Armenia   ARM    total          0.015752  100.0  0.0  0.0  0.0  0.0  0.0  0.0   \n",
       "...                                  ...    ...  ...  ...  ...  ...  ...  ...   \n",
       "Venezuela VEN    total          0.390822  100.0  0.0  0.0  0.0  0.0  0.0  0.0   \n",
       "Vietnam   VNM    total          0.574687  100.0  0.0  0.0  0.0  0.0  0.0  0.0   \n",
       "Yemen     YEM    total          0.028783  100.0  0.0  0.0  0.0  0.0  0.0  0.0   \n",
       "Zambia    ZMB    total          0.014581  100.0  0.0  0.0  0.0  0.0  0.0  0.0   \n",
       "Zimbabwe  ZWE    total          0.034235  100.0  0.0  0.0  0.0  0.0  0.0  0.0   \n",
       "\n",
       "                           7    8  ...       357       358       359  \\\n",
       "Country   ISO_A3 Sector            ...                                 \n",
       "Albania   ALB    total   0.0  0.0  ...  0.000000  0.000000  0.000000   \n",
       "Algeria   DZA    total   0.0  0.0  ... -0.154049 -0.154049 -0.154049   \n",
       "Angola    AGO    total   0.0  0.0  ... -0.094137 -0.094137 -0.094137   \n",
       "Argentina ARG    total   0.0  0.0  ... -0.178584 -0.178584 -0.178584   \n",
       "Armenia   ARM    total   0.0  0.0  ...  0.000000  0.000000  0.000000   \n",
       "...                      ...  ...  ...       ...       ...       ...   \n",
       "Venezuela VEN    total   0.0  0.0  ... -0.163597 -0.163597 -0.163597   \n",
       "Vietnam   VNM    total   0.0  0.0  ...  0.001584  0.001584  0.001584   \n",
       "Yemen     YEM    total   0.0  0.0  ...  0.011634  0.011634  0.011634   \n",
       "Zambia    ZMB    total   0.0  0.0  ... -0.037673 -0.037673 -0.037673   \n",
       "Zimbabwe  ZWE    total   0.0  0.0  ... -0.056514 -0.056514 -0.056514   \n",
       "\n",
       "                              360       361       362       363       364  \\\n",
       "Country   ISO_A3 Sector                                                     \n",
       "Albania   ALB    total   0.000000  0.000000  0.000000  0.000000  0.000000   \n",
       "Algeria   DZA    total  -0.154049 -0.154049 -0.154049 -0.154049 -0.154049   \n",
       "Angola    AGO    total  -0.094137 -0.094137 -0.094137 -0.094137 -0.094137   \n",
       "Argentina ARG    total  -0.178584 -0.178584 -0.178584 -0.178584 -0.178584   \n",
       "Armenia   ARM    total   0.000000  0.000000  0.000000  0.000000  0.000000   \n",
       "...                           ...       ...       ...       ...       ...   \n",
       "Venezuela VEN    total  -0.163597 -0.163597 -0.163597 -0.163597 -0.163597   \n",
       "Vietnam   VNM    total   0.001584  0.001584  0.001584  0.001584  0.001584   \n",
       "Yemen     YEM    total   0.011634  0.011634  0.011634  0.011634  0.011634   \n",
       "Zambia    ZMB    total  -0.037673 -0.037673 -0.037673 -0.037673 -0.037673   \n",
       "Zimbabwe  ZWE    total  -0.056514 -0.056514 -0.056514 -0.056514 -0.056514   \n",
       "\n",
       "                              365       366  \n",
       "Country   ISO_A3 Sector                      \n",
       "Albania   ALB    total   0.000000  0.000000  \n",
       "Algeria   DZA    total  -0.154049 -0.154049  \n",
       "Angola    AGO    total  -0.094137 -0.094137  \n",
       "Argentina ARG    total  -0.178584 -0.178584  \n",
       "Armenia   ARM    total   0.000000  0.000000  \n",
       "...                           ...       ...  \n",
       "Venezuela VEN    total  -0.163597 -0.163597  \n",
       "Vietnam   VNM    total   0.001584  0.001584  \n",
       "Yemen     YEM    total   0.011634  0.011634  \n",
       "Zambia    ZMB    total  -0.037673 -0.037673  \n",
       "Zimbabwe  ZWE    total  -0.056514 -0.056514  \n",
       "\n",
       "[143 rows x 368 columns]"
      ]
     },
     "execution_count": 47,
     "metadata": {},
     "output_type": "execute_result"
    }
   ],
   "source": [
    "co2_data = pd.read_csv(co2_file, header=0, index_col=0)\n",
    "co2_tot_data = co2_data[co2_data.Sector == \"total\"]\n",
    "co2_tot_data = co2_tot_data.set_index([\"Country\", \"ISO_A3\", \"Sector\"], drop=True)\n",
    "co2_tot_data"
   ]
  },
  {
   "cell_type": "code",
   "execution_count": 85,
   "metadata": {},
   "outputs": [
    {
     "name": "stderr",
     "output_type": "stream",
     "text": [
      "C:\\Users\\rlamboll\\AppData\\Local\\Continuum\\anaconda3\\envs\\netcfd-6\\lib\\site-packages\\ipykernel_launcher.py:1: DeprecationWarning: The default dtype for empty Series will be 'object' instead of 'float64' in a future version. Specify a dtype explicitly to silence this warning.\n",
      "  \"\"\"Entry point for launching an IPython kernel.\n"
     ]
    },
    {
     "data": {
      "text/plain": [
       "Base(MtCO2/day)     10.127001\n",
       "Base%              100.000000\n",
       "1                    0.000000\n",
       "2                    0.000000\n",
       "3                   -0.000290\n",
       "                      ...    \n",
       "362                 -0.103502\n",
       "363                 -0.103502\n",
       "364                 -0.103502\n",
       "365                 -0.103502\n",
       "366                 -0.103502\n",
       "Length: 368, dtype: float64"
      ]
     },
     "execution_count": 85,
     "metadata": {},
     "output_type": "execute_result"
    }
   ],
   "source": [
    "co2_world = pd.Series(index = co2_tot_data.columns)\n",
    "co2_world[0] = 0\n",
    "basesum = sum(co2_tot_data[\"Base(MtCO2/day)\"])\n",
    "for col in co2_world.index:\n",
    "    co2_world[col] = sum(co2_tot_data[\"Base(MtCO2/day)\"] * co2_tot_data[col])/basesum\n",
    "co2_world"
   ]
  },
  {
   "cell_type": "code",
   "execution_count": 86,
   "metadata": {},
   "outputs": [],
   "source": [
    "co2_world = co2_world.drop([\"Base%\", \"Base(MtCO2/day)\"])"
   ]
  },
  {
   "cell_type": "code",
   "execution_count": 87,
   "metadata": {},
   "outputs": [
    {
     "data": {
      "text/plain": [
       "[<matplotlib.lines.Line2D at 0x209777eb588>]"
      ]
     },
     "execution_count": 87,
     "metadata": {},
     "output_type": "execute_result"
    },
    {
     "data": {
      "image/png": "[encoded data removed]",
      "text/plain": [
       "<Figure size 432x288 with 1 Axes>"
      ]
     },
     "metadata": {
      "needs_background": "light"
     },
     "output_type": "display_data"
    }
   ],
   "source": [
    "plt.plot(co2_world)"
   ]
  },
  {
   "cell_type": "code",
   "execution_count": 12,
   "metadata": {},
   "outputs": [],
   "source": [
    "base_em = nc.Dataset(output_folder + base_file.format(\"SO2\", base_str))\n",
    "lats = base_em.variables[\"lat\"][:]\n",
    "lons = base_em.variables[\"lon\"][:]"
   ]
  },
  {
   "cell_type": "code",
   "execution_count": 13,
   "metadata": {},
   "outputs": [],
   "source": [
    "earth_rad = 6370 * 1e3 # radius of earth in m\n",
    "area = earth_rad ** 2 * (lons[1] - lons[0]) * (lats[1] - lats[0]) * abs(np.cos(lats[:] * np.pi / 180)) * (np.pi / 180) ** 2"
   ]
  },
  {
   "cell_type": "code",
   "execution_count": 14,
   "metadata": {},
   "outputs": [],
   "source": [
    "assert np.isclose(sum(area) * len(lons),  5.1 * 10 ** 14, rtol=0.1)  # Check this is the correct area of the earth in m^2! "
   ]
  },
  {
   "cell_type": "code",
   "execution_count": 18,
   "metadata": {},
   "outputs": [
    {
     "data": {
      "image/png": "[encoded data removed]",
      "text/plain": [
       "<Figure size 1152x576 with 1 Axes>"
      ]
     },
     "metadata": {
      "needs_background": "light"
     },
     "output_type": "display_data"
    },
    {
     "data": {
      "image/png": "[encoded data removed]",
      "text/plain": [
       "<Figure size 1152x576 with 1 Axes>"
      ]
     },
     "metadata": {
      "needs_background": "light"
     },
     "output_type": "display_data"
    }
   ],
   "source": [
    "plot_times = range(365)\n",
    "kg_per_sec = 3600 * 24 / 10 ** 9 # convert kg/sec to MT/day\n",
    "for aerosol, varname in variable_names.items():\n",
    "    base_em = nc.Dataset(output_folder + base_file.format(aerosol, base_str))\n",
    "    world_base_emissions = base_em.variables[varname][:, :, :, :].sum(1).sum(2).dot(area)\n",
    "    fig = plt.figure(figsize=(16, 8))\n",
    "    #plt.plot(base_em.variables[\"time\"][plot_times] - 5 * 365, world_base_emissions[plot_times] * kg_per_sec)\n",
    "    for scenario in scenarios[:1]:\n",
    "        emission = nc.Dataset(output_folder + base_file.format(aerosol, scenario))\n",
    "        world_emissions = emission.variables[varname][:, :, :, :].sum(1).sum(2).dot(area)\n",
    "        plt.plot(emission.variables[\"time\"][plot_times] - 5 * 365, world_emissions[plot_times] * kg_per_sec)\n",
    "        plt.xlabel(\"Day\")\n",
    "        ystring = \"Global {} emissions (MT / day)\".format(varname.replace(\"_em_anthro\", \"\"))\n",
    "        plt.ylabel(ystring)\n",
    "        #plt.legend([\"Baseline\", \"COVID-modified\"])\n",
    "    fig.savefig(save_folder + varname + global_save)"
   ]
  },
  {
   "cell_type": "code",
   "execution_count": 134,
   "metadata": {},
   "outputs": [
    {
     "data": {
      "image/png": "[encoded data removed]",
      "text/plain": [
       "<Figure size 1152x576 with 1 Axes>"
      ]
     },
     "metadata": {
      "needs_background": "light"
     },
     "output_type": "display_data"
    }
   ],
   "source": [
    "plot_times = range(366)\n",
    "leg_str = []\n",
    "int = 0\n",
    "colorlist = plt.cm.Accent(np.linspace(0,1,len(variable_names.keys())+1))\n",
    "fig = plt.figure(figsize=(16, 8))\n",
    "timeseries_data=pd.DataFrame(columns=[\"Day\"])\n",
    "ax = ax = plt.subplot()\n",
    "for aerosol, varname in variable_names.items():\n",
    "    base_em = nc.Dataset(output_folder + base_file.format(aerosol, base_str))\n",
    "    world_base_emissions = base_em.variables[varname][:, :, :, :].sum(1).sum(2).dot(area)\n",
    "    for scenario in scenarios[:1]:\n",
    "        emission = nc.Dataset(output_folder + base_file.format(aerosol, scenario))\n",
    "        world_emissions = emission.variables[varname][:, :, :, :].sum(1).sum(2).dot(area)\n",
    "        x = (emission.variables[\"time\"][plot_times] - 5 * 365)[1:]\n",
    "        y = 100 * (world_emissions[plot_times] / world_base_emissions[plot_times])[1:]\n",
    "        y[-1] = y[-2]\n",
    "        plt.plot(x, y, color=colorlist[int])\n",
    "        int += 1\n",
    "        plt.xlabel(\"Day\")\n",
    "        plt.ylabel(\"Percentage of expected global emissions\")\n",
    "        timeseries_data[\"Day\"] = x\n",
    "        timeseries_data[\"Emissions percentage for {}\".format(aerosol)] = y\n",
    "    leg_str.append(aerosol)\n",
    "x = co2_world.index[:-1]\n",
    "y = 100 * (1 + co2_world[:-1])\n",
    "plt.plot(x, y, color=colorlist[-1])\n",
    "ax.xaxis.set_ticks(np.arange(0, 365, 30))\n",
    "leg_str.append(\"CO2\")\n",
    "plt.legend(leg_str)\n",
    "timeseries_data[\"CO2\"] = y.values\n",
    "fig.savefig(save_folder + \"all_relative_data\" + global_save)\n",
    "timeseries_data.to_csv(save_folder+timeseries_savename)"
   ]
  },
  {
   "cell_type": "code",
   "execution_count": 27,
   "metadata": {},
   "outputs": [],
   "source": [
    "#SANDBOX: delete things below here"
   ]
  },
  {
   "cell_type": "code",
   "execution_count": null,
   "metadata": {},
   "outputs": [],
   "source": [
    "stop"
   ]
  },
  {
   "cell_type": "code",
   "execution_count": null,
   "metadata": {},
   "outputs": [],
   "source": [
    "aviation_data = nc.Dataset(aviation_file)\n",
    "aviation_baseline = nc.Dataset(aviation_baseline)"
   ]
  },
  {
   "cell_type": "code",
   "execution_count": 159,
   "metadata": {},
   "outputs": [
    {
     "data": {
      "text/plain": [
       "0.05086925251556445"
      ]
     },
     "execution_count": 159,
     "metadata": {},
     "output_type": "execute_result"
    }
   ],
   "source": [
    "max(aviation_NOx)/min(world_emissions)"
   ]
  },
  {
   "cell_type": "code",
   "execution_count": 164,
   "metadata": {},
   "outputs": [],
   "source": [
    "aviation_data = nc.Dataset(aviation_file)\n",
    "aviation_baseline = nc.Dataset(aviation_baseline)"
   ]
  },
  {
   "cell_type": "code",
   "execution_count": 165,
   "metadata": {},
   "outputs": [],
   "source": [
    "aviation_NOx = aviation_data.variables[\"NOx_em_AIR_anthro\"][...].sum(1).sum(2).dot(area)\n",
    "aviation_base_NOx = aviation_baseline.variables[\"NOx_em_AIR_anthro\"][...].sum(1).sum(2).dot(area)"
   ]
  },
  {
   "cell_type": "code",
   "execution_count": 173,
   "metadata": {},
   "outputs": [
    {
     "data": {
      "text/plain": [
       "(36,)"
      ]
     },
     "execution_count": 173,
     "metadata": {},
     "output_type": "execute_result"
    }
   ],
   "source": [
    "aviation_base_NOx.shape"
   ]
  },
  {
   "cell_type": "code",
   "execution_count": 170,
   "metadata": {},
   "outputs": [
    {
     "data": {
      "text/plain": [
       "[<matplotlib.lines.Line2D at 0x20977b20288>]"
      ]
     },
     "execution_count": 170,
     "metadata": {},
     "output_type": "execute_result"
    },
    {
     "data": {
      "image/png": "[encoded data removed]",
      "text/plain": [
       "<Figure size 432x288 with 1 Axes>"
      ]
     },
     "metadata": {
      "needs_background": "light"
     },
     "output_type": "display_data"
    }
   ],
   "source": [
    "plt.plot(aviation_data.variables[\"time\"][:]-365*5, aviation_NOx/aviation_base_NOx)"
   ]
  },
  {
   "cell_type": "code",
   "execution_count": 149,
   "metadata": {},
   "outputs": [
    {
     "data": {
      "text/plain": [
       "(76, 360, 720)"
      ]
     },
     "execution_count": 149,
     "metadata": {},
     "output_type": "execute_result"
    }
   ],
   "source": [
    "a.shape"
   ]
  },
  {
   "cell_type": "code",
   "execution_count": 135,
   "metadata": {},
   "outputs": [
    {
     "data": {
      "text/html": [
       "<div>\n",
       "<style scoped>\n",
       "    .dataframe tbody tr th:only-of-type {\n",
       "        vertical-align: middle;\n",
       "    }\n",
       "\n",
       "    .dataframe tbody tr th {\n",
       "        vertical-align: top;\n",
       "    }\n",
       "\n",
       "    .dataframe thead th {\n",
       "        text-align: right;\n",
       "    }\n",
       "</style>\n",
       "<table border=\"1\" class=\"dataframe\">\n",
       "  <thead>\n",
       "    <tr style=\"text-align: right;\">\n",
       "      <th></th>\n",
       "      <th>Day</th>\n",
       "      <th>Emissions percentage for SO2</th>\n",
       "      <th>Emissions percentage for NOx</th>\n",
       "      <th>CO2</th>\n",
       "    </tr>\n",
       "  </thead>\n",
       "  <tbody>\n",
       "    <tr>\n",
       "      <th>0</th>\n",
       "      <td>1.0</td>\n",
       "      <td>100.000000</td>\n",
       "      <td>100.000000</td>\n",
       "      <td>100.000000</td>\n",
       "    </tr>\n",
       "    <tr>\n",
       "      <th>1</th>\n",
       "      <td>2.0</td>\n",
       "      <td>100.000000</td>\n",
       "      <td>100.000000</td>\n",
       "      <td>100.000000</td>\n",
       "    </tr>\n",
       "    <tr>\n",
       "      <th>2</th>\n",
       "      <td>3.0</td>\n",
       "      <td>99.992012</td>\n",
       "      <td>99.973142</td>\n",
       "      <td>99.971019</td>\n",
       "    </tr>\n",
       "    <tr>\n",
       "      <th>3</th>\n",
       "      <td>4.0</td>\n",
       "      <td>99.992018</td>\n",
       "      <td>99.973143</td>\n",
       "      <td>99.971019</td>\n",
       "    </tr>\n",
       "    <tr>\n",
       "      <th>4</th>\n",
       "      <td>5.0</td>\n",
       "      <td>99.992023</td>\n",
       "      <td>99.973143</td>\n",
       "      <td>99.971019</td>\n",
       "    </tr>\n",
       "    <tr>\n",
       "      <th>...</th>\n",
       "      <td>...</td>\n",
       "      <td>...</td>\n",
       "      <td>...</td>\n",
       "      <td>...</td>\n",
       "    </tr>\n",
       "    <tr>\n",
       "      <th>360</th>\n",
       "      <td>361.0</td>\n",
       "      <td>89.321075</td>\n",
       "      <td>88.629559</td>\n",
       "      <td>89.649805</td>\n",
       "    </tr>\n",
       "    <tr>\n",
       "      <th>361</th>\n",
       "      <td>362.0</td>\n",
       "      <td>89.320717</td>\n",
       "      <td>88.629460</td>\n",
       "      <td>89.649805</td>\n",
       "    </tr>\n",
       "    <tr>\n",
       "      <th>362</th>\n",
       "      <td>363.0</td>\n",
       "      <td>89.320359</td>\n",
       "      <td>88.629360</td>\n",
       "      <td>89.649805</td>\n",
       "    </tr>\n",
       "    <tr>\n",
       "      <th>363</th>\n",
       "      <td>364.0</td>\n",
       "      <td>89.320002</td>\n",
       "      <td>88.629261</td>\n",
       "      <td>89.649805</td>\n",
       "    </tr>\n",
       "    <tr>\n",
       "      <th>364</th>\n",
       "      <td>365.0</td>\n",
       "      <td>89.320002</td>\n",
       "      <td>88.629261</td>\n",
       "      <td>89.649805</td>\n",
       "    </tr>\n",
       "  </tbody>\n",
       "</table>\n",
       "<p>365 rows × 4 columns</p>\n",
       "</div>"
      ],
      "text/plain": [
       "       Day  Emissions percentage for SO2  Emissions percentage for NOx  \\\n",
       "0      1.0                    100.000000                    100.000000   \n",
       "1      2.0                    100.000000                    100.000000   \n",
       "2      3.0                     99.992012                     99.973142   \n",
       "3      4.0                     99.992018                     99.973143   \n",
       "4      5.0                     99.992023                     99.973143   \n",
       "..     ...                           ...                           ...   \n",
       "360  361.0                     89.321075                     88.629559   \n",
       "361  362.0                     89.320717                     88.629460   \n",
       "362  363.0                     89.320359                     88.629360   \n",
       "363  364.0                     89.320002                     88.629261   \n",
       "364  365.0                     89.320002                     88.629261   \n",
       "\n",
       "            CO2  \n",
       "0    100.000000  \n",
       "1    100.000000  \n",
       "2     99.971019  \n",
       "3     99.971019  \n",
       "4     99.971019  \n",
       "..          ...  \n",
       "360   89.649805  \n",
       "361   89.649805  \n",
       "362   89.649805  \n",
       "363   89.649805  \n",
       "364   89.649805  \n",
       "\n",
       "[365 rows x 4 columns]"
      ]
     },
     "execution_count": 135,
     "metadata": {},
     "output_type": "execute_result"
    }
   ],
   "source": [
    "timeseries_data"
   ]
  },
  {
   "cell_type": "code",
   "execution_count": 127,
   "metadata": {},
   "outputs": [
    {
     "data": {
      "text/plain": [
       "365"
      ]
     },
     "execution_count": 127,
     "metadata": {},
     "output_type": "execute_result"
    }
   ],
   "source": [
    "len(100 * (world_emissions[plot_times] / world_base_emissions[plot_times]))"
   ]
  }
 ],
 "metadata": {
  "kernelspec": {
   "display_name": "netcdf-6",
   "language": "python",
   "name": "netcdf-6"
  },
  "language_info": {
   "codemirror_mode": {
    "name": "ipython",
    "version": 3
   },
   "file_extension": ".py",
   "mimetype": "text/x-python",
   "name": "python",
   "nbconvert_exporter": "python",
   "pygments_lexer": "ipython3",
   "version": "3.7.7"
  }
 },
 "nbformat": 4,
 "nbformat_minor": 4
}
