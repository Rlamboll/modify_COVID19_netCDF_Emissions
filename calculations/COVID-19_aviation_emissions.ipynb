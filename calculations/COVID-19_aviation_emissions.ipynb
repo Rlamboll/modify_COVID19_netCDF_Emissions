{
 "cells": [
  {
   "cell_type": "markdown",
   "metadata": {},
   "source": [
    "# Modify aviation emissions\n",
    "We use data from https://www.flightradar24.com/data/statistics to modify all NOx emissions"
   ]
  },
  {
   "cell_type": "code",
   "execution_count": 1,
   "metadata": {},
   "outputs": [],
   "source": [
    "from datetime import date, timedelta, datetime\n",
    "import matplotlib.pyplot as plt\n",
    "import netCDF4 as nc\n",
    "import numpy as np\n",
    "import pandas as pd\n",
    "\n",
    "\n",
    "import os\n",
    "import sys\n",
    "\n",
    "sys.path.append(os.getcwd())\n",
    "from utils import copy_netcdf_file, insert_interpolated_point, cutoff_netcdf_time"
   ]
  },
  {
   "cell_type": "code",
   "execution_count": 2,
   "metadata": {},
   "outputs": [],
   "source": [
    "input_folder = \"../input/\"\n",
    "output_folder = \"../output/aviation/\"\n",
    "nox_input = \"NOx-em-AIR-anthro_input4MIPs_emissions_ScenarioMIP_IAMC-MESSAGE-GLOBIOM-ssp245-1-1_gn_201501-210012.nc\"\n",
    "input_flights = \"total-number-of-flights.csv\"\n",
    "scenario_string = \"_flightrad.nc\"\n",
    "\n",
    "def convert_years_to_days(year):\n",
    "    return (year - 2015) * 365\n",
    "\n",
    "# We don't want data after 2050. Data is recorded in 365-day years\n",
    "tcutoff = convert_years_to_days(2050.99)"
   ]
  },
  {
   "cell_type": "code",
   "execution_count": 3,
   "metadata": {},
   "outputs": [
    {
     "data": {
      "text/html": [
       "<div>\n",
       "<style scoped>\n",
       "    .dataframe tbody tr th:only-of-type {\n",
       "        vertical-align: middle;\n",
       "    }\n",
       "\n",
       "    .dataframe tbody tr th {\n",
       "        vertical-align: top;\n",
       "    }\n",
       "\n",
       "    .dataframe thead th {\n",
       "        text-align: right;\n",
       "    }\n",
       "</style>\n",
       "<table border=\"1\" class=\"dataframe\">\n",
       "  <thead>\n",
       "    <tr style=\"text-align: right;\">\n",
       "      <th></th>\n",
       "      <th>DateTime</th>\n",
       "      <th>7-day moving average</th>\n",
       "      <th>Number of flights</th>\n",
       "    </tr>\n",
       "  </thead>\n",
       "  <tbody>\n",
       "    <tr>\n",
       "      <th>0</th>\n",
       "      <td>06/01/2020</td>\n",
       "      <td>168434</td>\n",
       "      <td>184566</td>\n",
       "    </tr>\n",
       "    <tr>\n",
       "      <th>1</th>\n",
       "      <td>07/01/2020</td>\n",
       "      <td>171657</td>\n",
       "      <td>183328</td>\n",
       "    </tr>\n",
       "    <tr>\n",
       "      <th>2</th>\n",
       "      <td>08/01/2020</td>\n",
       "      <td>176691</td>\n",
       "      <td>179306</td>\n",
       "    </tr>\n",
       "    <tr>\n",
       "      <th>3</th>\n",
       "      <td>09/01/2020</td>\n",
       "      <td>178076</td>\n",
       "      <td>185552</td>\n",
       "    </tr>\n",
       "    <tr>\n",
       "      <th>4</th>\n",
       "      <td>10/01/2020</td>\n",
       "      <td>179282</td>\n",
       "      <td>183890</td>\n",
       "    </tr>\n",
       "    <tr>\n",
       "      <th>5</th>\n",
       "      <td>11/01/2020</td>\n",
       "      <td>177687</td>\n",
       "      <td>154564</td>\n",
       "    </tr>\n",
       "    <tr>\n",
       "      <th>6</th>\n",
       "      <td>12/01/2020</td>\n",
       "      <td>176103</td>\n",
       "      <td>161515</td>\n",
       "    </tr>\n",
       "    <tr>\n",
       "      <th>7</th>\n",
       "      <td>13/01/2020</td>\n",
       "      <td>174255</td>\n",
       "      <td>171632</td>\n",
       "    </tr>\n",
       "    <tr>\n",
       "      <th>8</th>\n",
       "      <td>14/01/2020</td>\n",
       "      <td>172803</td>\n",
       "      <td>173162</td>\n",
       "    </tr>\n",
       "    <tr>\n",
       "      <th>9</th>\n",
       "      <td>15/01/2020</td>\n",
       "      <td>173944</td>\n",
       "      <td>187297</td>\n",
       "    </tr>\n",
       "    <tr>\n",
       "      <th>10</th>\n",
       "      <td>16/01/2020</td>\n",
       "      <td>174154</td>\n",
       "      <td>187023</td>\n",
       "    </tr>\n",
       "    <tr>\n",
       "      <th>11</th>\n",
       "      <td>17/01/2020</td>\n",
       "      <td>174764</td>\n",
       "      <td>188157</td>\n",
       "    </tr>\n",
       "    <tr>\n",
       "      <th>12</th>\n",
       "      <td>18/01/2020</td>\n",
       "      <td>175720</td>\n",
       "      <td>161254</td>\n",
       "    </tr>\n",
       "    <tr>\n",
       "      <th>13</th>\n",
       "      <td>19/01/2020</td>\n",
       "      <td>176331</td>\n",
       "      <td>165794</td>\n",
       "    </tr>\n",
       "    <tr>\n",
       "      <th>14</th>\n",
       "      <td>20/01/2020</td>\n",
       "      <td>178826</td>\n",
       "      <td>189099</td>\n",
       "    </tr>\n",
       "    <tr>\n",
       "      <th>15</th>\n",
       "      <td>21/01/2020</td>\n",
       "      <td>181355</td>\n",
       "      <td>190867</td>\n",
       "    </tr>\n",
       "    <tr>\n",
       "      <th>16</th>\n",
       "      <td>22/01/2020</td>\n",
       "      <td>180920</td>\n",
       "      <td>184248</td>\n",
       "    </tr>\n",
       "    <tr>\n",
       "      <th>17</th>\n",
       "      <td>23/01/2020</td>\n",
       "      <td>181318</td>\n",
       "      <td>189810</td>\n",
       "    </tr>\n",
       "    <tr>\n",
       "      <th>18</th>\n",
       "      <td>24/01/2020</td>\n",
       "      <td>181517</td>\n",
       "      <td>189551</td>\n",
       "    </tr>\n",
       "    <tr>\n",
       "      <th>19</th>\n",
       "      <td>25/01/2020</td>\n",
       "      <td>181667</td>\n",
       "      <td>162301</td>\n",
       "    </tr>\n",
       "  </tbody>\n",
       "</table>\n",
       "</div>"
      ],
      "text/plain": [
       "      DateTime  7-day moving average  Number of flights\n",
       "0   06/01/2020                168434             184566\n",
       "1   07/01/2020                171657             183328\n",
       "2   08/01/2020                176691             179306\n",
       "3   09/01/2020                178076             185552\n",
       "4   10/01/2020                179282             183890\n",
       "5   11/01/2020                177687             154564\n",
       "6   12/01/2020                176103             161515\n",
       "7   13/01/2020                174255             171632\n",
       "8   14/01/2020                172803             173162\n",
       "9   15/01/2020                173944             187297\n",
       "10  16/01/2020                174154             187023\n",
       "11  17/01/2020                174764             188157\n",
       "12  18/01/2020                175720             161254\n",
       "13  19/01/2020                176331             165794\n",
       "14  20/01/2020                178826             189099\n",
       "15  21/01/2020                181355             190867\n",
       "16  22/01/2020                180920             184248\n",
       "17  23/01/2020                181318             189810\n",
       "18  24/01/2020                181517             189551\n",
       "19  25/01/2020                181667             162301"
      ]
     },
     "execution_count": 3,
     "metadata": {},
     "output_type": "execute_result"
    }
   ],
   "source": [
    "flights_change = pd.read_csv(input_folder + input_flights)\n",
    "flights_change.head(20)"
   ]
  },
  {
   "cell_type": "code",
   "execution_count": 4,
   "metadata": {},
   "outputs": [
    {
     "data": {
      "text/html": [
       "<div>\n",
       "<style scoped>\n",
       "    .dataframe tbody tr th:only-of-type {\n",
       "        vertical-align: middle;\n",
       "    }\n",
       "\n",
       "    .dataframe tbody tr th {\n",
       "        vertical-align: top;\n",
       "    }\n",
       "\n",
       "    .dataframe thead th {\n",
       "        text-align: right;\n",
       "    }\n",
       "</style>\n",
       "<table border=\"1\" class=\"dataframe\">\n",
       "  <thead>\n",
       "    <tr style=\"text-align: right;\">\n",
       "      <th></th>\n",
       "      <th>DateTime</th>\n",
       "      <th>7-day moving average</th>\n",
       "      <th>Number of flights</th>\n",
       "    </tr>\n",
       "  </thead>\n",
       "  <tbody>\n",
       "    <tr>\n",
       "      <th>0</th>\n",
       "      <td>06/01/2020</td>\n",
       "      <td>168434</td>\n",
       "      <td>184566</td>\n",
       "    </tr>\n",
       "    <tr>\n",
       "      <th>1</th>\n",
       "      <td>07/01/2020</td>\n",
       "      <td>171657</td>\n",
       "      <td>183328</td>\n",
       "    </tr>\n",
       "    <tr>\n",
       "      <th>2</th>\n",
       "      <td>08/01/2020</td>\n",
       "      <td>176691</td>\n",
       "      <td>179306</td>\n",
       "    </tr>\n",
       "    <tr>\n",
       "      <th>3</th>\n",
       "      <td>09/01/2020</td>\n",
       "      <td>178076</td>\n",
       "      <td>185552</td>\n",
       "    </tr>\n",
       "    <tr>\n",
       "      <th>4</th>\n",
       "      <td>10/01/2020</td>\n",
       "      <td>179282</td>\n",
       "      <td>183890</td>\n",
       "    </tr>\n",
       "    <tr>\n",
       "      <th>...</th>\n",
       "      <td>...</td>\n",
       "      <td>...</td>\n",
       "      <td>...</td>\n",
       "    </tr>\n",
       "    <tr>\n",
       "      <th>153</th>\n",
       "      <td>07/06/2020</td>\n",
       "      <td>108754</td>\n",
       "      <td>90962</td>\n",
       "    </tr>\n",
       "    <tr>\n",
       "      <th>154</th>\n",
       "      <td>08/06/2020</td>\n",
       "      <td>107185</td>\n",
       "      <td>106809</td>\n",
       "    </tr>\n",
       "    <tr>\n",
       "      <th>155</th>\n",
       "      <td>09/06/2020</td>\n",
       "      <td>105888</td>\n",
       "      <td>109757</td>\n",
       "    </tr>\n",
       "    <tr>\n",
       "      <th>156</th>\n",
       "      <td>10/06/2020</td>\n",
       "      <td>105707</td>\n",
       "      <td>115051</td>\n",
       "    </tr>\n",
       "    <tr>\n",
       "      <th>157</th>\n",
       "      <td>11/06/2020</td>\n",
       "      <td>107275</td>\n",
       "      <td>123968</td>\n",
       "    </tr>\n",
       "  </tbody>\n",
       "</table>\n",
       "<p>158 rows × 3 columns</p>\n",
       "</div>"
      ],
      "text/plain": [
       "       DateTime  7-day moving average  Number of flights\n",
       "0    06/01/2020                168434             184566\n",
       "1    07/01/2020                171657             183328\n",
       "2    08/01/2020                176691             179306\n",
       "3    09/01/2020                178076             185552\n",
       "4    10/01/2020                179282             183890\n",
       "..          ...                   ...                ...\n",
       "153  07/06/2020                108754              90962\n",
       "154  08/06/2020                107185             106809\n",
       "155  09/06/2020                105888             109757\n",
       "156  10/06/2020                105707             115051\n",
       "157  11/06/2020                107275             123968\n",
       "\n",
       "[158 rows x 3 columns]"
      ]
     },
     "execution_count": 4,
     "metadata": {},
     "output_type": "execute_result"
    }
   ],
   "source": [
    "flights_change"
   ]
  },
  {
   "cell_type": "markdown",
   "metadata": {},
   "source": [
    "# Complementing the flight data\n",
    "We will use a linear trend to continue the flight data until we reach the original level. "
   ]
  },
  {
   "cell_type": "code",
   "execution_count": 5,
   "metadata": {},
   "outputs": [
    {
     "data": {
      "text/plain": [
       "178763.15384615384"
      ]
     },
     "execution_count": 5,
     "metadata": {},
     "output_type": "execute_result"
    }
   ],
   "source": [
    "flights0 = np.mean(flights_change[\"Number of flights\"].loc[[date[3:5] == \"01\" for date in flights_change[\"DateTime\"]]])\n",
    "start_fit = 120\n",
    "fit = np.polyfit(range(len(flights_change[\"Number of flights\"]))[start_fit:], flights_change[\"Number of flights\"][start_fit:], 1)\n",
    "xs = range(start_fit, 366)\n",
    "fitted_trend = np.poly1d(fit)(xs)\n",
    "flights0"
   ]
  },
  {
   "cell_type": "code",
   "execution_count": 6,
   "metadata": {},
   "outputs": [],
   "source": [
    "flights_list = list(flights_change[\"Number of flights\"][:]) + [\n",
    "    min(np.poly1d(fit)(x), flights0) for x in range(len(flights_change[\"Number of flights\"][:]), 366)\n",
    "]"
   ]
  },
  {
   "cell_type": "code",
   "execution_count": 7,
   "metadata": {},
   "outputs": [
    {
     "data": {
      "text/plain": [
       "[<matplotlib.lines.Line2D at 0x25f145c0f88>]"
      ]
     },
     "execution_count": 7,
     "metadata": {},
     "output_type": "execute_result"
    },
    {
     "data": {
      "image/png": "[encoded data removed]",
      "text/plain": [
       "<Figure size 1152x576 with 1 Axes>"
      ]
     },
     "metadata": {
      "needs_background": "light"
     },
     "output_type": "display_data"
    }
   ],
   "source": [
    "plt.figure(figsize=(16, 8))\n",
    "plt.plot()\n",
    "plt.plot(xs, fitted_trend)\n",
    "plt.plot(range(366), flights_list)"
   ]
  },
  {
   "cell_type": "code",
   "execution_count": 8,
   "metadata": {},
   "outputs": [],
   "source": [
    "flights = pd.DataFrame({\"Flights\": flights_list, \"month\": None})"
   ]
  },
  {
   "cell_type": "code",
   "execution_count": 9,
   "metadata": {},
   "outputs": [
    {
     "data": {
      "text/html": [
       "<div>\n",
       "<style scoped>\n",
       "    .dataframe tbody tr th:only-of-type {\n",
       "        vertical-align: middle;\n",
       "    }\n",
       "\n",
       "    .dataframe tbody tr th {\n",
       "        vertical-align: top;\n",
       "    }\n",
       "\n",
       "    .dataframe thead th {\n",
       "        text-align: right;\n",
       "    }\n",
       "</style>\n",
       "<table border=\"1\" class=\"dataframe\">\n",
       "  <thead>\n",
       "    <tr style=\"text-align: right;\">\n",
       "      <th></th>\n",
       "      <th>Flights</th>\n",
       "      <th>month</th>\n",
       "    </tr>\n",
       "  </thead>\n",
       "  <tbody>\n",
       "    <tr>\n",
       "      <th>0</th>\n",
       "      <td>184566.000000</td>\n",
       "      <td>None</td>\n",
       "    </tr>\n",
       "    <tr>\n",
       "      <th>1</th>\n",
       "      <td>183328.000000</td>\n",
       "      <td>None</td>\n",
       "    </tr>\n",
       "    <tr>\n",
       "      <th>2</th>\n",
       "      <td>179306.000000</td>\n",
       "      <td>None</td>\n",
       "    </tr>\n",
       "    <tr>\n",
       "      <th>3</th>\n",
       "      <td>185552.000000</td>\n",
       "      <td>None</td>\n",
       "    </tr>\n",
       "    <tr>\n",
       "      <th>4</th>\n",
       "      <td>183890.000000</td>\n",
       "      <td>None</td>\n",
       "    </tr>\n",
       "    <tr>\n",
       "      <th>...</th>\n",
       "      <td>...</td>\n",
       "      <td>...</td>\n",
       "    </tr>\n",
       "    <tr>\n",
       "      <th>361</th>\n",
       "      <td>178763.153846</td>\n",
       "      <td>None</td>\n",
       "    </tr>\n",
       "    <tr>\n",
       "      <th>362</th>\n",
       "      <td>178763.153846</td>\n",
       "      <td>None</td>\n",
       "    </tr>\n",
       "    <tr>\n",
       "      <th>363</th>\n",
       "      <td>178763.153846</td>\n",
       "      <td>None</td>\n",
       "    </tr>\n",
       "    <tr>\n",
       "      <th>364</th>\n",
       "      <td>178763.153846</td>\n",
       "      <td>None</td>\n",
       "    </tr>\n",
       "    <tr>\n",
       "      <th>365</th>\n",
       "      <td>178763.153846</td>\n",
       "      <td>None</td>\n",
       "    </tr>\n",
       "  </tbody>\n",
       "</table>\n",
       "<p>366 rows × 2 columns</p>\n",
       "</div>"
      ],
      "text/plain": [
       "           Flights month\n",
       "0    184566.000000  None\n",
       "1    183328.000000  None\n",
       "2    179306.000000  None\n",
       "3    185552.000000  None\n",
       "4    183890.000000  None\n",
       "..             ...   ...\n",
       "361  178763.153846  None\n",
       "362  178763.153846  None\n",
       "363  178763.153846  None\n",
       "364  178763.153846  None\n",
       "365  178763.153846  None\n",
       "\n",
       "[366 rows x 2 columns]"
      ]
     },
     "execution_count": 9,
     "metadata": {},
     "output_type": "execute_result"
    }
   ],
   "source": [
    "flights"
   ]
  },
  {
   "cell_type": "code",
   "execution_count": 10,
   "metadata": {},
   "outputs": [
    {
     "data": {
      "text/plain": [
       "0      2020-01-06\n",
       "1      2020-01-07\n",
       "2      2020-01-08\n",
       "3      2020-01-09\n",
       "4      2020-01-10\n",
       "          ...    \n",
       "361    2021-01-01\n",
       "362    2021-01-02\n",
       "363    2021-01-03\n",
       "364    2021-01-04\n",
       "365    2021-01-05\n",
       "Name: date, Length: 366, dtype: object"
      ]
     },
     "execution_count": 10,
     "metadata": {},
     "output_type": "execute_result"
    }
   ],
   "source": [
    "flights[\"date\"] = [date(year = 2020, month = 1, day =6) + timedelta(days=i) for i in flights.index]\n",
    "flights[\"month\"] = [i.month for i in flights[\"date\"]]\n",
    "flights[\"date\"]"
   ]
  },
  {
   "cell_type": "code",
   "execution_count": 11,
   "metadata": {},
   "outputs": [],
   "source": [
    "monthly_flight_chng = flights.groupby(\"month\").mean() / flights0"
   ]
  },
  {
   "cell_type": "code",
   "execution_count": 12,
   "metadata": {},
   "outputs": [
    {
     "data": {
      "text/html": [
       "<div>\n",
       "<style scoped>\n",
       "    .dataframe tbody tr th:only-of-type {\n",
       "        vertical-align: middle;\n",
       "    }\n",
       "\n",
       "    .dataframe tbody tr th {\n",
       "        vertical-align: top;\n",
       "    }\n",
       "\n",
       "    .dataframe thead th {\n",
       "        text-align: right;\n",
       "    }\n",
       "</style>\n",
       "<table border=\"1\" class=\"dataframe\">\n",
       "  <thead>\n",
       "    <tr style=\"text-align: right;\">\n",
       "      <th></th>\n",
       "      <th>Flights</th>\n",
       "    </tr>\n",
       "    <tr>\n",
       "      <th>month</th>\n",
       "      <th></th>\n",
       "    </tr>\n",
       "  </thead>\n",
       "  <tbody>\n",
       "    <tr>\n",
       "      <th>1</th>\n",
       "      <td>1.000000</td>\n",
       "    </tr>\n",
       "    <tr>\n",
       "      <th>2</th>\n",
       "      <td>0.969684</td>\n",
       "    </tr>\n",
       "    <tr>\n",
       "      <th>3</th>\n",
       "      <td>0.774975</td>\n",
       "    </tr>\n",
       "    <tr>\n",
       "      <th>4</th>\n",
       "      <td>0.389300</td>\n",
       "    </tr>\n",
       "    <tr>\n",
       "      <th>5</th>\n",
       "      <td>0.514691</td>\n",
       "    </tr>\n",
       "    <tr>\n",
       "      <th>6</th>\n",
       "      <td>0.662681</td>\n",
       "    </tr>\n",
       "    <tr>\n",
       "      <th>7</th>\n",
       "      <td>0.804775</td>\n",
       "    </tr>\n",
       "    <tr>\n",
       "      <th>8</th>\n",
       "      <td>0.947850</td>\n",
       "    </tr>\n",
       "    <tr>\n",
       "      <th>9</th>\n",
       "      <td>1.000000</td>\n",
       "    </tr>\n",
       "    <tr>\n",
       "      <th>10</th>\n",
       "      <td>1.000000</td>\n",
       "    </tr>\n",
       "    <tr>\n",
       "      <th>11</th>\n",
       "      <td>1.000000</td>\n",
       "    </tr>\n",
       "    <tr>\n",
       "      <th>12</th>\n",
       "      <td>1.000000</td>\n",
       "    </tr>\n",
       "  </tbody>\n",
       "</table>\n",
       "</div>"
      ],
      "text/plain": [
       "        Flights\n",
       "month          \n",
       "1      1.000000\n",
       "2      0.969684\n",
       "3      0.774975\n",
       "4      0.389300\n",
       "5      0.514691\n",
       "6      0.662681\n",
       "7      0.804775\n",
       "8      0.947850\n",
       "9      1.000000\n",
       "10     1.000000\n",
       "11     1.000000\n",
       "12     1.000000"
      ]
     },
     "execution_count": 12,
     "metadata": {},
     "output_type": "execute_result"
    }
   ],
   "source": [
    "monthly_flight_chng"
   ]
  },
  {
   "cell_type": "code",
   "execution_count": 13,
   "metadata": {},
   "outputs": [
    {
     "ename": "NameError",
     "evalue": "name 'blob' is not defined",
     "output_type": "error",
     "traceback": [
      "\u001b[1;31m---------------------------------------------------------------------------\u001b[0m",
      "\u001b[1;31mNameError\u001b[0m                                 Traceback (most recent call last)",
      "\u001b[1;32m<ipython-input-13-4b1568079f8f>\u001b[0m in \u001b[0;36m<module>\u001b[1;34m\u001b[0m\n\u001b[1;32m----> 1\u001b[1;33m \u001b[0mblob\u001b[0m\u001b[1;33m\u001b[0m\u001b[1;33m\u001b[0m\u001b[0m\n\u001b[0m",
      "\u001b[1;31mNameError\u001b[0m: name 'blob' is not defined"
     ]
    }
   ],
   "source": []
  },
  {
   "cell_type": "markdown",
   "metadata": {},
   "source": [
    "## Add interpolated years\n",
    "To ensure that 2020 is anomalous, we will interpolate the expected values from 2019 and 2023 before modifying 2020. "
   ]
  },
  {
   "cell_type": "code",
   "execution_count": 14,
   "metadata": {},
   "outputs": [
    {
     "name": "stdout",
     "output_type": "stream",
     "text": [
      "0:01:49.368999\n"
     ]
    }
   ],
   "source": [
    "# Since the data is extensive, we will cut it up first\n",
    "start = datetime.now()\n",
    "data = cutoff_netcdf_time(input_folder, output_folder, nox_input, tcutoff, scenario_string=\"\")\n",
    "end = datetime.now()\n",
    "print(end - start)"
   ]
  },
  {
   "cell_type": "code",
   "execution_count": 15,
   "metadata": {},
   "outputs": [],
   "source": [
    "data.close()\n",
    "data = copy_netcdf_file(\"cut_\" + nox_input, output_folder, output_folder, scenario_string)"
   ]
  },
  {
   "cell_type": "code",
   "execution_count": 16,
   "metadata": {},
   "outputs": [
    {
     "name": "stdout",
     "output_type": "stream",
     "text": [
      "0:00:04.048003\n",
      "0:00:07.959999\n",
      "0:00:11.885033\n",
      "0:00:15.746998\n",
      "0:00:19.556034\n",
      "0:00:23.345034\n",
      "0:00:27.184052\n",
      "0:00:30.984998\n",
      "0:00:34.835890\n",
      "0:00:38.630837\n",
      "0:00:42.410839\n",
      "0:00:46.274835\n",
      "Inserted data for 4\n",
      "0:00:49.207834\n",
      "0:00:52.178870\n",
      "0:00:55.124834\n",
      "0:00:58.011889\n",
      "0:01:00.912840\n",
      "0:01:03.812836\n",
      "0:01:06.763871\n",
      "0:01:09.652835\n",
      "0:01:12.574837\n",
      "0:01:15.487870\n",
      "0:01:18.372872\n",
      "0:01:21.290834\n",
      "Inserted data for 6\n"
     ]
    }
   ],
   "source": [
    "start = datetime.now()\n",
    "for yeardif in [4, 6]:\n",
    "    for i in range(1,13):\n",
    "        insert_interpolated_point(data, yeardif * 365 + data.variables[\"time\"][(i - 1)], 12, i)\n",
    "        end = datetime.now()\n",
    "        print(end - start)\n",
    "    print(\"Inserted data for {}\".format(yeardif))"
   ]
  },
  {
   "cell_type": "code",
   "execution_count": 52,
   "metadata": {},
   "outputs": [
    {
     "ename": "NameError",
     "evalue": "name 'month' is not defined",
     "output_type": "error",
     "traceback": [
      "\u001b[1;31m---------------------------------------------------------------------------\u001b[0m",
      "\u001b[1;31mNameError\u001b[0m                                 Traceback (most recent call last)",
      "\u001b[1;32m<ipython-input-52-3c50b702521c>\u001b[0m in \u001b[0;36m<module>\u001b[1;34m\u001b[0m\n\u001b[0;32m      6\u001b[0m         )\n\u001b[0;32m      7\u001b[0m     )\n\u001b[1;32m----> 8\u001b[1;33m     \u001b[0moutput\u001b[0m\u001b[1;33m[\u001b[0m\u001b[0mtimeind\u001b[0m\u001b[1;33m,\u001b[0m \u001b[1;33m...\u001b[0m\u001b[1;33m]\u001b[0m \u001b[1;33m*=\u001b[0m \u001b[0mmonthly_flight_chng\u001b[0m\u001b[1;33m[\u001b[0m\u001b[1;34m\"Flights\"\u001b[0m\u001b[1;33m]\u001b[0m\u001b[1;33m.\u001b[0m\u001b[0mloc\u001b[0m\u001b[1;33m[\u001b[0m\u001b[0mmonth\u001b[0m\u001b[1;33m]\u001b[0m\u001b[1;33m\u001b[0m\u001b[1;33m\u001b[0m\u001b[0m\n\u001b[0m",
      "\u001b[1;31mNameError\u001b[0m: name 'month' is not defined"
     ]
    }
   ],
   "source": [
    "output = data.variables[\"NOx_em_AIR_anthro\"][:]\n",
    "for time in range(1, 13):\n",
    "    timeind = np.where(\n",
    "        abs(data.variables[\"time\"][:] - convert_years_to_days(2020 + (time - 0.5)/12)) == min(\n",
    "            abs(data.variables[\"time\"][:] - convert_years_to_days(2020 + (time - 0.5)/12))\n",
    "        )\n",
    "    )\n",
    "    output[timeind, ...] *= monthly_flight_chng[\"Flights\"].loc[]"
   ]
  },
  {
   "cell_type": "code",
   "execution_count": null,
   "metadata": {},
   "outputs": [],
   "source": [
    "plt.figure(figsize=(16, 8))\n",
    "plt.plot(data.variables[\"time\"][:] / 365 + 2015, data.variables[\"NOx_em_AIR_anthro\"][:, 0, 283, 360], linewidth=2.5)\n",
    "plt.plot(data.variables[\"time\"][:] / 365 + 2015, output[:, 0, 283, 360],  linestyle=\"--\")"
   ]
  },
  {
   "cell_type": "code",
   "execution_count": null,
   "metadata": {},
   "outputs": [],
   "source": [
    "data.close()"
   ]
  },
  {
   "cell_type": "code",
   "execution_count": 40,
   "metadata": {},
   "outputs": [
    {
     "data": {
      "text/plain": [
       "(array([0, 0], dtype=int64),\n",
       " array([283, 283], dtype=int64),\n",
       " array([358, 359], dtype=int64))"
      ]
     },
     "execution_count": 40,
     "metadata": {},
     "output_type": "execute_result"
    }
   ],
   "source": [
    "np.where(output[1, ...] == output[1, ...].max())"
   ]
  },
  {
   "cell_type": "code",
   "execution_count": 39,
   "metadata": {},
   "outputs": [
    {
     "data": {
      "text/plain": [
       "1.7477023e-11"
      ]
     },
     "execution_count": 39,
     "metadata": {},
     "output_type": "execute_result"
    }
   ],
   "source": []
  }
 ],
 "metadata": {
  "kernelspec": {
   "display_name": "Python 3",
   "language": "python",
   "name": "python3"
  },
  "language_info": {
   "codemirror_mode": {
    "name": "ipython",
    "version": 3
   },
   "file_extension": ".py",
   "mimetype": "text/x-python",
   "name": "python",
   "nbconvert_exporter": "python",
   "pygments_lexer": "ipython3",
   "version": "3.7.6"
  }
 },
 "nbformat": 4,
 "nbformat_minor": 4
}
