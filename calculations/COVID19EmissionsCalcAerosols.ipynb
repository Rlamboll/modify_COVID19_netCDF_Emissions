{
 "cells": [
  {
   "cell_type": "markdown",
   "metadata": {},
   "source": [
    "# Calculate a 2D emissions grid incorporating COVID-19 effects for short-lived forcers"
   ]
  },
  {
   "cell_type": "code",
   "execution_count": 1,
   "metadata": {},
   "outputs": [],
   "source": [
    "import netCDF4 as nc\n",
    "import pandas as pd\n",
    "import numpy as np\n",
    "import reverse_geocoder as rg\n",
    "import matplotlib.pyplot as plt\n",
    "\n",
    "import os\n",
    "import sys\n",
    "\n",
    "sys.path.append(os.getcwd())\n",
    "from utils import copy_netcdf_file"
   ]
  },
  {
   "cell_type": "code",
   "execution_count": 2,
   "metadata": {},
   "outputs": [],
   "source": [
    "input_folder = \"../input/aerosols/\"\n",
    "output_folder = \"../output/\"\n",
    "\n",
    "# Input for the aerosols/gases\n",
    "input_nox = \"NOx-em-anthro_input4MIPs_emissions_ScenarioMIP_IAMC-MESSAGE-GLOBIOM-ssp245-1-1_gn_201501-210012.nc\"\n",
    "input_bc = \"BC-em-anthro_input4MIPs_emissions_ScenarioMIP_IAMC-MESSAGE-GLOBIOM-ssp245-1-1_gn_201501-210012.nc\"\n",
    "input_so2 = \"SO2-em-anthro_input4MIPs_emissions_ScenarioMIP_IAMC-MESSAGE-GLOBIOM-ssp245-1-1_gn_201501-210012.nc\"\n",
    "input_oc = \"OC-em-anthro_input4MIPs_emissions_ScenarioMIP_IAMC-MESSAGE-GLOBIOM-ssp245-1-1_gn_201501-210012.nc\"\n",
    "input_co = \"CO-em-anthro_input4MIPs_emissions_ScenarioMIP_IAMC-MESSAGE-GLOBIOM-ssp245-1-1_gn_201501-210012.nc\"\n",
    "input_nh3 = \"NH3-em-anthro_input4MIPs_emissions_ScenarioMIP_IAMC-MESSAGE-GLOBIOM-ssp245-1-1_gn_201501-210012.nc\"\n",
    "input_nmvoc = \"NMVOC-em-anthro_input4MIPs_emissions_ScenarioMIP_IAMC-MESSAGE-GLOBIOM-ssp245-1-1_gn_201501-210012.nc\"\n",
    "input_blip = \"Robin_sectors_V3.csv\"\n",
    "convert_country_code_file = \"convertCountryCodes.csv\"\n",
    "files_to_blip = [\n",
    "    input_co, \n",
    "    input_nh3, input_nmvoc,\n",
    "    input_oc, input_so2, input_nox, input_bc\n",
    "]\n",
    "key_variables = [\n",
    "    \"CO_em_anthro\", \n",
    "    \"NH3_em_anthro\", \"NMVOC_em_anthro\",\n",
    "    \"OC_em_anthro\", \"SO2_em_anthro\", \"NOx_em_anthro\", \"BC_em_anthro\"\n",
    "]\n",
    "# The name to affix on the variables output\n",
    "scenario_string = \"test.nc\""
   ]
  },
  {
   "cell_type": "code",
   "execution_count": 3,
   "metadata": {},
   "outputs": [],
   "source": [
    "assert len(files_to_blip) == len(key_variables) # check input"
   ]
  },
  {
   "cell_type": "markdown",
   "metadata": {},
   "source": [
    "## Collect and clean the data\n",
    "We need to make the blip factors consistent with the netCDF data structure. This will require example data, although the results should not depend which example is chosen. "
   ]
  },
  {
   "cell_type": "code",
   "execution_count": 4,
   "metadata": {},
   "outputs": [],
   "source": [
    "nox_0 = nc.Dataset(input_folder + input_nox, \"r\", format=\"NETCDF4\")\n",
    "blip_factors = pd.read_csv(input_folder + input_blip)\n",
    "convert_countries = pd.read_csv(input_folder + convert_country_code_file, keep_default_na=False, na_values=['_'])"
   ]
  },
  {
   "cell_type": "code",
   "execution_count": 5,
   "metadata": {},
   "outputs": [],
   "source": [
    "data_to_modify = [nox_0]"
   ]
  },
  {
   "cell_type": "code",
   "execution_count": 6,
   "metadata": {},
   "outputs": [
    {
     "name": "stdout",
     "output_type": "stream",
     "text": [
      "<class 'netCDF4._netCDF4.Dimension'>: name = 'lon', size = 720\n",
      "<class 'netCDF4._netCDF4.Dimension'>: name = 'lat', size = 360\n",
      "<class 'netCDF4._netCDF4.Dimension'>: name = 'sector', size = 8\n",
      "<class 'netCDF4._netCDF4.Dimension'> (unlimited): name = 'time', size = 120\n",
      "<class 'netCDF4._netCDF4.Dimension'>: name = 'bound', size = 2\n"
     ]
    }
   ],
   "source": [
    "for dimobj in nox_0.dimensions.values():\n",
    "...     print(dimobj)"
   ]
  },
  {
   "cell_type": "code",
   "execution_count": 7,
   "metadata": {},
   "outputs": [
    {
     "data": {
      "text/plain": [
       "<class 'netCDF4._netCDF4.Variable'>\n",
       "int32 sector(sector)\n",
       "    long_name: sector\n",
       "    bounds: sector_bnds\n",
       "    ids: 0: Agriculture; 1: Energy; 2: Industrial; 3: Transportation; 4: Residential, Commercial, Other; 5: Solvents production and application; 6: Waste; 7: International Shipping\n",
       "unlimited dimensions: \n",
       "current shape = (8,)\n",
       "filling on, default _FillValue of -2147483647 used"
      ]
     },
     "execution_count": 7,
     "metadata": {},
     "output_type": "execute_result"
    }
   ],
   "source": [
    "nox_0.variables[\"sector\"]"
   ]
  },
  {
   "cell_type": "code",
   "execution_count": 8,
   "metadata": {},
   "outputs": [],
   "source": [
    "blip_factors = blip_factors[~blip_factors[\"1\"].isna()]\n",
    "blip_sectors = blip_factors[\"Sector\"].unique()"
   ]
  },
  {
   "cell_type": "markdown",
   "metadata": {},
   "source": [
    "## Perform the sector weighting\n"
   ]
  },
  {
   "cell_type": "code",
   "execution_count": 9,
   "metadata": {},
   "outputs": [
    {
     "data": {
      "text/plain": [
       "array(['surface-transport', 'residential', 'public/commercial',\n",
       "       'industry', 'international-shipping', 'international-aviation',\n",
       "       'domestic-aviation', 'power'], dtype=object)"
      ]
     },
     "execution_count": 9,
     "metadata": {},
     "output_type": "execute_result"
    }
   ],
   "source": [
    "blip_sectors"
   ]
  },
  {
   "cell_type": "markdown",
   "metadata": {},
   "source": [
    "The set of sectors in our blip need to be converted into our sectors in the netCDF case. This uses:\n",
    "0: Agriculture; 1: Energy; 2: Industrial; 3: Transportation; 4: Residential, Commercial, Other; 5: Solvents production and application; 6: Waste; 7: International Shipping"
   ]
  },
  {
   "cell_type": "code",
   "execution_count": 10,
   "metadata": {},
   "outputs": [],
   "source": [
    "sector_dict = {\"surface-transport\": 3, \"residential\": 4, \"public/commercial\": -4, \"industry\": 2, \n",
    " \"international-shipping\":7, \"international-aviation\": -1, \"domestic-aviation\": -2, \"power\": 1}\n",
    "sectors_to_use = [1, 2, 3, 4, 5, 7]  # We will manage sectors 6 and 7 elsewhere, no change to sector 0 (agri)."
   ]
  },
  {
   "cell_type": "code",
   "execution_count": 11,
   "metadata": {},
   "outputs": [
    {
     "data": {
      "text/html": [
       "<div>\n",
       "<style scoped>\n",
       "    .dataframe tbody tr th:only-of-type {\n",
       "        vertical-align: middle;\n",
       "    }\n",
       "\n",
       "    .dataframe tbody tr th {\n",
       "        vertical-align: top;\n",
       "    }\n",
       "\n",
       "    .dataframe thead th {\n",
       "        text-align: right;\n",
       "    }\n",
       "</style>\n",
       "<table border=\"1\" class=\"dataframe\">\n",
       "  <thead>\n",
       "    <tr style=\"text-align: right;\">\n",
       "      <th></th>\n",
       "      <th>ISO_A3</th>\n",
       "      <th>Sector</th>\n",
       "      <th>Base%</th>\n",
       "      <th>1</th>\n",
       "      <th>2</th>\n",
       "      <th>3</th>\n",
       "      <th>4</th>\n",
       "      <th>5</th>\n",
       "      <th>6</th>\n",
       "      <th>7</th>\n",
       "      <th>...</th>\n",
       "      <th>357</th>\n",
       "      <th>358</th>\n",
       "      <th>359</th>\n",
       "      <th>360</th>\n",
       "      <th>361</th>\n",
       "      <th>362</th>\n",
       "      <th>363</th>\n",
       "      <th>364</th>\n",
       "      <th>365</th>\n",
       "      <th>366</th>\n",
       "    </tr>\n",
       "  </thead>\n",
       "  <tbody>\n",
       "    <tr>\n",
       "      <th>0</th>\n",
       "      <td>ALB</td>\n",
       "      <td>3</td>\n",
       "      <td>42.007797</td>\n",
       "      <td>0.0</td>\n",
       "      <td>0.0</td>\n",
       "      <td>0.0</td>\n",
       "      <td>0.0</td>\n",
       "      <td>0.0</td>\n",
       "      <td>0.0</td>\n",
       "      <td>0.0</td>\n",
       "      <td>...</td>\n",
       "      <td>0.000000</td>\n",
       "      <td>0.000000</td>\n",
       "      <td>0.000000</td>\n",
       "      <td>0.000000</td>\n",
       "      <td>0.000000</td>\n",
       "      <td>0.000000</td>\n",
       "      <td>0.000000</td>\n",
       "      <td>0.000000</td>\n",
       "      <td>0.000000</td>\n",
       "      <td>0.000000</td>\n",
       "    </tr>\n",
       "    <tr>\n",
       "      <th>1</th>\n",
       "      <td>DZA</td>\n",
       "      <td>3</td>\n",
       "      <td>31.360946</td>\n",
       "      <td>0.0</td>\n",
       "      <td>0.0</td>\n",
       "      <td>0.0</td>\n",
       "      <td>0.0</td>\n",
       "      <td>0.0</td>\n",
       "      <td>0.0</td>\n",
       "      <td>0.0</td>\n",
       "      <td>...</td>\n",
       "      <td>-0.407000</td>\n",
       "      <td>-0.407000</td>\n",
       "      <td>-0.407000</td>\n",
       "      <td>-0.407000</td>\n",
       "      <td>-0.407000</td>\n",
       "      <td>-0.407000</td>\n",
       "      <td>-0.407000</td>\n",
       "      <td>-0.407000</td>\n",
       "      <td>-0.407000</td>\n",
       "      <td>-0.407000</td>\n",
       "    </tr>\n",
       "    <tr>\n",
       "      <th>2</th>\n",
       "      <td>AGO</td>\n",
       "      <td>3</td>\n",
       "      <td>29.972754</td>\n",
       "      <td>0.0</td>\n",
       "      <td>0.0</td>\n",
       "      <td>0.0</td>\n",
       "      <td>0.0</td>\n",
       "      <td>0.0</td>\n",
       "      <td>0.0</td>\n",
       "      <td>0.0</td>\n",
       "      <td>...</td>\n",
       "      <td>-0.394429</td>\n",
       "      <td>-0.394429</td>\n",
       "      <td>-0.394429</td>\n",
       "      <td>-0.394429</td>\n",
       "      <td>-0.394429</td>\n",
       "      <td>-0.394429</td>\n",
       "      <td>-0.394429</td>\n",
       "      <td>-0.394429</td>\n",
       "      <td>-0.394429</td>\n",
       "      <td>-0.394429</td>\n",
       "    </tr>\n",
       "    <tr>\n",
       "      <th>3</th>\n",
       "      <td>ARG</td>\n",
       "      <td>3</td>\n",
       "      <td>23.181375</td>\n",
       "      <td>0.0</td>\n",
       "      <td>0.0</td>\n",
       "      <td>0.0</td>\n",
       "      <td>0.0</td>\n",
       "      <td>0.0</td>\n",
       "      <td>0.0</td>\n",
       "      <td>0.0</td>\n",
       "      <td>...</td>\n",
       "      <td>-0.447951</td>\n",
       "      <td>-0.447951</td>\n",
       "      <td>-0.447951</td>\n",
       "      <td>-0.447951</td>\n",
       "      <td>-0.447951</td>\n",
       "      <td>-0.447951</td>\n",
       "      <td>-0.447951</td>\n",
       "      <td>-0.447951</td>\n",
       "      <td>-0.447951</td>\n",
       "      <td>-0.447951</td>\n",
       "    </tr>\n",
       "    <tr>\n",
       "      <th>4</th>\n",
       "      <td>ARM</td>\n",
       "      <td>3</td>\n",
       "      <td>30.523255</td>\n",
       "      <td>0.0</td>\n",
       "      <td>0.0</td>\n",
       "      <td>0.0</td>\n",
       "      <td>0.0</td>\n",
       "      <td>0.0</td>\n",
       "      <td>0.0</td>\n",
       "      <td>0.0</td>\n",
       "      <td>...</td>\n",
       "      <td>0.000000</td>\n",
       "      <td>0.000000</td>\n",
       "      <td>0.000000</td>\n",
       "      <td>0.000000</td>\n",
       "      <td>0.000000</td>\n",
       "      <td>0.000000</td>\n",
       "      <td>0.000000</td>\n",
       "      <td>0.000000</td>\n",
       "      <td>0.000000</td>\n",
       "      <td>0.000000</td>\n",
       "    </tr>\n",
       "  </tbody>\n",
       "</table>\n",
       "<p>5 rows × 369 columns</p>\n",
       "</div>"
      ],
      "text/plain": [
       "  ISO_A3  Sector      Base%    1    2    3    4    5    6    7  ...       357  \\\n",
       "0    ALB       3  42.007797  0.0  0.0  0.0  0.0  0.0  0.0  0.0  ...  0.000000   \n",
       "1    DZA       3  31.360946  0.0  0.0  0.0  0.0  0.0  0.0  0.0  ... -0.407000   \n",
       "2    AGO       3  29.972754  0.0  0.0  0.0  0.0  0.0  0.0  0.0  ... -0.394429   \n",
       "3    ARG       3  23.181375  0.0  0.0  0.0  0.0  0.0  0.0  0.0  ... -0.447951   \n",
       "4    ARM       3  30.523255  0.0  0.0  0.0  0.0  0.0  0.0  0.0  ...  0.000000   \n",
       "\n",
       "        358       359       360       361       362       363       364  \\\n",
       "0  0.000000  0.000000  0.000000  0.000000  0.000000  0.000000  0.000000   \n",
       "1 -0.407000 -0.407000 -0.407000 -0.407000 -0.407000 -0.407000 -0.407000   \n",
       "2 -0.394429 -0.394429 -0.394429 -0.394429 -0.394429 -0.394429 -0.394429   \n",
       "3 -0.447951 -0.447951 -0.447951 -0.447951 -0.447951 -0.447951 -0.447951   \n",
       "4  0.000000  0.000000  0.000000  0.000000  0.000000  0.000000  0.000000   \n",
       "\n",
       "        365       366  \n",
       "0  0.000000  0.000000  \n",
       "1 -0.407000 -0.407000  \n",
       "2 -0.394429 -0.394429  \n",
       "3 -0.447951 -0.447951  \n",
       "4  0.000000  0.000000  \n",
       "\n",
       "[5 rows x 369 columns]"
      ]
     },
     "execution_count": 11,
     "metadata": {},
     "output_type": "execute_result"
    }
   ],
   "source": [
    "blip_factors_multi = blip_factors.copy()\n",
    "blip_factors_multi.drop([\"Country\", \"Base(MtCO2/day)\", \"Unnamed: 0\"], axis=1, inplace=True)\n",
    "blip_factors_multi[\"Sector\"] = [sector_dict[sect] for sect in blip_factors_multi[\"Sector\"]]\n",
    "blip_factors_multi.head()"
   ]
  },
  {
   "cell_type": "code",
   "execution_count": 12,
   "metadata": {},
   "outputs": [
    {
     "data": {
      "text/html": [
       "<div>\n",
       "<style scoped>\n",
       "    .dataframe tbody tr th:only-of-type {\n",
       "        vertical-align: middle;\n",
       "    }\n",
       "\n",
       "    .dataframe tbody tr th {\n",
       "        vertical-align: top;\n",
       "    }\n",
       "\n",
       "    .dataframe thead th {\n",
       "        text-align: right;\n",
       "    }\n",
       "</style>\n",
       "<table border=\"1\" class=\"dataframe\">\n",
       "  <thead>\n",
       "    <tr style=\"text-align: right;\">\n",
       "      <th></th>\n",
       "      <th></th>\n",
       "      <th>Base%</th>\n",
       "      <th>1</th>\n",
       "      <th>2</th>\n",
       "      <th>3</th>\n",
       "      <th>4</th>\n",
       "      <th>5</th>\n",
       "      <th>6</th>\n",
       "      <th>7</th>\n",
       "      <th>8</th>\n",
       "      <th>9</th>\n",
       "      <th>...</th>\n",
       "      <th>357</th>\n",
       "      <th>358</th>\n",
       "      <th>359</th>\n",
       "      <th>360</th>\n",
       "      <th>361</th>\n",
       "      <th>362</th>\n",
       "      <th>363</th>\n",
       "      <th>364</th>\n",
       "      <th>365</th>\n",
       "      <th>366</th>\n",
       "    </tr>\n",
       "    <tr>\n",
       "      <th>ISO_A3</th>\n",
       "      <th>Sector</th>\n",
       "      <th></th>\n",
       "      <th></th>\n",
       "      <th></th>\n",
       "      <th></th>\n",
       "      <th></th>\n",
       "      <th></th>\n",
       "      <th></th>\n",
       "      <th></th>\n",
       "      <th></th>\n",
       "      <th></th>\n",
       "      <th></th>\n",
       "      <th></th>\n",
       "      <th></th>\n",
       "      <th></th>\n",
       "      <th></th>\n",
       "      <th></th>\n",
       "      <th></th>\n",
       "      <th></th>\n",
       "      <th></th>\n",
       "      <th></th>\n",
       "      <th></th>\n",
       "    </tr>\n",
       "  </thead>\n",
       "  <tbody>\n",
       "    <tr>\n",
       "      <th>ALB</th>\n",
       "      <th>3</th>\n",
       "      <td>42.007797</td>\n",
       "      <td>0.0</td>\n",
       "      <td>0.0</td>\n",
       "      <td>0.0</td>\n",
       "      <td>0.0</td>\n",
       "      <td>0.0</td>\n",
       "      <td>0.0</td>\n",
       "      <td>0.0</td>\n",
       "      <td>0.0</td>\n",
       "      <td>0.0</td>\n",
       "      <td>...</td>\n",
       "      <td>0.000000</td>\n",
       "      <td>0.000000</td>\n",
       "      <td>0.000000</td>\n",
       "      <td>0.000000</td>\n",
       "      <td>0.000000</td>\n",
       "      <td>0.000000</td>\n",
       "      <td>0.000000</td>\n",
       "      <td>0.000000</td>\n",
       "      <td>0.000000</td>\n",
       "      <td>0.000000</td>\n",
       "    </tr>\n",
       "    <tr>\n",
       "      <th>DZA</th>\n",
       "      <th>3</th>\n",
       "      <td>31.360946</td>\n",
       "      <td>0.0</td>\n",
       "      <td>0.0</td>\n",
       "      <td>0.0</td>\n",
       "      <td>0.0</td>\n",
       "      <td>0.0</td>\n",
       "      <td>0.0</td>\n",
       "      <td>0.0</td>\n",
       "      <td>0.0</td>\n",
       "      <td>0.0</td>\n",
       "      <td>...</td>\n",
       "      <td>-0.407000</td>\n",
       "      <td>-0.407000</td>\n",
       "      <td>-0.407000</td>\n",
       "      <td>-0.407000</td>\n",
       "      <td>-0.407000</td>\n",
       "      <td>-0.407000</td>\n",
       "      <td>-0.407000</td>\n",
       "      <td>-0.407000</td>\n",
       "      <td>-0.407000</td>\n",
       "      <td>-0.407000</td>\n",
       "    </tr>\n",
       "    <tr>\n",
       "      <th>AGO</th>\n",
       "      <th>3</th>\n",
       "      <td>29.972754</td>\n",
       "      <td>0.0</td>\n",
       "      <td>0.0</td>\n",
       "      <td>0.0</td>\n",
       "      <td>0.0</td>\n",
       "      <td>0.0</td>\n",
       "      <td>0.0</td>\n",
       "      <td>0.0</td>\n",
       "      <td>0.0</td>\n",
       "      <td>0.0</td>\n",
       "      <td>...</td>\n",
       "      <td>-0.394429</td>\n",
       "      <td>-0.394429</td>\n",
       "      <td>-0.394429</td>\n",
       "      <td>-0.394429</td>\n",
       "      <td>-0.394429</td>\n",
       "      <td>-0.394429</td>\n",
       "      <td>-0.394429</td>\n",
       "      <td>-0.394429</td>\n",
       "      <td>-0.394429</td>\n",
       "      <td>-0.394429</td>\n",
       "    </tr>\n",
       "    <tr>\n",
       "      <th>ARG</th>\n",
       "      <th>3</th>\n",
       "      <td>23.181375</td>\n",
       "      <td>0.0</td>\n",
       "      <td>0.0</td>\n",
       "      <td>0.0</td>\n",
       "      <td>0.0</td>\n",
       "      <td>0.0</td>\n",
       "      <td>0.0</td>\n",
       "      <td>0.0</td>\n",
       "      <td>0.0</td>\n",
       "      <td>0.0</td>\n",
       "      <td>...</td>\n",
       "      <td>-0.447951</td>\n",
       "      <td>-0.447951</td>\n",
       "      <td>-0.447951</td>\n",
       "      <td>-0.447951</td>\n",
       "      <td>-0.447951</td>\n",
       "      <td>-0.447951</td>\n",
       "      <td>-0.447951</td>\n",
       "      <td>-0.447951</td>\n",
       "      <td>-0.447951</td>\n",
       "      <td>-0.447951</td>\n",
       "    </tr>\n",
       "    <tr>\n",
       "      <th>ARM</th>\n",
       "      <th>3</th>\n",
       "      <td>30.523255</td>\n",
       "      <td>0.0</td>\n",
       "      <td>0.0</td>\n",
       "      <td>0.0</td>\n",
       "      <td>0.0</td>\n",
       "      <td>0.0</td>\n",
       "      <td>0.0</td>\n",
       "      <td>0.0</td>\n",
       "      <td>0.0</td>\n",
       "      <td>0.0</td>\n",
       "      <td>...</td>\n",
       "      <td>0.000000</td>\n",
       "      <td>0.000000</td>\n",
       "      <td>0.000000</td>\n",
       "      <td>0.000000</td>\n",
       "      <td>0.000000</td>\n",
       "      <td>0.000000</td>\n",
       "      <td>0.000000</td>\n",
       "      <td>0.000000</td>\n",
       "      <td>0.000000</td>\n",
       "      <td>0.000000</td>\n",
       "    </tr>\n",
       "  </tbody>\n",
       "</table>\n",
       "<p>5 rows × 367 columns</p>\n",
       "</div>"
      ],
      "text/plain": [
       "                   Base%    1    2    3    4    5    6    7    8    9  ...  \\\n",
       "ISO_A3 Sector                                                          ...   \n",
       "ALB    3       42.007797  0.0  0.0  0.0  0.0  0.0  0.0  0.0  0.0  0.0  ...   \n",
       "DZA    3       31.360946  0.0  0.0  0.0  0.0  0.0  0.0  0.0  0.0  0.0  ...   \n",
       "AGO    3       29.972754  0.0  0.0  0.0  0.0  0.0  0.0  0.0  0.0  0.0  ...   \n",
       "ARG    3       23.181375  0.0  0.0  0.0  0.0  0.0  0.0  0.0  0.0  0.0  ...   \n",
       "ARM    3       30.523255  0.0  0.0  0.0  0.0  0.0  0.0  0.0  0.0  0.0  ...   \n",
       "\n",
       "                    357       358       359       360       361       362  \\\n",
       "ISO_A3 Sector                                                               \n",
       "ALB    3       0.000000  0.000000  0.000000  0.000000  0.000000  0.000000   \n",
       "DZA    3      -0.407000 -0.407000 -0.407000 -0.407000 -0.407000 -0.407000   \n",
       "AGO    3      -0.394429 -0.394429 -0.394429 -0.394429 -0.394429 -0.394429   \n",
       "ARG    3      -0.447951 -0.447951 -0.447951 -0.447951 -0.447951 -0.447951   \n",
       "ARM    3       0.000000  0.000000  0.000000  0.000000  0.000000  0.000000   \n",
       "\n",
       "                    363       364       365       366  \n",
       "ISO_A3 Sector                                          \n",
       "ALB    3       0.000000  0.000000  0.000000  0.000000  \n",
       "DZA    3      -0.407000 -0.407000 -0.407000 -0.407000  \n",
       "AGO    3      -0.394429 -0.394429 -0.394429 -0.394429  \n",
       "ARG    3      -0.447951 -0.447951 -0.447951 -0.447951  \n",
       "ARM    3       0.000000  0.000000  0.000000  0.000000  \n",
       "\n",
       "[5 rows x 367 columns]"
      ]
     },
     "execution_count": 12,
     "metadata": {},
     "output_type": "execute_result"
    }
   ],
   "source": [
    "blip_factors_multi.set_index(blip_factors_multi.columns[:2].to_list(), drop=True, inplace=True)\n",
    "blip_factors_multi.head()"
   ]
  },
  {
   "cell_type": "code",
   "execution_count": 13,
   "metadata": {},
   "outputs": [],
   "source": [
    "# We want to average the two sets of sector 4 together in the right ratio\n",
    "all_countries = blip_factors_multi.index.get_level_values(\"ISO_A3\").unique()\n",
    "for country in all_countries:\n",
    "    if (country, 4) in blip_factors_multi.index and (country, -4) in blip_factors_multi.index:\n",
    "        blip_factors_multi.loc[country, 4] = (\n",
    "            blip_factors_multi.loc[country, 4].values * \n",
    "            blip_factors_multi[\"Base%\"][country, 4] + \n",
    "            blip_factors_multi.loc[country, -4].values * blip_factors_multi[\"Base%\"][country, -4]\n",
    "            ) / (\n",
    "                blip_factors_multi[\"Base%\"][country, 4] + blip_factors_multi[\"Base%\"][country, -4]\n",
    "            )\n",
    "        blip_factors_multi[\"Base%\"][country, 4] = blip_factors_multi[\"Base%\"][country, 4] + \\\n",
    "            blip_factors_multi[\"Base%\"][country, -4]\n",
    "        blip_factors_multi.drop((country, -4), inplace=True)\n",
    "    elif (country, -4) in blip_factors_multi.index:\n",
    "        blip_factors_multi.loc[country, 4] = blip_factors_multi.loc[country, -4]\n",
    "    elif (country, 4) in blip_factors_multi.index:\n",
    "        continue\n",
    "    else:\n",
    "        print(\"no data for {}\".format(country))"
   ]
  },
  {
   "cell_type": "code",
   "execution_count": 14,
   "metadata": {},
   "outputs": [],
   "source": [
    "# Test that this produces the right answers\n",
    "example_factor = blip_factors[\n",
    "    (blip_factors[\"ISO_A3\"] == \"GBR\") & (blip_factors[\"Sector\"].isin([\"residential\", \"public/commercial\"]))\n",
    "][[\"Base%\", \"100\"]]\n",
    "assert np.isclose(blip_factors_multi.loc[\"GBR\", 4][100], sum(\n",
    "    example_factor[\"Base%\"] * example_factor[\"100\"]) / sum(example_factor[\"Base%\"])\n",
    ")"
   ]
  },
  {
   "cell_type": "code",
   "execution_count": 15,
   "metadata": {},
   "outputs": [
    {
     "data": {
      "text/html": [
       "<div>\n",
       "<style scoped>\n",
       "    .dataframe tbody tr th:only-of-type {\n",
       "        vertical-align: middle;\n",
       "    }\n",
       "\n",
       "    .dataframe tbody tr th {\n",
       "        vertical-align: top;\n",
       "    }\n",
       "\n",
       "    .dataframe thead th {\n",
       "        text-align: right;\n",
       "    }\n",
       "</style>\n",
       "<table border=\"1\" class=\"dataframe\">\n",
       "  <thead>\n",
       "    <tr style=\"text-align: right;\">\n",
       "      <th></th>\n",
       "      <th></th>\n",
       "      <th>Base%</th>\n",
       "      <th>1</th>\n",
       "      <th>2</th>\n",
       "      <th>3</th>\n",
       "      <th>4</th>\n",
       "      <th>5</th>\n",
       "      <th>6</th>\n",
       "      <th>7</th>\n",
       "      <th>8</th>\n",
       "      <th>9</th>\n",
       "      <th>...</th>\n",
       "      <th>357</th>\n",
       "      <th>358</th>\n",
       "      <th>359</th>\n",
       "      <th>360</th>\n",
       "      <th>361</th>\n",
       "      <th>362</th>\n",
       "      <th>363</th>\n",
       "      <th>364</th>\n",
       "      <th>365</th>\n",
       "      <th>366</th>\n",
       "    </tr>\n",
       "    <tr>\n",
       "      <th>ISO_A3</th>\n",
       "      <th>Sector</th>\n",
       "      <th></th>\n",
       "      <th></th>\n",
       "      <th></th>\n",
       "      <th></th>\n",
       "      <th></th>\n",
       "      <th></th>\n",
       "      <th></th>\n",
       "      <th></th>\n",
       "      <th></th>\n",
       "      <th></th>\n",
       "      <th></th>\n",
       "      <th></th>\n",
       "      <th></th>\n",
       "      <th></th>\n",
       "      <th></th>\n",
       "      <th></th>\n",
       "      <th></th>\n",
       "      <th></th>\n",
       "      <th></th>\n",
       "      <th></th>\n",
       "      <th></th>\n",
       "    </tr>\n",
       "  </thead>\n",
       "  <tbody>\n",
       "    <tr>\n",
       "      <th>ALB</th>\n",
       "      <th>3</th>\n",
       "      <td>42.007797</td>\n",
       "      <td>0.0</td>\n",
       "      <td>0.0</td>\n",
       "      <td>0.0</td>\n",
       "      <td>0.0</td>\n",
       "      <td>0.0</td>\n",
       "      <td>0.0</td>\n",
       "      <td>0.0</td>\n",
       "      <td>0.0</td>\n",
       "      <td>0.0</td>\n",
       "      <td>...</td>\n",
       "      <td>0.000000</td>\n",
       "      <td>0.000000</td>\n",
       "      <td>0.000000</td>\n",
       "      <td>0.000000</td>\n",
       "      <td>0.000000</td>\n",
       "      <td>0.000000</td>\n",
       "      <td>0.000000</td>\n",
       "      <td>0.000000</td>\n",
       "      <td>0.000000</td>\n",
       "      <td>0.000000</td>\n",
       "    </tr>\n",
       "    <tr>\n",
       "      <th>DZA</th>\n",
       "      <th>3</th>\n",
       "      <td>31.360946</td>\n",
       "      <td>0.0</td>\n",
       "      <td>0.0</td>\n",
       "      <td>0.0</td>\n",
       "      <td>0.0</td>\n",
       "      <td>0.0</td>\n",
       "      <td>0.0</td>\n",
       "      <td>0.0</td>\n",
       "      <td>0.0</td>\n",
       "      <td>0.0</td>\n",
       "      <td>...</td>\n",
       "      <td>-0.407000</td>\n",
       "      <td>-0.407000</td>\n",
       "      <td>-0.407000</td>\n",
       "      <td>-0.407000</td>\n",
       "      <td>-0.407000</td>\n",
       "      <td>-0.407000</td>\n",
       "      <td>-0.407000</td>\n",
       "      <td>-0.407000</td>\n",
       "      <td>-0.407000</td>\n",
       "      <td>-0.407000</td>\n",
       "    </tr>\n",
       "    <tr>\n",
       "      <th>AGO</th>\n",
       "      <th>3</th>\n",
       "      <td>29.972754</td>\n",
       "      <td>0.0</td>\n",
       "      <td>0.0</td>\n",
       "      <td>0.0</td>\n",
       "      <td>0.0</td>\n",
       "      <td>0.0</td>\n",
       "      <td>0.0</td>\n",
       "      <td>0.0</td>\n",
       "      <td>0.0</td>\n",
       "      <td>0.0</td>\n",
       "      <td>...</td>\n",
       "      <td>-0.394429</td>\n",
       "      <td>-0.394429</td>\n",
       "      <td>-0.394429</td>\n",
       "      <td>-0.394429</td>\n",
       "      <td>-0.394429</td>\n",
       "      <td>-0.394429</td>\n",
       "      <td>-0.394429</td>\n",
       "      <td>-0.394429</td>\n",
       "      <td>-0.394429</td>\n",
       "      <td>-0.394429</td>\n",
       "    </tr>\n",
       "    <tr>\n",
       "      <th>ARG</th>\n",
       "      <th>3</th>\n",
       "      <td>23.181375</td>\n",
       "      <td>0.0</td>\n",
       "      <td>0.0</td>\n",
       "      <td>0.0</td>\n",
       "      <td>0.0</td>\n",
       "      <td>0.0</td>\n",
       "      <td>0.0</td>\n",
       "      <td>0.0</td>\n",
       "      <td>0.0</td>\n",
       "      <td>0.0</td>\n",
       "      <td>...</td>\n",
       "      <td>-0.447951</td>\n",
       "      <td>-0.447951</td>\n",
       "      <td>-0.447951</td>\n",
       "      <td>-0.447951</td>\n",
       "      <td>-0.447951</td>\n",
       "      <td>-0.447951</td>\n",
       "      <td>-0.447951</td>\n",
       "      <td>-0.447951</td>\n",
       "      <td>-0.447951</td>\n",
       "      <td>-0.447951</td>\n",
       "    </tr>\n",
       "    <tr>\n",
       "      <th>ARM</th>\n",
       "      <th>3</th>\n",
       "      <td>30.523255</td>\n",
       "      <td>0.0</td>\n",
       "      <td>0.0</td>\n",
       "      <td>0.0</td>\n",
       "      <td>0.0</td>\n",
       "      <td>0.0</td>\n",
       "      <td>0.0</td>\n",
       "      <td>0.0</td>\n",
       "      <td>0.0</td>\n",
       "      <td>0.0</td>\n",
       "      <td>...</td>\n",
       "      <td>0.000000</td>\n",
       "      <td>0.000000</td>\n",
       "      <td>0.000000</td>\n",
       "      <td>0.000000</td>\n",
       "      <td>0.000000</td>\n",
       "      <td>0.000000</td>\n",
       "      <td>0.000000</td>\n",
       "      <td>0.000000</td>\n",
       "      <td>0.000000</td>\n",
       "      <td>0.000000</td>\n",
       "    </tr>\n",
       "    <tr>\n",
       "      <th>...</th>\n",
       "      <th>...</th>\n",
       "      <td>...</td>\n",
       "      <td>...</td>\n",
       "      <td>...</td>\n",
       "      <td>...</td>\n",
       "      <td>...</td>\n",
       "      <td>...</td>\n",
       "      <td>...</td>\n",
       "      <td>...</td>\n",
       "      <td>...</td>\n",
       "      <td>...</td>\n",
       "      <td>...</td>\n",
       "      <td>...</td>\n",
       "      <td>...</td>\n",
       "      <td>...</td>\n",
       "      <td>...</td>\n",
       "      <td>...</td>\n",
       "      <td>...</td>\n",
       "      <td>...</td>\n",
       "      <td>...</td>\n",
       "      <td>...</td>\n",
       "      <td>...</td>\n",
       "    </tr>\n",
       "    <tr>\n",
       "      <th>VEN</th>\n",
       "      <th>1</th>\n",
       "      <td>43.093385</td>\n",
       "      <td>0.0</td>\n",
       "      <td>0.0</td>\n",
       "      <td>0.0</td>\n",
       "      <td>0.0</td>\n",
       "      <td>0.0</td>\n",
       "      <td>0.0</td>\n",
       "      <td>0.0</td>\n",
       "      <td>0.0</td>\n",
       "      <td>0.0</td>\n",
       "      <td>...</td>\n",
       "      <td>-0.154102</td>\n",
       "      <td>-0.154102</td>\n",
       "      <td>-0.154102</td>\n",
       "      <td>-0.154102</td>\n",
       "      <td>-0.154102</td>\n",
       "      <td>-0.154102</td>\n",
       "      <td>-0.154102</td>\n",
       "      <td>-0.154102</td>\n",
       "      <td>-0.154102</td>\n",
       "      <td>-0.154102</td>\n",
       "    </tr>\n",
       "    <tr>\n",
       "      <th>VNM</th>\n",
       "      <th>1</th>\n",
       "      <td>31.822661</td>\n",
       "      <td>0.0</td>\n",
       "      <td>0.0</td>\n",
       "      <td>0.0</td>\n",
       "      <td>0.0</td>\n",
       "      <td>0.0</td>\n",
       "      <td>0.0</td>\n",
       "      <td>0.0</td>\n",
       "      <td>0.0</td>\n",
       "      <td>0.0</td>\n",
       "      <td>...</td>\n",
       "      <td>-0.077964</td>\n",
       "      <td>-0.077964</td>\n",
       "      <td>-0.077964</td>\n",
       "      <td>-0.077964</td>\n",
       "      <td>-0.077964</td>\n",
       "      <td>-0.077964</td>\n",
       "      <td>-0.077964</td>\n",
       "      <td>-0.077964</td>\n",
       "      <td>-0.077964</td>\n",
       "      <td>-0.077964</td>\n",
       "    </tr>\n",
       "    <tr>\n",
       "      <th>YEM</th>\n",
       "      <th>1</th>\n",
       "      <td>34.652509</td>\n",
       "      <td>0.0</td>\n",
       "      <td>0.0</td>\n",
       "      <td>0.0</td>\n",
       "      <td>0.0</td>\n",
       "      <td>0.0</td>\n",
       "      <td>0.0</td>\n",
       "      <td>0.0</td>\n",
       "      <td>0.0</td>\n",
       "      <td>0.0</td>\n",
       "      <td>...</td>\n",
       "      <td>-0.008565</td>\n",
       "      <td>-0.008565</td>\n",
       "      <td>-0.008565</td>\n",
       "      <td>-0.008565</td>\n",
       "      <td>-0.008565</td>\n",
       "      <td>-0.008565</td>\n",
       "      <td>-0.008565</td>\n",
       "      <td>-0.008565</td>\n",
       "      <td>-0.008565</td>\n",
       "      <td>-0.008565</td>\n",
       "    </tr>\n",
       "    <tr>\n",
       "      <th>ZMB</th>\n",
       "      <th>1</th>\n",
       "      <td>26.424361</td>\n",
       "      <td>0.0</td>\n",
       "      <td>0.0</td>\n",
       "      <td>0.0</td>\n",
       "      <td>0.0</td>\n",
       "      <td>0.0</td>\n",
       "      <td>0.0</td>\n",
       "      <td>0.0</td>\n",
       "      <td>0.0</td>\n",
       "      <td>0.0</td>\n",
       "      <td>...</td>\n",
       "      <td>-0.062563</td>\n",
       "      <td>-0.062563</td>\n",
       "      <td>-0.062563</td>\n",
       "      <td>-0.062563</td>\n",
       "      <td>-0.062563</td>\n",
       "      <td>-0.062563</td>\n",
       "      <td>-0.062563</td>\n",
       "      <td>-0.062563</td>\n",
       "      <td>-0.062563</td>\n",
       "      <td>-0.062563</td>\n",
       "    </tr>\n",
       "    <tr>\n",
       "      <th>ZWE</th>\n",
       "      <th>1</th>\n",
       "      <td>51.619236</td>\n",
       "      <td>0.0</td>\n",
       "      <td>0.0</td>\n",
       "      <td>0.0</td>\n",
       "      <td>0.0</td>\n",
       "      <td>0.0</td>\n",
       "      <td>0.0</td>\n",
       "      <td>0.0</td>\n",
       "      <td>0.0</td>\n",
       "      <td>0.0</td>\n",
       "      <td>...</td>\n",
       "      <td>-0.187162</td>\n",
       "      <td>-0.187162</td>\n",
       "      <td>-0.187162</td>\n",
       "      <td>-0.187162</td>\n",
       "      <td>-0.187162</td>\n",
       "      <td>-0.187162</td>\n",
       "      <td>-0.187162</td>\n",
       "      <td>-0.187162</td>\n",
       "      <td>-0.187162</td>\n",
       "      <td>-0.187162</td>\n",
       "    </tr>\n",
       "  </tbody>\n",
       "</table>\n",
       "<p>895 rows × 367 columns</p>\n",
       "</div>"
      ],
      "text/plain": [
       "                   Base%    1    2    3    4    5    6    7    8    9  ...  \\\n",
       "ISO_A3 Sector                                                          ...   \n",
       "ALB    3       42.007797  0.0  0.0  0.0  0.0  0.0  0.0  0.0  0.0  0.0  ...   \n",
       "DZA    3       31.360946  0.0  0.0  0.0  0.0  0.0  0.0  0.0  0.0  0.0  ...   \n",
       "AGO    3       29.972754  0.0  0.0  0.0  0.0  0.0  0.0  0.0  0.0  0.0  ...   \n",
       "ARG    3       23.181375  0.0  0.0  0.0  0.0  0.0  0.0  0.0  0.0  0.0  ...   \n",
       "ARM    3       30.523255  0.0  0.0  0.0  0.0  0.0  0.0  0.0  0.0  0.0  ...   \n",
       "...                  ...  ...  ...  ...  ...  ...  ...  ...  ...  ...  ...   \n",
       "VEN    1       43.093385  0.0  0.0  0.0  0.0  0.0  0.0  0.0  0.0  0.0  ...   \n",
       "VNM    1       31.822661  0.0  0.0  0.0  0.0  0.0  0.0  0.0  0.0  0.0  ...   \n",
       "YEM    1       34.652509  0.0  0.0  0.0  0.0  0.0  0.0  0.0  0.0  0.0  ...   \n",
       "ZMB    1       26.424361  0.0  0.0  0.0  0.0  0.0  0.0  0.0  0.0  0.0  ...   \n",
       "ZWE    1       51.619236  0.0  0.0  0.0  0.0  0.0  0.0  0.0  0.0  0.0  ...   \n",
       "\n",
       "                    357       358       359       360       361       362  \\\n",
       "ISO_A3 Sector                                                               \n",
       "ALB    3       0.000000  0.000000  0.000000  0.000000  0.000000  0.000000   \n",
       "DZA    3      -0.407000 -0.407000 -0.407000 -0.407000 -0.407000 -0.407000   \n",
       "AGO    3      -0.394429 -0.394429 -0.394429 -0.394429 -0.394429 -0.394429   \n",
       "ARG    3      -0.447951 -0.447951 -0.447951 -0.447951 -0.447951 -0.447951   \n",
       "ARM    3       0.000000  0.000000  0.000000  0.000000  0.000000  0.000000   \n",
       "...                 ...       ...       ...       ...       ...       ...   \n",
       "VEN    1      -0.154102 -0.154102 -0.154102 -0.154102 -0.154102 -0.154102   \n",
       "VNM    1      -0.077964 -0.077964 -0.077964 -0.077964 -0.077964 -0.077964   \n",
       "YEM    1      -0.008565 -0.008565 -0.008565 -0.008565 -0.008565 -0.008565   \n",
       "ZMB    1      -0.062563 -0.062563 -0.062563 -0.062563 -0.062563 -0.062563   \n",
       "ZWE    1      -0.187162 -0.187162 -0.187162 -0.187162 -0.187162 -0.187162   \n",
       "\n",
       "                    363       364       365       366  \n",
       "ISO_A3 Sector                                          \n",
       "ALB    3       0.000000  0.000000  0.000000  0.000000  \n",
       "DZA    3      -0.407000 -0.407000 -0.407000 -0.407000  \n",
       "AGO    3      -0.394429 -0.394429 -0.394429 -0.394429  \n",
       "ARG    3      -0.447951 -0.447951 -0.447951 -0.447951  \n",
       "ARM    3       0.000000  0.000000  0.000000  0.000000  \n",
       "...                 ...       ...       ...       ...  \n",
       "VEN    1      -0.154102 -0.154102 -0.154102 -0.154102  \n",
       "VNM    1      -0.077964 -0.077964 -0.077964 -0.077964  \n",
       "YEM    1      -0.008565 -0.008565 -0.008565 -0.008565  \n",
       "ZMB    1      -0.062563 -0.062563 -0.062563 -0.062563  \n",
       "ZWE    1      -0.187162 -0.187162 -0.187162 -0.187162  \n",
       "\n",
       "[895 rows x 367 columns]"
      ]
     },
     "execution_count": 15,
     "metadata": {},
     "output_type": "execute_result"
    }
   ],
   "source": [
    "blip_factors_multi"
   ]
  },
  {
   "cell_type": "markdown",
   "metadata": {},
   "source": [
    "We additionally assume that solvent production tracks industry."
   ]
  },
  {
   "cell_type": "code",
   "execution_count": 16,
   "metadata": {},
   "outputs": [],
   "source": [
    "for country in all_countries:\n",
    "    blip_factors_multi.loc[(country, 5), :] = blip_factors_multi.loc[(country, 4), :]"
   ]
  },
  {
   "cell_type": "code",
   "execution_count": 17,
   "metadata": {},
   "outputs": [
    {
     "data": {
      "text/plain": [
       "FrozenList([['AGO', 'ALB', 'ARE', 'ARG', 'ARM', 'AUS', 'AUT', 'AZE', 'BEL', 'BEN', 'BGD', 'BGR', 'BHR', 'BIH', 'BLR', 'BOL', 'BRA', 'BRN', 'BWA', 'CAN', 'CHE', 'CHL', 'CHN', 'CIV', 'CMR', 'COD', 'COG', 'COL', 'CRI', 'CUB', 'CUW', 'CYP', 'CZE', 'DEU', 'DNK', 'DOM', 'DZA', 'ECU', 'EGY', 'ERI', 'ESP', 'EST', 'ETH', 'FIN', 'FRA', 'GAB', 'GBR', 'GEO', 'GHA', 'GIB', 'GRC', 'GTM', 'HKG', 'HND', 'HRV', 'HTI', 'HUN', 'IDN', 'IND', 'IRL', 'IRN', 'IRQ', 'ISL', 'ISR', 'ITA', 'JAM', 'JOR', 'JPN', 'KAZ', 'KEN', 'KGZ', 'KHM', 'KOR', 'KWT', 'LBN', 'LBY', 'LKA', 'LTU', 'LUX', 'LVA', 'MAR', 'MDA', 'MEX', 'MKD', 'MLT', 'MMR', 'MNE', 'MNG', 'MOZ', 'MUS', 'MYS', 'NAM', 'NER', 'NGA', 'NIC', 'NLD', 'NOR', 'NPL', 'NZL', 'OMN', ...], [-4, -2, -1, 1, 2, 3, 4, 7, 5]])"
      ]
     },
     "execution_count": 17,
     "metadata": {},
     "output_type": "execute_result"
    }
   ],
   "source": [
    "blip_factors_multi.index.levels"
   ]
  },
  {
   "cell_type": "markdown",
   "metadata": {},
   "source": [
    "## Derive country and date relation\n",
    "We need to assign each lat/long a country. This is slightly complicated by the country index being 2 letters in the inverse geocoder but 3 letters in our data."
   ]
  },
  {
   "cell_type": "code",
   "execution_count": 18,
   "metadata": {},
   "outputs": [],
   "source": [
    "lat, lon = nox_0.variables[\"lat\"][:], nox_0.variables[\"lon\"][:]"
   ]
  },
  {
   "cell_type": "code",
   "execution_count": 19,
   "metadata": {},
   "outputs": [],
   "source": [
    "convert_countries_dict = {convert_countries[\"A2 (ISO)\"][i]: convert_countries[\"A3 (UN)\"][i] for i in convert_countries.index}\n",
    "coords = []\n",
    "lon_length = len(lon)\n",
    "for latperm in lat:\n",
    "    coords = coords + list(zip([latperm] * lon_length, lon))"
   ]
  },
  {
   "cell_type": "code",
   "execution_count": 20,
   "metadata": {},
   "outputs": [
    {
     "name": "stdout",
     "output_type": "stream",
     "text": [
      "Loading formatted geocoded file...\n"
     ]
    }
   ],
   "source": [
    "results = rg.search(coords)"
   ]
  },
  {
   "cell_type": "code",
   "execution_count": 21,
   "metadata": {},
   "outputs": [],
   "source": [
    "lat_countries_dict = {coords[i]: convert_countries_dict[results[i][\"cc\"]] for i in range(len(coords)) \n",
    "                      if results[i][\"cc\"] in convert_countries_dict.keys()}"
   ]
  },
  {
   "cell_type": "markdown",
   "metadata": {},
   "source": [
    "The process will be faster if we map the other way and use the index rather than the coordinates:"
   ]
  },
  {
   "cell_type": "code",
   "execution_count": 22,
   "metadata": {},
   "outputs": [],
   "source": [
    "country_coord_dict = {}\n",
    "for k, v in lat_countries_dict.items():\n",
    "    country_coord_dict[v] = country_coord_dict.get(v, [])\n",
    "    country_coord_dict[v].append((np.where(lat.data == k[0])[0][0], np.where(lon.data == k[1])[0][0]))"
   ]
  },
  {
   "cell_type": "markdown",
   "metadata": {},
   "source": [
    "Now we must relate the dates. blip_factors uses days from 2020-01-01, and has values for every day. The netCDFs use days since 2015-01-01, which is 5 * 365 + 1 days later and monthly. "
   ]
  },
  {
   "cell_type": "code",
   "execution_count": 23,
   "metadata": {},
   "outputs": [
    {
     "data": {
      "text/plain": [
       "1826"
      ]
     },
     "execution_count": 23,
     "metadata": {},
     "output_type": "execute_result"
    }
   ],
   "source": [
    "date_dif = 5 * 365 + 1\n",
    "date_dif"
   ]
  },
  {
   "cell_type": "code",
   "execution_count": 24,
   "metadata": {},
   "outputs": [],
   "source": [
    "netCDF_times = nox_0.variables[\"time\"][:]\n",
    "netCDF_tseries = pd.Series(netCDF_times)\n",
    "bliptimes = blip_factors_multi.columns[blip_factors_multi.columns != \"Base%\"]\n",
    "bliptimes = pd.Series(pd.to_numeric(bliptimes))"
   ]
  },
  {
   "cell_type": "code",
   "execution_count": 25,
   "metadata": {},
   "outputs": [],
   "source": [
    "time_dict = {}\n",
    "remaining_times = bliptimes.copy()\n",
    "mappable_times = netCDF_tseries[(netCDF_tseries > date_dif) & (netCDF_tseries < date_dif + max(bliptimes))]\n",
    "for t in mappable_times.index[:-1]:\n",
    "    closeTimes = [bliptime for bliptime in remaining_times if (\n",
    "        0.5 * (mappable_times[t + 1] + mappable_times[t]) - date_dif > bliptime\n",
    "    )]\n",
    "    time_dict[mappable_times[t]] = closeTimes\n",
    "    remaining_times = remaining_times[~remaining_times.isin(closeTimes)]\n",
    "time_dict[mappable_times.iloc[-1]] = list(remaining_times)"
   ]
  },
  {
   "cell_type": "code",
   "execution_count": 26,
   "metadata": {},
   "outputs": [],
   "source": [
    "blip_factors_av = pd.DataFrame(index=blip_factors_multi.index, columns=time_dict.keys())\n",
    "for key, val in time_dict.items():\n",
    "    blip_factors_av[key] = blip_factors_multi[list(str(v) for v in val)].mean(axis=1)"
   ]
  },
  {
   "cell_type": "markdown",
   "metadata": {},
   "source": [
    "## Perform the emissions blip\n",
    "We now have a mapping between times and locations and the emissions we want. "
   ]
  },
  {
   "cell_type": "code",
   "execution_count": 27,
   "metadata": {},
   "outputs": [],
   "source": [
    "nox_0.close()"
   ]
  },
  {
   "cell_type": "code",
   "execution_count": 28,
   "metadata": {},
   "outputs": [],
   "source": [
    "all_valid_countries = [c for c in all_countries if c in country_coord_dict.keys()]"
   ]
  },
  {
   "cell_type": "code",
   "execution_count": 29,
   "metadata": {
    "scrolled": true
   },
   "outputs": [
    {
     "name": "stdout",
     "output_type": "stream",
     "text": [
      "Working on data for CO_em_anthro\n",
      "CHN\n",
      "ALB\n",
      "PRK\n",
      "Key error for country ('PRK', 7)\n",
      "Key error for country ('PRK', 7)\n",
      "Key error for country ('PRK', 7)\n",
      "Key error for country ('PRK', 7)\n",
      "Key error for country ('PRK', 7)\n",
      "Key error for country ('PRK', 7)\n",
      "Key error for country ('PRK', 7)\n",
      "Key error for country ('PRK', 7)\n",
      "Key error for country ('PRK', 7)\n",
      "Key error for country ('PRK', 7)\n",
      "Key error for country ('PRK', 7)\n",
      "Key error for country ('PRK', 7)\n",
      "KOR\n",
      "Before, it is 1.5053342394821811e-07\n",
      "After, it is 1.4424628602682787e-07\n",
      "After, it is 1.4424628602682787e-07\n",
      "Is data modified?\n"
     ]
    },
    {
     "ename": "NameError",
     "evalue": "name 'arrays_equal' is not defined",
     "output_type": "error",
     "traceback": [
      "\u001b[1;31m---------------------------------------------------------------------------\u001b[0m",
      "\u001b[1;31mNameError\u001b[0m                                 Traceback (most recent call last)",
      "\u001b[1;32m<ipython-input-29-7b84fa6b80ee>\u001b[0m in \u001b[0;36m<module>\u001b[1;34m\u001b[0m\n\u001b[0;32m     25\u001b[0m     \u001b[0mprint\u001b[0m\u001b[1;33m(\u001b[0m\u001b[1;34m\"After, it is {}\"\u001b[0m\u001b[1;33m.\u001b[0m\u001b[0mformat\u001b[0m\u001b[1;33m(\u001b[0m\u001b[0mdata\u001b[0m\u001b[1;33m.\u001b[0m\u001b[0mvariables\u001b[0m\u001b[1;33m[\u001b[0m\u001b[0mkey_variables\u001b[0m\u001b[1;33m[\u001b[0m\u001b[0mfileind\u001b[0m\u001b[1;33m]\u001b[0m\u001b[1;33m]\u001b[0m\u001b[1;33m[\u001b[0m\u001b[1;33m:\u001b[0m\u001b[1;36m23\u001b[0m\u001b[1;33m,\u001b[0m \u001b[1;33m:\u001b[0m\u001b[1;33m,\u001b[0m \u001b[1;33m:\u001b[0m\u001b[1;33m,\u001b[0m \u001b[1;33m:\u001b[0m\u001b[1;33m]\u001b[0m\u001b[1;33m.\u001b[0m\u001b[0mmax\u001b[0m\u001b[1;33m(\u001b[0m\u001b[1;33m)\u001b[0m\u001b[1;33m)\u001b[0m\u001b[1;33m)\u001b[0m\u001b[1;33m\u001b[0m\u001b[1;33m\u001b[0m\u001b[0m\n\u001b[0;32m     26\u001b[0m     \u001b[0mprint\u001b[0m\u001b[1;33m(\u001b[0m\u001b[1;34m\"Is data modified?\"\u001b[0m\u001b[1;33m)\u001b[0m\u001b[1;33m\u001b[0m\u001b[1;33m\u001b[0m\u001b[0m\n\u001b[1;32m---> 27\u001b[1;33m     \u001b[0mprint\u001b[0m\u001b[1;33m(\u001b[0m\u001b[0marrays_equal\u001b[0m\u001b[1;33m(\u001b[0m\u001b[0mdata\u001b[0m\u001b[1;33m.\u001b[0m\u001b[0mvariables\u001b[0m\u001b[1;33m[\u001b[0m\u001b[0mkey_variables\u001b[0m\u001b[1;33m[\u001b[0m\u001b[0mfileind\u001b[0m\u001b[1;33m]\u001b[0m\u001b[1;33m]\u001b[0m\u001b[1;33m[\u001b[0m\u001b[1;33m:\u001b[0m\u001b[1;33m,\u001b[0m \u001b[1;33m:\u001b[0m\u001b[1;33m,\u001b[0m \u001b[1;33m:\u001b[0m\u001b[1;33m,\u001b[0m \u001b[1;33m:\u001b[0m\u001b[1;33m]\u001b[0m\u001b[1;33m,\u001b[0m \u001b[0moutput\u001b[0m\u001b[1;33m)\u001b[0m\u001b[1;33m)\u001b[0m\u001b[1;33m\u001b[0m\u001b[1;33m\u001b[0m\u001b[0m\n\u001b[0m\u001b[0;32m     28\u001b[0m     \u001b[0mdata\u001b[0m\u001b[1;33m.\u001b[0m\u001b[0mclose\u001b[0m\u001b[1;33m(\u001b[0m\u001b[1;33m)\u001b[0m\u001b[1;33m\u001b[0m\u001b[1;33m\u001b[0m\u001b[0m\n\u001b[0;32m     29\u001b[0m     \u001b[0mblob\u001b[0m \u001b[1;31m# TODO: de\u001b[0m\u001b[1;33m\u001b[0m\u001b[1;33m\u001b[0m\u001b[0m\n",
      "\u001b[1;31mNameError\u001b[0m: name 'arrays_equal' is not defined"
     ]
    }
   ],
   "source": [
    "for fileind in range(len(files_to_blip)):\n",
    "    file = files_to_blip[fileind]\n",
    "    data = copy_netcdf_file(file, input_folder, output_folder, scenario_string)\n",
    "    output = data.variables[key_variables[fileind]][:, :, :, :]\n",
    "    print(\"Working on data for {}\".format(key_variables[fileind]))\n",
    "    for country in all_valid_countries:\n",
    "        print(country)\n",
    "        for time in blip_factors_av.columns:\n",
    "            timeind = np.where(data.variables[\"time\"][:] == time)[0]\n",
    "            for sector in sectors_to_use:\n",
    "                try:\n",
    "                    mult_fact = blip_factors_av[time].loc[country, sector] + 1\n",
    "                    if mult_fact != 1.0: #This saves operations\n",
    "                        for lati, longi in country_coord_dict[country]:\n",
    "                            output[timeind, sector, lati, longi] *= mult_fact\n",
    "                except KeyError as e:\n",
    "                    print(\"Key error for country {}\".format(e))\n",
    "                    break\n",
    "    data.variables[key_variables[fileind]][:, :, :, :] = output"
   ]
  },
  {
   "cell_type": "code",
   "execution_count": null,
   "metadata": {},
   "outputs": [],
   "source": []
  },
  {
   "cell_type": "markdown",
   "metadata": {},
   "source": [
    "## SANDBOX\n",
    "Code below this line will break, but may be useful to use in some order to understand the data. "
   ]
  },
  {
   "cell_type": "code",
   "execution_count": null,
   "metadata": {},
   "outputs": [],
   "source": [
    "blob  # unassigned variable stops execution"
   ]
  },
  {
   "cell_type": "code",
   "execution_count": null,
   "metadata": {},
   "outputs": [],
   "source": [
    "data.close()"
   ]
  },
  {
   "cell_type": "code",
   "execution_count": null,
   "metadata": {},
   "outputs": [],
   "source": [
    "proc.close()"
   ]
  },
  {
   "cell_type": "code",
   "execution_count": null,
   "metadata": {},
   "outputs": [],
   "source": [
    "data.variables[key_variables[fileind]][:, :, :, :] = output"
   ]
  },
  {
   "cell_type": "code",
   "execution_count": 31,
   "metadata": {},
   "outputs": [
    {
     "name": "stdout",
     "output_type": "stream",
     "text": [
      "True\n"
     ]
    }
   ],
   "source": [
    "print(arrays_equal(data.variables[key_variables[fileind]][:, :, :, :], output))"
   ]
  },
  {
   "cell_type": "code",
   "execution_count": 37,
   "metadata": {},
   "outputs": [
    {
     "data": {
      "text/plain": [
       "<class 'netCDF4._netCDF4.Variable'>\n",
       "float64 lon(lon)\n",
       "    units: degrees_east\n",
       "    long_name: longitude\n",
       "    axis: X\n",
       "    bounds: lon_bnds\n",
       "    modulo: 360.0\n",
       "    realtopology: circular\n",
       "    standard_name: longitude\n",
       "    topology: circular\n",
       "unlimited dimensions: \n",
       "current shape = (720,)\n",
       "filling on, default _FillValue of 9.969209968386869e+36 used"
      ]
     },
     "execution_count": 37,
     "metadata": {},
     "output_type": "execute_result"
    }
   ],
   "source": [
    "data.variables[\"lon\"]"
   ]
  },
  {
   "cell_type": "code",
   "execution_count": 30,
   "metadata": {},
   "outputs": [],
   "source": [
    "def arrays_equal(a, b):\n",
    "    if a.shape != b.shape:\n",
    "        return False\n",
    "    for ai, bi in zip(a.flat, b.flat):\n",
    "        if ai != bi:\n",
    "            return False\n",
    "    return True"
   ]
  },
  {
   "cell_type": "code",
   "execution_count": null,
   "metadata": {},
   "outputs": [],
   "source": [
    "proc.variables[key_variables[trial_ind]][23, 2, 262, 605]"
   ]
  },
  {
   "cell_type": "code",
   "execution_count": null,
   "metadata": {},
   "outputs": [],
   "source": [
    "np.where(data.variables[key_variables[fileind]][:, :, :, :] == data.variables[key_variables[fileind]][:, :, :, :].max())"
   ]
  },
  {
   "cell_type": "code",
   "execution_count": null,
   "metadata": {},
   "outputs": [],
   "source": [
    "plt.figure(figsize=(20, 20))\n",
    "plt.imshow(((diff[17, 4, :, :]) != 0))"
   ]
  },
  {
   "cell_type": "code",
   "execution_count": null,
   "metadata": {},
   "outputs": [],
   "source": [
    "plt.imshow(data.variables[key_variables[fileind]][25, 2, 250:270, 595:615] > 1e-13)"
   ]
  },
  {
   "cell_type": "code",
   "execution_count": null,
   "metadata": {},
   "outputs": [],
   "source": [
    "trial_ind = 0\n",
    "file = files_to_blip[trial_ind]\n",
    "var = key_variables[trial_ind]\n",
    "data = nc.Dataset(input_folder + file)\n",
    "proc = nc.Dataset(output_folder + file + scenario_string)"
   ]
  },
  {
   "cell_type": "code",
   "execution_count": null,
   "metadata": {},
   "outputs": [],
   "source": [
    "diff = data.variables[var][:, :, ::-1, :] - proc.variables[var][:, :, ::-1, :]"
   ]
  },
  {
   "cell_type": "code",
   "execution_count": null,
   "metadata": {},
   "outputs": [],
   "source": [
    "diff.max()"
   ]
  },
  {
   "cell_type": "code",
   "execution_count": null,
   "metadata": {},
   "outputs": [],
   "source": [
    "timeind"
   ]
  },
  {
   "cell_type": "code",
   "execution_count": null,
   "metadata": {},
   "outputs": [],
   "source": [
    "blip_factors_av[time].loc[country, sector]"
   ]
  },
  {
   "cell_type": "code",
   "execution_count": null,
   "metadata": {},
   "outputs": [],
   "source": [
    "ans = [state for state, _ in country_coord_dict.items() if state not in all_countries]\n",
    "ans.sort()\n",
    "print(ans)"
   ]
  },
  {
   "cell_type": "code",
   "execution_count": null,
   "metadata": {},
   "outputs": [],
   "source": [
    "co2_0 = nc.Dataset(input_co2_mole)"
   ]
  }
 ],
 "metadata": {
  "kernelspec": {
   "display_name": "Python 3",
   "language": "python",
   "name": "python3"
  },
  "language_info": {
   "codemirror_mode": {
    "name": "ipython",
    "version": 3
   },
   "file_extension": ".py",
   "mimetype": "text/x-python",
   "name": "python",
   "nbconvert_exporter": "python",
   "pygments_lexer": "ipython3",
   "version": "3.7.6"
  }
 },
 "nbformat": 4,
 "nbformat_minor": 4
}
