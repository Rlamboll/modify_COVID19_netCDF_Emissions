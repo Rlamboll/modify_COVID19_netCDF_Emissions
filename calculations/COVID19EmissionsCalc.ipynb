{
 "cells": [
  {
   "cell_type": "markdown",
   "metadata": {},
   "source": [
    "# Calculate a 2D emissions grid incorporating COVID-19 effects"
   ]
  },
  {
   "cell_type": "code",
   "execution_count": 1,
   "metadata": {},
   "outputs": [],
   "source": [
    "import itertools\n",
    "import netCDF4 \n",
    "import pandas as pd\n",
    "import numpy as np\n",
    "import reverse_geocoder as rg\n",
    "import matplotlib.pyplot as plt"
   ]
  },
  {
   "cell_type": "code",
   "execution_count": 2,
   "metadata": {},
   "outputs": [],
   "source": [
    "input_co2_mole = \"../input/mole-fraction-of-carbon-dioxide-in-air_input4MIPs_GHGConcentrations_ScenarioMIP_UoM-MESSAGE-GLOBIOM-ssp245-1-2-0_gr1-GMNHSH_2015-2500.nc\"\n",
    "input_co2_air = \"../input/CO2-em-AIR-anthro_input4MIPs_emissions_ScenarioMIP_IAMC-MESSAGE-GLOBIOM-ssp245-1-1_gn_201501-210012.nc\"\n",
    "input_nox = \"../input/NOx-em-anthro_input4MIPs_emissions_ScenarioMIP_IAMC-MESSAGE-GLOBIOM-ssp245-1-1_gn_201501-210012.nc\"\n",
    "input_blip = \"../input/Robin_sectors_V3.csv\"\n",
    "convert_country_code_file = \"../input/convertCountryCodes.csv\""
   ]
  },
  {
   "cell_type": "markdown",
   "metadata": {},
   "source": [
    "## Collect and clean the data"
   ]
  },
  {
   "cell_type": "code",
   "execution_count": 3,
   "metadata": {},
   "outputs": [],
   "source": [
    "co2_0_air = netCDF4.Dataset(input_co2_air, \"r\", format=\"NETCDF4\")\n",
    "nox_0 = netCDF4.Dataset(input_nox, \"r\", format=\"NETCDF4\")\n",
    "blip_factors = pd.read_csv(input_blip)\n",
    "convert_countries = pd.read_csv(convert_country_code_file, keep_default_na=False, na_values=['_'])"
   ]
  },
  {
   "cell_type": "code",
   "execution_count": 4,
   "metadata": {},
   "outputs": [
    {
     "name": "stdout",
     "output_type": "stream",
     "text": [
      "<class 'netCDF4._netCDF4.Dimension'>: name = 'lon', size = 720\n",
      "<class 'netCDF4._netCDF4.Dimension'>: name = 'lat', size = 360\n",
      "<class 'netCDF4._netCDF4.Dimension'>: name = 'sector', size = 8\n",
      "<class 'netCDF4._netCDF4.Dimension'> (unlimited): name = 'time', size = 120\n",
      "<class 'netCDF4._netCDF4.Dimension'>: name = 'bound', size = 2\n"
     ]
    }
   ],
   "source": [
    "for dimobj in nox_0.dimensions.values():\n",
    "...     print(dimobj)"
   ]
  },
  {
   "cell_type": "code",
   "execution_count": 5,
   "metadata": {},
   "outputs": [
    {
     "data": {
      "text/plain": [
       "<class 'netCDF4._netCDF4.Variable'>\n",
       "int32 sector(sector)\n",
       "    long_name: sector\n",
       "    bounds: sector_bnds\n",
       "    ids: 0: Agriculture; 1: Energy; 2: Industrial; 3: Transportation; 4: Residential, Commercial, Other; 5: Solvents production and application; 6: Waste; 7: International Shipping\n",
       "unlimited dimensions: \n",
       "current shape = (8,)\n",
       "filling on, default _FillValue of -2147483647 used"
      ]
     },
     "execution_count": 5,
     "metadata": {},
     "output_type": "execute_result"
    }
   ],
   "source": [
    "sectors = nox_0.variables[\"sector\"][:]\n",
    "nox_0.variables[\"sector\"]"
   ]
  },
  {
   "cell_type": "code",
   "execution_count": 6,
   "metadata": {},
   "outputs": [],
   "source": [
    "blip_factors = blip_factors[~blip_factors[\"1\"].isna()]\n",
    "blip_sectors = blip_factors[\"Sector\"].unique()"
   ]
  },
  {
   "cell_type": "markdown",
   "metadata": {},
   "source": [
    "## Perform the sector weighting\n"
   ]
  },
  {
   "cell_type": "code",
   "execution_count": 7,
   "metadata": {},
   "outputs": [
    {
     "data": {
      "text/plain": [
       "array(['surface-transport', 'residential', 'public/commercial',\n",
       "       'industry', 'international-shipping', 'international-aviation',\n",
       "       'domestic-aviation', 'power'], dtype=object)"
      ]
     },
     "execution_count": 7,
     "metadata": {},
     "output_type": "execute_result"
    }
   ],
   "source": [
    "blip_sectors"
   ]
  },
  {
   "cell_type": "markdown",
   "metadata": {},
   "source": [
    "The set of sectors in our blip need to be converted into our sectors in the netCDF case. This uses:\n",
    "0: Agriculture; 1: Energy; 2: Industrial; 3: Transportation; 4: Residential, Commercial, Other; 5: Solvents production and application; 6: Waste; 7: International Shipping"
   ]
  },
  {
   "cell_type": "code",
   "execution_count": 8,
   "metadata": {},
   "outputs": [],
   "source": [
    "sector_dict = {\"surface-transport\": 3, \"residential\": 4, \"public/commercial\": -4, \"industry\": 2, \n",
    " \"international-shipping\":7, \"international-aviation\": -1, \"domestic-aviation\": -2, \"power\": 1}"
   ]
  },
  {
   "cell_type": "code",
   "execution_count": 9,
   "metadata": {},
   "outputs": [
    {
     "data": {
      "text/html": [
       "<div>\n",
       "<style scoped>\n",
       "    .dataframe tbody tr th:only-of-type {\n",
       "        vertical-align: middle;\n",
       "    }\n",
       "\n",
       "    .dataframe tbody tr th {\n",
       "        vertical-align: top;\n",
       "    }\n",
       "\n",
       "    .dataframe thead th {\n",
       "        text-align: right;\n",
       "    }\n",
       "</style>\n",
       "<table border=\"1\" class=\"dataframe\">\n",
       "  <thead>\n",
       "    <tr style=\"text-align: right;\">\n",
       "      <th></th>\n",
       "      <th>ISO_A3</th>\n",
       "      <th>Sector</th>\n",
       "      <th>Base%</th>\n",
       "      <th>1</th>\n",
       "      <th>2</th>\n",
       "      <th>3</th>\n",
       "      <th>4</th>\n",
       "      <th>5</th>\n",
       "      <th>6</th>\n",
       "      <th>7</th>\n",
       "      <th>...</th>\n",
       "      <th>357</th>\n",
       "      <th>358</th>\n",
       "      <th>359</th>\n",
       "      <th>360</th>\n",
       "      <th>361</th>\n",
       "      <th>362</th>\n",
       "      <th>363</th>\n",
       "      <th>364</th>\n",
       "      <th>365</th>\n",
       "      <th>366</th>\n",
       "    </tr>\n",
       "  </thead>\n",
       "  <tbody>\n",
       "    <tr>\n",
       "      <th>0</th>\n",
       "      <td>ALB</td>\n",
       "      <td>3</td>\n",
       "      <td>42.007797</td>\n",
       "      <td>0.0</td>\n",
       "      <td>0.0</td>\n",
       "      <td>0.0</td>\n",
       "      <td>0.0</td>\n",
       "      <td>0.0</td>\n",
       "      <td>0.0</td>\n",
       "      <td>0.0</td>\n",
       "      <td>...</td>\n",
       "      <td>0.000000</td>\n",
       "      <td>0.000000</td>\n",
       "      <td>0.000000</td>\n",
       "      <td>0.000000</td>\n",
       "      <td>0.000000</td>\n",
       "      <td>0.000000</td>\n",
       "      <td>0.000000</td>\n",
       "      <td>0.000000</td>\n",
       "      <td>0.000000</td>\n",
       "      <td>0.000000</td>\n",
       "    </tr>\n",
       "    <tr>\n",
       "      <th>1</th>\n",
       "      <td>DZA</td>\n",
       "      <td>3</td>\n",
       "      <td>31.360946</td>\n",
       "      <td>0.0</td>\n",
       "      <td>0.0</td>\n",
       "      <td>0.0</td>\n",
       "      <td>0.0</td>\n",
       "      <td>0.0</td>\n",
       "      <td>0.0</td>\n",
       "      <td>0.0</td>\n",
       "      <td>...</td>\n",
       "      <td>-0.407000</td>\n",
       "      <td>-0.407000</td>\n",
       "      <td>-0.407000</td>\n",
       "      <td>-0.407000</td>\n",
       "      <td>-0.407000</td>\n",
       "      <td>-0.407000</td>\n",
       "      <td>-0.407000</td>\n",
       "      <td>-0.407000</td>\n",
       "      <td>-0.407000</td>\n",
       "      <td>-0.407000</td>\n",
       "    </tr>\n",
       "    <tr>\n",
       "      <th>2</th>\n",
       "      <td>AGO</td>\n",
       "      <td>3</td>\n",
       "      <td>29.972754</td>\n",
       "      <td>0.0</td>\n",
       "      <td>0.0</td>\n",
       "      <td>0.0</td>\n",
       "      <td>0.0</td>\n",
       "      <td>0.0</td>\n",
       "      <td>0.0</td>\n",
       "      <td>0.0</td>\n",
       "      <td>...</td>\n",
       "      <td>-0.394429</td>\n",
       "      <td>-0.394429</td>\n",
       "      <td>-0.394429</td>\n",
       "      <td>-0.394429</td>\n",
       "      <td>-0.394429</td>\n",
       "      <td>-0.394429</td>\n",
       "      <td>-0.394429</td>\n",
       "      <td>-0.394429</td>\n",
       "      <td>-0.394429</td>\n",
       "      <td>-0.394429</td>\n",
       "    </tr>\n",
       "    <tr>\n",
       "      <th>3</th>\n",
       "      <td>ARG</td>\n",
       "      <td>3</td>\n",
       "      <td>23.181375</td>\n",
       "      <td>0.0</td>\n",
       "      <td>0.0</td>\n",
       "      <td>0.0</td>\n",
       "      <td>0.0</td>\n",
       "      <td>0.0</td>\n",
       "      <td>0.0</td>\n",
       "      <td>0.0</td>\n",
       "      <td>...</td>\n",
       "      <td>-0.447951</td>\n",
       "      <td>-0.447951</td>\n",
       "      <td>-0.447951</td>\n",
       "      <td>-0.447951</td>\n",
       "      <td>-0.447951</td>\n",
       "      <td>-0.447951</td>\n",
       "      <td>-0.447951</td>\n",
       "      <td>-0.447951</td>\n",
       "      <td>-0.447951</td>\n",
       "      <td>-0.447951</td>\n",
       "    </tr>\n",
       "    <tr>\n",
       "      <th>4</th>\n",
       "      <td>ARM</td>\n",
       "      <td>3</td>\n",
       "      <td>30.523255</td>\n",
       "      <td>0.0</td>\n",
       "      <td>0.0</td>\n",
       "      <td>0.0</td>\n",
       "      <td>0.0</td>\n",
       "      <td>0.0</td>\n",
       "      <td>0.0</td>\n",
       "      <td>0.0</td>\n",
       "      <td>...</td>\n",
       "      <td>0.000000</td>\n",
       "      <td>0.000000</td>\n",
       "      <td>0.000000</td>\n",
       "      <td>0.000000</td>\n",
       "      <td>0.000000</td>\n",
       "      <td>0.000000</td>\n",
       "      <td>0.000000</td>\n",
       "      <td>0.000000</td>\n",
       "      <td>0.000000</td>\n",
       "      <td>0.000000</td>\n",
       "    </tr>\n",
       "  </tbody>\n",
       "</table>\n",
       "<p>5 rows × 369 columns</p>\n",
       "</div>"
      ],
      "text/plain": [
       "  ISO_A3  Sector      Base%    1    2    3    4    5    6    7  ...       357  \\\n",
       "0    ALB       3  42.007797  0.0  0.0  0.0  0.0  0.0  0.0  0.0  ...  0.000000   \n",
       "1    DZA       3  31.360946  0.0  0.0  0.0  0.0  0.0  0.0  0.0  ... -0.407000   \n",
       "2    AGO       3  29.972754  0.0  0.0  0.0  0.0  0.0  0.0  0.0  ... -0.394429   \n",
       "3    ARG       3  23.181375  0.0  0.0  0.0  0.0  0.0  0.0  0.0  ... -0.447951   \n",
       "4    ARM       3  30.523255  0.0  0.0  0.0  0.0  0.0  0.0  0.0  ...  0.000000   \n",
       "\n",
       "        358       359       360       361       362       363       364  \\\n",
       "0  0.000000  0.000000  0.000000  0.000000  0.000000  0.000000  0.000000   \n",
       "1 -0.407000 -0.407000 -0.407000 -0.407000 -0.407000 -0.407000 -0.407000   \n",
       "2 -0.394429 -0.394429 -0.394429 -0.394429 -0.394429 -0.394429 -0.394429   \n",
       "3 -0.447951 -0.447951 -0.447951 -0.447951 -0.447951 -0.447951 -0.447951   \n",
       "4  0.000000  0.000000  0.000000  0.000000  0.000000  0.000000  0.000000   \n",
       "\n",
       "        365       366  \n",
       "0  0.000000  0.000000  \n",
       "1 -0.407000 -0.407000  \n",
       "2 -0.394429 -0.394429  \n",
       "3 -0.447951 -0.447951  \n",
       "4  0.000000  0.000000  \n",
       "\n",
       "[5 rows x 369 columns]"
      ]
     },
     "execution_count": 9,
     "metadata": {},
     "output_type": "execute_result"
    }
   ],
   "source": [
    "blip_factors_multi = blip_factors.copy()\n",
    "blip_factors_multi.drop([\"Country\", \"Base(MtCO2/day)\", \"Unnamed: 0\"], axis=1, inplace=True)\n",
    "blip_factors_multi[\"Sector\"] = [sector_dict[sect] for sect in blip_factors_multi[\"Sector\"]]\n",
    "blip_factors_multi.head()"
   ]
  },
  {
   "cell_type": "code",
   "execution_count": 10,
   "metadata": {},
   "outputs": [
    {
     "data": {
      "text/html": [
       "<div>\n",
       "<style scoped>\n",
       "    .dataframe tbody tr th:only-of-type {\n",
       "        vertical-align: middle;\n",
       "    }\n",
       "\n",
       "    .dataframe tbody tr th {\n",
       "        vertical-align: top;\n",
       "    }\n",
       "\n",
       "    .dataframe thead th {\n",
       "        text-align: right;\n",
       "    }\n",
       "</style>\n",
       "<table border=\"1\" class=\"dataframe\">\n",
       "  <thead>\n",
       "    <tr style=\"text-align: right;\">\n",
       "      <th></th>\n",
       "      <th></th>\n",
       "      <th>Base%</th>\n",
       "      <th>1</th>\n",
       "      <th>2</th>\n",
       "      <th>3</th>\n",
       "      <th>4</th>\n",
       "      <th>5</th>\n",
       "      <th>6</th>\n",
       "      <th>7</th>\n",
       "      <th>8</th>\n",
       "      <th>9</th>\n",
       "      <th>...</th>\n",
       "      <th>357</th>\n",
       "      <th>358</th>\n",
       "      <th>359</th>\n",
       "      <th>360</th>\n",
       "      <th>361</th>\n",
       "      <th>362</th>\n",
       "      <th>363</th>\n",
       "      <th>364</th>\n",
       "      <th>365</th>\n",
       "      <th>366</th>\n",
       "    </tr>\n",
       "    <tr>\n",
       "      <th>ISO_A3</th>\n",
       "      <th>Sector</th>\n",
       "      <th></th>\n",
       "      <th></th>\n",
       "      <th></th>\n",
       "      <th></th>\n",
       "      <th></th>\n",
       "      <th></th>\n",
       "      <th></th>\n",
       "      <th></th>\n",
       "      <th></th>\n",
       "      <th></th>\n",
       "      <th></th>\n",
       "      <th></th>\n",
       "      <th></th>\n",
       "      <th></th>\n",
       "      <th></th>\n",
       "      <th></th>\n",
       "      <th></th>\n",
       "      <th></th>\n",
       "      <th></th>\n",
       "      <th></th>\n",
       "      <th></th>\n",
       "    </tr>\n",
       "  </thead>\n",
       "  <tbody>\n",
       "    <tr>\n",
       "      <th>ALB</th>\n",
       "      <th>3</th>\n",
       "      <td>42.007797</td>\n",
       "      <td>0.0</td>\n",
       "      <td>0.0</td>\n",
       "      <td>0.0</td>\n",
       "      <td>0.0</td>\n",
       "      <td>0.0</td>\n",
       "      <td>0.0</td>\n",
       "      <td>0.0</td>\n",
       "      <td>0.0</td>\n",
       "      <td>0.0</td>\n",
       "      <td>...</td>\n",
       "      <td>0.000000</td>\n",
       "      <td>0.000000</td>\n",
       "      <td>0.000000</td>\n",
       "      <td>0.000000</td>\n",
       "      <td>0.000000</td>\n",
       "      <td>0.000000</td>\n",
       "      <td>0.000000</td>\n",
       "      <td>0.000000</td>\n",
       "      <td>0.000000</td>\n",
       "      <td>0.000000</td>\n",
       "    </tr>\n",
       "    <tr>\n",
       "      <th>DZA</th>\n",
       "      <th>3</th>\n",
       "      <td>31.360946</td>\n",
       "      <td>0.0</td>\n",
       "      <td>0.0</td>\n",
       "      <td>0.0</td>\n",
       "      <td>0.0</td>\n",
       "      <td>0.0</td>\n",
       "      <td>0.0</td>\n",
       "      <td>0.0</td>\n",
       "      <td>0.0</td>\n",
       "      <td>0.0</td>\n",
       "      <td>...</td>\n",
       "      <td>-0.407000</td>\n",
       "      <td>-0.407000</td>\n",
       "      <td>-0.407000</td>\n",
       "      <td>-0.407000</td>\n",
       "      <td>-0.407000</td>\n",
       "      <td>-0.407000</td>\n",
       "      <td>-0.407000</td>\n",
       "      <td>-0.407000</td>\n",
       "      <td>-0.407000</td>\n",
       "      <td>-0.407000</td>\n",
       "    </tr>\n",
       "    <tr>\n",
       "      <th>AGO</th>\n",
       "      <th>3</th>\n",
       "      <td>29.972754</td>\n",
       "      <td>0.0</td>\n",
       "      <td>0.0</td>\n",
       "      <td>0.0</td>\n",
       "      <td>0.0</td>\n",
       "      <td>0.0</td>\n",
       "      <td>0.0</td>\n",
       "      <td>0.0</td>\n",
       "      <td>0.0</td>\n",
       "      <td>0.0</td>\n",
       "      <td>...</td>\n",
       "      <td>-0.394429</td>\n",
       "      <td>-0.394429</td>\n",
       "      <td>-0.394429</td>\n",
       "      <td>-0.394429</td>\n",
       "      <td>-0.394429</td>\n",
       "      <td>-0.394429</td>\n",
       "      <td>-0.394429</td>\n",
       "      <td>-0.394429</td>\n",
       "      <td>-0.394429</td>\n",
       "      <td>-0.394429</td>\n",
       "    </tr>\n",
       "    <tr>\n",
       "      <th>ARG</th>\n",
       "      <th>3</th>\n",
       "      <td>23.181375</td>\n",
       "      <td>0.0</td>\n",
       "      <td>0.0</td>\n",
       "      <td>0.0</td>\n",
       "      <td>0.0</td>\n",
       "      <td>0.0</td>\n",
       "      <td>0.0</td>\n",
       "      <td>0.0</td>\n",
       "      <td>0.0</td>\n",
       "      <td>0.0</td>\n",
       "      <td>...</td>\n",
       "      <td>-0.447951</td>\n",
       "      <td>-0.447951</td>\n",
       "      <td>-0.447951</td>\n",
       "      <td>-0.447951</td>\n",
       "      <td>-0.447951</td>\n",
       "      <td>-0.447951</td>\n",
       "      <td>-0.447951</td>\n",
       "      <td>-0.447951</td>\n",
       "      <td>-0.447951</td>\n",
       "      <td>-0.447951</td>\n",
       "    </tr>\n",
       "    <tr>\n",
       "      <th>ARM</th>\n",
       "      <th>3</th>\n",
       "      <td>30.523255</td>\n",
       "      <td>0.0</td>\n",
       "      <td>0.0</td>\n",
       "      <td>0.0</td>\n",
       "      <td>0.0</td>\n",
       "      <td>0.0</td>\n",
       "      <td>0.0</td>\n",
       "      <td>0.0</td>\n",
       "      <td>0.0</td>\n",
       "      <td>0.0</td>\n",
       "      <td>...</td>\n",
       "      <td>0.000000</td>\n",
       "      <td>0.000000</td>\n",
       "      <td>0.000000</td>\n",
       "      <td>0.000000</td>\n",
       "      <td>0.000000</td>\n",
       "      <td>0.000000</td>\n",
       "      <td>0.000000</td>\n",
       "      <td>0.000000</td>\n",
       "      <td>0.000000</td>\n",
       "      <td>0.000000</td>\n",
       "    </tr>\n",
       "  </tbody>\n",
       "</table>\n",
       "<p>5 rows × 367 columns</p>\n",
       "</div>"
      ],
      "text/plain": [
       "                   Base%    1    2    3    4    5    6    7    8    9  ...  \\\n",
       "ISO_A3 Sector                                                          ...   \n",
       "ALB    3       42.007797  0.0  0.0  0.0  0.0  0.0  0.0  0.0  0.0  0.0  ...   \n",
       "DZA    3       31.360946  0.0  0.0  0.0  0.0  0.0  0.0  0.0  0.0  0.0  ...   \n",
       "AGO    3       29.972754  0.0  0.0  0.0  0.0  0.0  0.0  0.0  0.0  0.0  ...   \n",
       "ARG    3       23.181375  0.0  0.0  0.0  0.0  0.0  0.0  0.0  0.0  0.0  ...   \n",
       "ARM    3       30.523255  0.0  0.0  0.0  0.0  0.0  0.0  0.0  0.0  0.0  ...   \n",
       "\n",
       "                    357       358       359       360       361       362  \\\n",
       "ISO_A3 Sector                                                               \n",
       "ALB    3       0.000000  0.000000  0.000000  0.000000  0.000000  0.000000   \n",
       "DZA    3      -0.407000 -0.407000 -0.407000 -0.407000 -0.407000 -0.407000   \n",
       "AGO    3      -0.394429 -0.394429 -0.394429 -0.394429 -0.394429 -0.394429   \n",
       "ARG    3      -0.447951 -0.447951 -0.447951 -0.447951 -0.447951 -0.447951   \n",
       "ARM    3       0.000000  0.000000  0.000000  0.000000  0.000000  0.000000   \n",
       "\n",
       "                    363       364       365       366  \n",
       "ISO_A3 Sector                                          \n",
       "ALB    3       0.000000  0.000000  0.000000  0.000000  \n",
       "DZA    3      -0.407000 -0.407000 -0.407000 -0.407000  \n",
       "AGO    3      -0.394429 -0.394429 -0.394429 -0.394429  \n",
       "ARG    3      -0.447951 -0.447951 -0.447951 -0.447951  \n",
       "ARM    3       0.000000  0.000000  0.000000  0.000000  \n",
       "\n",
       "[5 rows x 367 columns]"
      ]
     },
     "execution_count": 10,
     "metadata": {},
     "output_type": "execute_result"
    }
   ],
   "source": [
    "blip_factors_multi.set_index(blip_factors_multi.columns[:2].to_list(), drop=True, inplace=True)\n",
    "blip_factors_multi.head()"
   ]
  },
  {
   "cell_type": "code",
   "execution_count": 11,
   "metadata": {},
   "outputs": [],
   "source": [
    "# We want to average the two sets of sector 4 together in the right ratio\n",
    "for country in blip_factors_multi.index.get_level_values(\"ISO_A3\").unique():\n",
    "    if (country, 4) in blip_factors_multi.index and (country, -4) in blip_factors_multi.index:\n",
    "        blip_factors_multi.loc[country, 4] = (\n",
    "            blip_factors_multi.loc[country, 4].values * \n",
    "            blip_factors_multi[\"Base%\"][country, 4] + \n",
    "            blip_factors_multi.loc[country, -4].values * blip_factors_multi[\"Base%\"][country, -4]\n",
    "            ) / (\n",
    "                blip_factors_multi[\"Base%\"][country, 4] + blip_factors_multi[\"Base%\"][country, -4]\n",
    "            )\n",
    "        blip_factors_multi[\"Base%\"][country, 4] = blip_factors_multi[\"Base%\"][country, 4] + \\\n",
    "            blip_factors_multi[\"Base%\"][country, -4]\n",
    "        blip_factors_multi.drop((country, -4), inplace=True)\n",
    "    elif (country, -4) in blip_factors_multi.index:\n",
    "        blip_factors_multi.loc[country, 4] = blip_factors_multi.loc[country, -4]\n",
    "    elif (country, 4) in blip_factors_multi.index:\n",
    "        continue\n",
    "    else:\n",
    "        print(\"no data for {}\".format(country))"
   ]
  },
  {
   "cell_type": "code",
   "execution_count": 12,
   "metadata": {},
   "outputs": [],
   "source": [
    "# Test that this produces the right answers\n",
    "example_factor = blip_factors[\n",
    "    (blip_factors[\"ISO_A3\"] == \"GBR\") & (blip_factors[\"Sector\"].isin([\"residential\", \"public/commercial\"]))\n",
    "][[\"Base%\", \"100\"]]\n",
    "assert np.isclose(blip_factors_multi.loc[\"GBR\", 4][100], sum(\n",
    "    example_factor[\"Base%\"] * example_factor[\"100\"]) / sum(example_factor[\"Base%\"])\n",
    ")"
   ]
  },
  {
   "cell_type": "markdown",
   "metadata": {},
   "source": [
    "## Derive country and date relation\n",
    "We need to assign each lat/long a country. This is slightly complicated by the country index being 2 letters in the inverse geocoder but 3 letters in our data."
   ]
  },
  {
   "cell_type": "code",
   "execution_count": 13,
   "metadata": {},
   "outputs": [],
   "source": [
    "lat, lon = nox_0.variables[\"lat\"][:], co2_0_air.variables[\"lon\"][:]"
   ]
  },
  {
   "cell_type": "code",
   "execution_count": 14,
   "metadata": {},
   "outputs": [],
   "source": [
    "convert_countries_dict = {convert_countries[\"A2 (ISO)\"][i]: convert_countries[\"A3 (UN)\"][i] for i in convert_countries.index}\n",
    "coords = []\n",
    "lon_length = len(lon)\n",
    "for latperm in lat:\n",
    "    coords = coords + list(zip([latperm] * lon_length, lon))"
   ]
  },
  {
   "cell_type": "code",
   "execution_count": 15,
   "metadata": {},
   "outputs": [
    {
     "name": "stdout",
     "output_type": "stream",
     "text": [
      "Loading formatted geocoded file...\n"
     ]
    }
   ],
   "source": [
    "results = rg.search(coords)"
   ]
  },
  {
   "cell_type": "code",
   "execution_count": 16,
   "metadata": {},
   "outputs": [],
   "source": [
    "lat_countries_dict = {coords[i]: convert_countries_dict[results[i][\"cc\"]] for i in range(len(coords)) \n",
    "                      if results[i][\"cc\"] in convert_countries_dict.keys()}"
   ]
  },
  {
   "cell_type": "markdown",
   "metadata": {},
   "source": [
    "Now we must relate the dates. blip_factors uses days from 2020-01-01, and has values for every day. The netCDFs use days since 2015-01-01, which is 5 * 365 + 1 days later and monthly. "
   ]
  },
  {
   "cell_type": "code",
   "execution_count": 17,
   "metadata": {},
   "outputs": [
    {
     "data": {
      "text/plain": [
       "1826"
      ]
     },
     "execution_count": 17,
     "metadata": {},
     "output_type": "execute_result"
    }
   ],
   "source": [
    "date_dif = 5 * 365 + 1\n",
    "date_dif"
   ]
  },
  {
   "cell_type": "code",
   "execution_count": 18,
   "metadata": {},
   "outputs": [],
   "source": [
    "netCDF_times = nox_0.variables[\"time\"][:]\n",
    "netCDF_tseries = pd.Series(netCDF_times)\n",
    "bliptimes = blip_factors_multi.columns[blip_factors_multi.columns != \"Base%\"]\n",
    "bliptimes = pd.Series(pd.to_numeric(bliptimes))"
   ]
  },
  {
   "cell_type": "code",
   "execution_count": 19,
   "metadata": {},
   "outputs": [],
   "source": [
    "time_dict = {}\n",
    "remaining_times = bliptimes.copy()\n",
    "mappable_times = netCDF_tseries[(netCDF_tseries > date_dif) & (netCDF_tseries < date_dif + max(bliptimes))]\n",
    "for t in mappable_times.index[:-1]:\n",
    "    closeTimes = [bliptime for bliptime in remaining_times if (\n",
    "        0.5 * (mappable_times[t + 1] + mappable_times[t]) - date_dif > bliptime\n",
    "    )]\n",
    "    time_dict[mappable_times[t]] = closeTimes\n",
    "    remaining_times = remaining_times[~remaining_times.isin(closeTimes)]\n",
    "time_dict[mappable_times.iloc[-1]] = list(remaining_times)"
   ]
  },
  {
   "cell_type": "code",
   "execution_count": 20,
   "metadata": {},
   "outputs": [],
   "source": [
    "blip_factors_av = pd.DataFrame(index=blip_factors_multi.index, columns=time_dict.keys())\n",
    "for key, val in time_dict.items():\n",
    "    blip_factors_av[key] = blip_factors_multi[list(str(v) for v in val)].mean(axis=1)\n",
    "    #blip_factors_av = blip_factors_multi"
   ]
  },
  {
   "cell_type": "markdown",
   "metadata": {},
   "source": [
    "## Perform the emissions blip\n",
    "We now have a mapping between times "
   ]
  },
  {
   "cell_type": "markdown",
   "metadata": {},
   "source": [
    "## SANDBOX"
   ]
  },
  {
   "cell_type": "code",
   "execution_count": null,
   "metadata": {},
   "outputs": [],
   "source": []
  },
  {
   "cell_type": "code",
   "execution_count": null,
   "metadata": {},
   "outputs": [],
   "source": []
  },
  {
   "cell_type": "code",
   "execution_count": 23,
   "metadata": {},
   "outputs": [],
   "source": []
  }
 ],
 "metadata": {
  "kernelspec": {
   "display_name": "Python 3",
   "language": "python",
   "name": "python3"
  },
  "language_info": {
   "codemirror_mode": {
    "name": "ipython",
    "version": 3
   },
   "file_extension": ".py",
   "mimetype": "text/x-python",
   "name": "python",
   "nbconvert_exporter": "python",
   "pygments_lexer": "ipython3",
   "version": "3.7.6"
  }
 },
 "nbformat": 4,
 "nbformat_minor": 4
}
